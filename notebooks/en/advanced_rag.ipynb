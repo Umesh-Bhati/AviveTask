{
  "cells": [
    {
      "cell_type": "markdown",
      "metadata": {
        "id": "view-in-github",
        "colab_type": "text"
      },
      "source": [
        "<a href=\"https://colab.research.google.com/github/Umesh-Bhati/AviveTask/blob/main/notebooks/en/advanced_rag.ipynb\" target=\"_parent\"><img src=\"https://colab.research.google.com/assets/colab-badge.svg\" alt=\"Open In Colab\"/></a>"
      ]
    },
    {
      "cell_type": "markdown",
      "metadata": {
        "id": "hUCaGdAj9-9F"
      },
      "source": [
        "# Advanced RAG on Hugging Face documentation using LangChain\n",
        "_Authored by: [Aymeric Roucher](https://huggingface.co/m-ric)_"
      ]
    },
    {
      "cell_type": "markdown",
      "metadata": {
        "id": "DKv51c_h9-9H"
      },
      "source": [
        "This notebook demonstrates how you can build an advanced RAG (Retrieval Augmented Generation) for answering a user's question about a specific knowledge base (here, the HuggingFace documentation), using LangChain.\n",
        "\n",
        "For an introduction to RAG, you can check [this other cookbook](rag_zephyr_langchain)!\n",
        "\n",
        "RAG systems are complex, with many moving parts: here is a RAG diagram, where we noted in blue all possibilities for system enhancement:\n",
        "\n",
        "<img src=\"https://huggingface.co/datasets/huggingface/cookbook-images/resolve/main/RAG_workflow.png\" height=\"700\">\n",
        "\n",
        "> 💡 As you can see, there are many steps to tune in this architecture: tuning the system properly will yield significant performance gains.\n",
        "\n",
        "In this notebook, we will take a look into many of these blue notes to see how to tune your RAG system and get the best performance.\n",
        "\n",
        "__Let's dig into the model building!__ First, we install the required model dependencies."
      ]
    },
    {
      "cell_type": "code",
      "execution_count": 2,
      "metadata": {
        "id": "NSX0p0rV9-9I"
      },
      "outputs": [],
      "source": [
        "!pip install -q torch transformers accelerate bitsandbytes langchain sentence-transformers faiss-cpu openpyxl pacmap langchain-community ragatouille"
      ]
    },
    {
      "cell_type": "code",
      "execution_count": 4,
      "metadata": {
        "id": "eoujYMwW9-9J"
      },
      "outputs": [],
      "source": [
        "from tqdm.notebook import tqdm\n",
        "import pandas as pd\n",
        "from typing import Optional, List, Tuple\n",
        "import matplotlib.pyplot as plt\n",
        "\n",
        "pd.set_option(\n",
        "    \"display.max_colwidth\", None\n",
        ")  # This will be helpful when visualizing retriever outputs"
      ]
    },
    {
      "cell_type": "markdown",
      "metadata": {
        "id": "Kr6rN10U9-9J"
      },
      "source": [
        "### Load your knowledge base"
      ]
    },
    {
      "cell_type": "code",
      "execution_count": 5,
      "metadata": {
        "id": "qZLVIEVW9-9J"
      },
      "outputs": [],
      "source": [
        "file_path = \"./test.md\"\n",
        "\n",
        "# Open and read the Markdown file\n",
        "with open(file_path, \"r\", encoding=\"utf-8\") as f:\n",
        "    md_text = f.read()"
      ]
    },
    {
      "cell_type": "code",
      "execution_count": 6,
      "metadata": {
        "id": "836Q7vF49-9K"
      },
      "outputs": [],
      "source": [
        "from langchain.docstore.document import Document as LangchainDocument\n",
        "\n",
        "document = LangchainDocument(page_content=md_text, metadata={\"source\": file_path})\n",
        "\n",
        "\n",
        "RAW_KNOWLEDGE_BASE = [document]"
      ]
    },
    {
      "cell_type": "markdown",
      "metadata": {
        "id": "0_LxjD5h9-9K"
      },
      "source": [
        "# 1. Retriever - embeddings 🗂️\n",
        "The __retriever acts like an internal search engine__: given the user query, it returns a few relevant snippets from your knowledge base.\n",
        "\n",
        "These snippets will then be fed to the Reader Model to help it generate its answer.\n",
        "\n",
        "So __our objective here is, given a user question, to find the most relevant snippets from our knowledge base to answer that question.__\n",
        "\n",
        "This is a wide objective, it leaves open some questions. How many snippets should we retrieve? This parameter will be named `top_k`.\n",
        "\n",
        "How long should these snippets be? This is called the `chunk size`. There's no one-size-fits-all answers, but here are a few elements:\n",
        "- 🔀 Your `chunk size` is allowed to vary from one snippet to the other.\n",
        "- Since there will always be some noise in your retrieval, increasing the `top_k` increases the chance to get relevant elements in your retrieved snippets. 🎯 Shooting more arrows increases your probability of hitting your target.\n",
        "- Meanwhile, the summed length of your retrieved documents should not be too high: for instance, for most current models 16k tokens will probably drown your Reader model in information due to [Lost-in-the-middle phenomenon](https://huggingface.co/papers/2307.03172). 🎯 Give your reader model only the most relevant insights, not a huge pile of books!\n",
        "\n",
        "\n",
        "> In this notebook, we use Langchain library since __it offers a huge variety of options for vector databases and allows us to keep document metadata throughout the processing__."
      ]
    },
    {
      "cell_type": "markdown",
      "metadata": {
        "id": "-uS6Mv8O9-9L"
      },
      "source": [
        "### 1.1 Split the documents into chunks\n",
        "\n",
        "- In this part, __we split the documents from our knowledge base into smaller chunks__ which will be the snippets on which the reader LLM will base its answer.\n",
        "- The goal is to prepare a collection of **semantically relevant snippets**. So their size should be adapted to precise ideas: too small will truncate ideas, and too large will dilute them.\n",
        "\n",
        "💡 _Many options exist for text splitting: splitting on words, on sentence boundaries, recursive chunking that processes documents in a tree-like way to preserve structure information... To learn more about chunking, I recommend you read [this great notebook](https://github.com/FullStackRetrieval-com/RetrievalTutorials/blob/main/tutorials/LevelsOfTextSplitting/5_Levels_Of_Text_Splitting.ipynb) by Greg Kamradt._\n",
        "\n",
        "\n",
        "- **Recursive chunking** breaks down the text into smaller parts step by step using a given list of separators sorted from the most important to the least important separator. If the first split doesn't give the right size or shape of chunks, the method repeats itself on the new chunks using a different separator. For instance with the list of separators `[\"\\n\\n\", \"\\n\", \".\", \"\"]`:\n",
        "    - The method will first break down the document wherever there is a double line break `\"\\n\\n\"`.\n",
        "    - Resulting documents will be split again on simple line breaks `\"\\n\"`, then on sentence ends `\".\"`.\n",
        "    - Finally, if some chunks are still too big, they will be split whenever they overflow the maximum size.\n",
        "\n",
        "- With this method, the global structure is well preserved, at the expense of getting slight variations in chunk size.\n",
        "\n",
        "> [This space](https://huggingface.co/spaces/A-Roucher/chunk_visualizer) lets you visualize how different splitting options affect the chunks you get.\n",
        "\n",
        "🔬 Let's experiment a bit with chunk sizes, beginning with an arbitrary size, and see how splits work. We use Langchain's implementation of recursive chunking with `RecursiveCharacterTextSplitter`.\n",
        "- Parameter `chunk_size` controls the length of individual chunks: this length is counted by default as the number of characters in the chunk.\n",
        "- Parameter `chunk_overlap` lets adjacent chunks get a bit of overlap on each other. This reduces the probability that an idea could be cut in half by the split between two adjacent chunks. We ~arbitrarily set this to 1/10th of the chunk size, you could try different values!"
      ]
    },
    {
      "cell_type": "code",
      "execution_count": 7,
      "metadata": {
        "id": "M4m6TwDJ9-9L"
      },
      "outputs": [],
      "source": [
        "from langchain.text_splitter import RecursiveCharacterTextSplitter\n",
        "\n",
        "# We use a hierarchical list of separators specifically tailored for splitting Markdown documents\n",
        "# This list is taken from LangChain's MarkdownTextSplitter class\n",
        "MARKDOWN_SEPARATORS = [\n",
        "    \"\\n#{1,6} \",\n",
        "    \"```\\n\",\n",
        "    \"\\n\\\\*\\\\*\\\\*+\\n\",\n",
        "    \"\\n---+\\n\",\n",
        "    \"\\n___+\\n\",\n",
        "    \"\\n\\n\",\n",
        "    \"\\n\",\n",
        "    \" \",\n",
        "    \"\",\n",
        "]\n",
        "\n",
        "text_splitter = RecursiveCharacterTextSplitter(\n",
        "    chunk_size=1000,  # The maximum number of characters in a chunk: we selected this value arbitrarily\n",
        "    chunk_overlap=100,  # The number of characters to overlap between chunks\n",
        "    add_start_index=True,  # If `True`, includes chunk's start index in metadata\n",
        "    strip_whitespace=True,  # If `True`, strips whitespace from the start and end of every document\n",
        "    separators=MARKDOWN_SEPARATORS,\n",
        ")\n",
        "\n",
        "docs_processed = []\n",
        "for doc in RAW_KNOWLEDGE_BASE:\n",
        "    docs_processed += text_splitter.split_documents([doc])"
      ]
    },
    {
      "cell_type": "markdown",
      "metadata": {
        "id": "d5jJUMgb9-9M"
      },
      "source": [
        "We also have to keep in mind that when embedding documents, we will use an embedding model that accepts a certain maximum sequence length `max_seq_length`.\n",
        "\n",
        "So we should make sure that our chunk sizes are below this limit because any longer chunk will be truncated before processing, thus losing relevancy."
      ]
    },
    {
      "source": [
        "!pip install huggingface_hub"
      ],
      "cell_type": "code",
      "metadata": {
        "id": "vOxn-_EyLIqq",
        "outputId": "e069c7d5-4a53-4a20-d385-4796c6816754",
        "colab": {
          "base_uri": "https://localhost:8080/"
        }
      },
      "execution_count": 8,
      "outputs": [
        {
          "output_type": "stream",
          "name": "stdout",
          "text": [
            "Requirement already satisfied: huggingface_hub in /usr/local/lib/python3.11/dist-packages (0.28.1)\n",
            "Requirement already satisfied: filelock in /usr/local/lib/python3.11/dist-packages (from huggingface_hub) (3.17.0)\n",
            "Requirement already satisfied: fsspec>=2023.5.0 in /usr/local/lib/python3.11/dist-packages (from huggingface_hub) (2024.10.0)\n",
            "Requirement already satisfied: packaging>=20.9 in /usr/local/lib/python3.11/dist-packages (from huggingface_hub) (24.2)\n",
            "Requirement already satisfied: pyyaml>=5.1 in /usr/local/lib/python3.11/dist-packages (from huggingface_hub) (6.0.2)\n",
            "Requirement already satisfied: requests in /usr/local/lib/python3.11/dist-packages (from huggingface_hub) (2.32.3)\n",
            "Requirement already satisfied: tqdm>=4.42.1 in /usr/local/lib/python3.11/dist-packages (from huggingface_hub) (4.67.1)\n",
            "Requirement already satisfied: typing-extensions>=3.7.4.3 in /usr/local/lib/python3.11/dist-packages (from huggingface_hub) (4.12.2)\n",
            "Requirement already satisfied: charset-normalizer<4,>=2 in /usr/local/lib/python3.11/dist-packages (from requests->huggingface_hub) (3.4.1)\n",
            "Requirement already satisfied: idna<4,>=2.5 in /usr/local/lib/python3.11/dist-packages (from requests->huggingface_hub) (3.10)\n",
            "Requirement already satisfied: urllib3<3,>=1.21.1 in /usr/local/lib/python3.11/dist-packages (from requests->huggingface_hub) (2.3.0)\n",
            "Requirement already satisfied: certifi>=2017.4.17 in /usr/local/lib/python3.11/dist-packages (from requests->huggingface_hub) (2025.1.31)\n"
          ]
        }
      ]
    },
    {
      "cell_type": "code",
      "source": [
        "!huggingface-cli login\n"
      ],
      "metadata": {
        "id": "d5caM9jWLNpc",
        "outputId": "cd88fcf5-edf0-4e6c-b85b-7e1d957ddf4d",
        "colab": {
          "base_uri": "https://localhost:8080/"
        }
      },
      "execution_count": 11,
      "outputs": [
        {
          "output_type": "stream",
          "name": "stdout",
          "text": [
            "\n",
            "    _|    _|  _|    _|    _|_|_|    _|_|_|  _|_|_|  _|      _|    _|_|_|      _|_|_|_|    _|_|      _|_|_|  _|_|_|_|\n",
            "    _|    _|  _|    _|  _|        _|          _|    _|_|    _|  _|            _|        _|    _|  _|        _|\n",
            "    _|_|_|_|  _|    _|  _|  _|_|  _|  _|_|    _|    _|  _|  _|  _|  _|_|      _|_|_|    _|_|_|_|  _|        _|_|_|\n",
            "    _|    _|  _|    _|  _|    _|  _|    _|    _|    _|    _|_|  _|    _|      _|        _|    _|  _|        _|\n",
            "    _|    _|    _|_|      _|_|_|    _|_|_|  _|_|_|  _|      _|    _|_|_|      _|        _|    _|    _|_|_|  _|_|_|_|\n",
            "\n",
            "    A token is already saved on your machine. Run `huggingface-cli whoami` to get more information or `huggingface-cli logout` if you want to log out.\n",
            "    Setting a new token will erase the existing one.\n",
            "    To log in, `huggingface_hub` requires a token generated from https://huggingface.co/settings/tokens .\n",
            "Enter your token (input will not be visible): \n",
            "Add token as git credential? (Y/n) n\n",
            "Token is valid (permission: fineGrained).\n",
            "The token `test` has been saved to /root/.cache/huggingface/stored_tokens\n",
            "Your token has been saved to /root/.cache/huggingface/token\n",
            "Login successful.\n",
            "The current active token is: `test`\n"
          ]
        }
      ]
    },
    {
      "cell_type": "code",
      "execution_count": 8,
      "metadata": {
        "colab": {
          "referenced_widgets": [
            "175d08d781614c239822a00c2ecad1ee",
            "ff97ad98e39a46558d5071c3b65c1bd5",
            "e7da43cd62ff411196af5dfe9479799f",
            "217bba375b584ed2b1f4387b5b7ef772",
            "98538ae254a540e683291a59eda163e2",
            "51ba5c694b6644d3ae31b33c27886f5d",
            "a4d1599f64714c5bae1573b73cc80c55",
            "568e0df9a7da4fe2854f36b801732d56",
            "777230377e834b3d8dafec79d4732d9b",
            "0593ee1395be48d8b9efbbeba6b507ff",
            "e559f3f0c50a43c38e0888960b790118"
          ],
          "base_uri": "https://localhost:8080/",
          "height": 502
        },
        "id": "B4hoki349-9M",
        "outputId": "eb7c1f46-0af3-4ac9-b08d-cf9d689eb83a"
      },
      "outputs": [
        {
          "output_type": "stream",
          "name": "stdout",
          "text": [
            "Model's maximum sequence length: 512\n"
          ]
        },
        {
          "output_type": "display_data",
          "data": {
            "text/plain": [
              "  0%|          | 0/846 [00:00<?, ?it/s]"
            ],
            "application/vnd.jupyter.widget-view+json": {
              "version_major": 2,
              "version_minor": 0,
              "model_id": "175d08d781614c239822a00c2ecad1ee"
            }
          },
          "metadata": {}
        },
        {
          "output_type": "display_data",
          "data": {
            "text/plain": [
              "<Figure size 640x480 with 1 Axes>"
            ],
            "image/png": "[encoded data removed]"
          },
          "metadata": {}
        }
      ],
      "source": [
        "from sentence_transformers import SentenceTransformer\n",
        "\n",
        "model = SentenceTransformer(\"thenlper/gte-small\")\n",
        "\n",
        "# To get the value of the max sequence_length, we will query the underlying `SentenceTransformer` object used in the RecursiveCharacterTextSplitter\n",
        "print(\n",
        "    f\"Model's maximum sequence length: {model.max_seq_length}\"\n",
        ")\n",
        "\n",
        "from transformers import AutoTokenizer\n",
        "\n",
        "tokenizer = AutoTokenizer.from_pretrained(\"thenlper/gte-small\")\n",
        "lengths = [len(tokenizer.encode(doc.page_content)) for doc in tqdm(docs_processed)]\n",
        "\n",
        "# Plot the distribution of document lengths, counted as the number of tokens\n",
        "fig = pd.Series(lengths).hist()\n",
        "plt.title(\"Distribution of document lengths in the knowledge base (in count of tokens)\")\n",
        "plt.show()"
      ]
    },
    {
      "cell_type": "markdown",
      "metadata": {
        "id": "L3teXczl9-9M"
      },
      "source": [
        "👀 As you can see, __the chunk lengths are not aligned with our limit of 512 tokens__, and some documents are above the limit, thus some part of them will be lost in truncation!\n",
        " - So we should change the `RecursiveCharacterTextSplitter` class to count length in number of tokens instead of number of characters.\n",
        " - Then we can choose a specific chunk size, here we would choose a lower threshold than 512:\n",
        "    - Smaller documents could allow the split to focus more on specific ideas.\n",
        "    - But too small chunks would split sentences in half, thus losing meaning again: the proper tuning is a matter of balance."
      ]
    },
    {
      "cell_type": "code",
      "execution_count": 9,
      "metadata": {
        "colab": {
          "referenced_widgets": [
            "997ac0fb45304cc9b3a26e0b212bcdd2",
            "51db8b4451ba46e6bbfd7f6b679364b0",
            "1892c5a17f7a439685a2f68b7615b4ed",
            "9003c940ce8b4b36804890641c88c1d6",
            "00bc82097d1f430097cc814074acc58a",
            "2f95b471d39d42e7a0a3f48d9bc3a81f",
            "68c96da3981e42868480d971d8cef1b2",
            "5d0582cafc1b49ed9e59ba40d042758f",
            "aeb6dfc9610f42e68e88c5931182ac8e",
            "0a0ca504548a4d159a7da06f0d875bce",
            "87a4aa3754964d04a9722a975703f795"
          ],
          "base_uri": "https://localhost:8080/",
          "height": 484
        },
        "id": "9hvIL2jO9-9M",
        "outputId": "ca92637c-5015-46ee-91cc-b179bee8d2fb"
      },
      "outputs": [
        {
          "output_type": "display_data",
          "data": {
            "text/plain": [
              "  0%|          | 0/617 [00:00<?, ?it/s]"
            ],
            "application/vnd.jupyter.widget-view+json": {
              "version_major": 2,
              "version_minor": 0,
              "model_id": "997ac0fb45304cc9b3a26e0b212bcdd2"
            }
          },
          "metadata": {}
        },
        {
          "output_type": "display_data",
          "data": {
            "text/plain": [
              "<Figure size 640x480 with 1 Axes>"
            ],
            "image/png": "[encoded data removed]"
          },
          "metadata": {}
        }
      ],
      "source": [
        "from langchain.text_splitter import RecursiveCharacterTextSplitter\n",
        "from transformers import AutoTokenizer\n",
        "\n",
        "EMBEDDING_MODEL_NAME = \"thenlper/gte-small\"\n",
        "\n",
        "\n",
        "def split_documents(\n",
        "    chunk_size: int,\n",
        "    knowledge_base: List[LangchainDocument],\n",
        "    tokenizer_name: Optional[str] = EMBEDDING_MODEL_NAME,\n",
        ") -> List[LangchainDocument]:\n",
        "    \"\"\"\n",
        "    Split documents into chunks of maximum size `chunk_size` tokens and return a list of documents.\n",
        "    \"\"\"\n",
        "    text_splitter = RecursiveCharacterTextSplitter.from_huggingface_tokenizer(\n",
        "        AutoTokenizer.from_pretrained(tokenizer_name),\n",
        "        chunk_size=chunk_size,\n",
        "        chunk_overlap=int(chunk_size / 10),\n",
        "        add_start_index=True,\n",
        "        strip_whitespace=True,\n",
        "        separators=MARKDOWN_SEPARATORS,\n",
        "    )\n",
        "\n",
        "    docs_processed = []\n",
        "    for doc in knowledge_base:\n",
        "        docs_processed += text_splitter.split_documents([doc])\n",
        "\n",
        "    # Remove duplicates\n",
        "    unique_texts = {}\n",
        "    docs_processed_unique = []\n",
        "    for doc in docs_processed:\n",
        "        if doc.page_content not in unique_texts:\n",
        "            unique_texts[doc.page_content] = True\n",
        "            docs_processed_unique.append(doc)\n",
        "\n",
        "    return docs_processed_unique\n",
        "\n",
        "\n",
        "docs_processed = split_documents(\n",
        "    512,  # We choose a chunk size adapted to our model\n",
        "    RAW_KNOWLEDGE_BASE,\n",
        "    tokenizer_name=EMBEDDING_MODEL_NAME,\n",
        ")\n",
        "\n",
        "# Let's visualize the chunk sizes we would have in tokens from a common model\n",
        "from transformers import AutoTokenizer\n",
        "\n",
        "tokenizer = AutoTokenizer.from_pretrained(EMBEDDING_MODEL_NAME)\n",
        "lengths = [len(tokenizer.encode(doc.page_content)) for doc in tqdm(docs_processed)]\n",
        "fig = pd.Series(lengths).hist()\n",
        "plt.title(\"Distribution of document lengths in the knowledge base (in count of tokens)\")\n",
        "plt.show()"
      ]
    },
    {
      "cell_type": "markdown",
      "metadata": {
        "id": "Wc3riwX39-9M"
      },
      "source": [
        "➡️ Now the chunk length distribution looks better!"
      ]
    },
    {
      "cell_type": "markdown",
      "metadata": {
        "id": "J1ho-UKM9-9M"
      },
      "source": [
        "### 1.2 Building the vector database\n",
        "\n",
        "We want to compute the embeddings for all the chunks of our knowledge base: to learn more about sentence embeddings, we recommend reading [this guide](https://osanseviero.github.io/hackerllama/blog/posts/sentence_embeddings/).\n",
        "\n",
        "#### How does retrieval work?\n",
        "\n",
        "Once the chunks are all embedded, we store them in a vector database. When the user types in a query, it gets embedded by the same model previously used, and a similarity search returns the closest documents from the vector database.\n",
        "\n",
        "The technical challenge is thus, given a query vector, to quickly find the nearest neighbors of this vector in the vector database. To do this, we need to choose two things: a distance, and a search algorithm to find the nearest neighbors quickly within a database of thousands of records.\n",
        "\n",
        "##### Nearest Neighbor search algorithm\n",
        "\n",
        "There are plentiful choices for the nearest neighbor search algorithm: we go with Facebook's [FAISS](https://github.com/facebookresearch/faiss) since FAISS is performant enough for most use cases, and it is well known and thus widely implemented.\n",
        "\n",
        "##### Distances\n",
        "\n",
        "Regarding distances, you can find a good guide [here](https://osanseviero.github.io/hackerllama/blog/posts/sentence_embeddings/#distance-between-embeddings). In short:\n",
        "\n",
        "- **Cosine similarity** computes the similarity between two vectors as the cosinus of their relative angle: it allows us to compare vector directions regardless of their magnitude. Using it requires normalizing all vectors, to rescale them into unit norm.\n",
        "- **Dot product** takes into account magnitude, with the sometimes undesirable effect that increasing a vector's length will make it more similar to all others.\n",
        "- **Euclidean distance** is the distance between the ends of vectors.\n",
        "\n",
        "You can try [this small exercise](https://developers.google.com/machine-learning/clustering/similarity/check-your-understanding) to check your understanding of these concepts. But once vectors are normalized, [the choice of a specific distance does not matter much](https://platform.openai.com/docs/guides/embeddings/which-distance-function-should-i-use).\n",
        "\n",
        "Our particular model works well with cosine similarity, so choose this distance, and we set it up both in the Embedding model, and in the `distance_strategy` argument of our FAISS index. With cosine similarity, we have to normalize our embeddings.\n",
        "\n",
        "🚨👇 The cell below takes a few minutes to run on A10G!"
      ]
    },
    {
      "cell_type": "code",
      "source": [
        "pip install -U langchain-huggingface"
      ],
      "metadata": {
        "collapsed": true,
        "id": "HLNthb2w33bd"
      },
      "execution_count": null,
      "outputs": []
    },
    {
      "cell_type": "code",
      "execution_count": 13,
      "metadata": {
        "id": "dalledM99-9M"
      },
      "outputs": [],
      "source": [
        "from langchain.vectorstores import FAISS\n",
        "from langchain_huggingface import HuggingFaceEmbeddings\n",
        "from langchain_community.vectorstores.utils import DistanceStrategy\n",
        "\n",
        "embedding_model = HuggingFaceEmbeddings(\n",
        "    model_name=EMBEDDING_MODEL_NAME,\n",
        "    multi_process=True,\n",
        "    model_kwargs={\"device\": \"cpu\"},\n",
        "    encode_kwargs={\"normalize_embeddings\": True},  # Set `True` for cosine similarity\n",
        ")\n",
        "\n",
        "KNOWLEDGE_VECTOR_DATABASE = FAISS.from_documents(\n",
        "    docs_processed, embedding_model, distance_strategy=DistanceStrategy.COSINE\n",
        ")"
      ]
    },
    {
      "cell_type": "markdown",
      "metadata": {
        "id": "0zM-wfiJ9-9N"
      },
      "source": [
        "👀 To visualize the search for the closest documents, let's project our embeddings from 384 dimensions down to 2 dimensions using PaCMAP.\n",
        "\n",
        "💡 _We chose PaCMAP rather than other techniques such as t-SNE or UMAP, since [it is efficient (preserves local and global structure), robust to initialization parameters and fast](https://www.nature.com/articles/s42003-022-03628-x#Abs1)._"
      ]
    },
    {
      "cell_type": "code",
      "execution_count": null,
      "metadata": {
        "id": "rhvcE3vH9-9N"
      },
      "outputs": [],
      "source": [
        "# Embed a user query in the same space\n",
        "user_query = \"Find entries related to outstanding checks and vouchers as of 6/30/2023\"\n",
        "query_vector = embedding_model.embed_query(user_query)"
      ]
    },
    {
      "cell_type": "code",
      "execution_count": 22,
      "metadata": {
        "id": "l8nz5FYC9-9N",
        "outputId": "1f729ad4-60c3-4dde-da9a-36c39dd48b44",
        "colab": {
          "base_uri": "https://localhost:8080/"
        }
      },
      "outputs": [
        {
          "output_type": "stream",
          "name": "stderr",
          "text": [
            "WARNING:pacmap.pacmap:Warning: random state is set to 1.\n"
          ]
        }
      ],
      "source": [
        "import pacmap\n",
        "import numpy as np\n",
        "import plotly.express as px\n",
        "\n",
        "embedding_projector = pacmap.PaCMAP(\n",
        "    n_components=2, n_neighbors=None, MN_ratio=0.5, FP_ratio=2.0, random_state=1\n",
        ")\n",
        "\n",
        "embeddings_2d = [\n",
        "    list(KNOWLEDGE_VECTOR_DATABASE.index.reconstruct_n(idx, 1)[0])\n",
        "    for idx in range(len(docs_processed))\n",
        "] + [query_vector]\n",
        "\n",
        "# Fit the data (the index of transformed data corresponds to the index of the original data)\n",
        "documents_projected = embedding_projector.fit_transform(\n",
        "    np.array(embeddings_2d), init=\"pca\"\n",
        ")"
      ]
    },
    {
      "cell_type": "code",
      "execution_count": 23,
      "metadata": {
        "id": "7Cl9Fw2A9-9N",
        "outputId": "443410f5-b22b-49a7-b531-61d3242b9eec",
        "colab": {
          "base_uri": "https://localhost:8080/",
          "height": 717
        }
      },
      "outputs": [
        {
          "output_type": "display_data",
          "data": {
            "text/html": [
              "<html>\n",
              "<head><meta charset=\"utf-8\" /></head>\n",
              "<body>\n",
              "    <div>            <script src=\"https://cdnjs.cloudflare.com/ajax/libs/mathjax/2.7.5/MathJax.js?config=TeX-AMS-MML_SVG\"></script><script type=\"text/javascript\">if (window.MathJax && window.MathJax.Hub && window.MathJax.Hub.Config) {window.MathJax.Hub.Config({SVG: {font: \"STIX-Web\"}});}</script>                <script type=\"text/javascript\">window.PlotlyConfig = {MathJaxConfig: 'local'};</script>\n",
              "        <script charset=\"utf-8\" src=\"https://cdn.plot.ly/plotly-2.35.2.min.js\"></script>                <div id=\"f63462b0-030c-4a5f-86bc-405777a3f985\" class=\"plotly-graph-div\" style=\"height:700px; width:1000px;\"></div>            <script type=\"text/javascript\">                                    window.PLOTLYENV=window.PLOTLYENV || {};                                    if (document.getElementById(\"f63462b0-030c-4a5f-86bc-405777a3f985\")) {                    Plotly.newPlot(                        \"f63462b0-030c-4a5f-86bc-405777a3f985\",                        [{\"customdata\":[[\"Sac and Fox Nation\\nReconcile Cash Accounts\\n\\nSummary\\nCash Account: 1060 U.S. Treasury Allocation  \\nRe...\"],[\"| Document Number | Document Date | Document Description          | Document Amount | Payee         ...\"],[\"| 5850            | 1\\u002f4\\u002f2022      | System Generated Check\\u002fVoucher| 500.00          | GIFFIN, JACOB ...\"],[\"**Outstanding Checks\\u002fVouchers**  \\n24,496.29\\nSac and Fox Nation\\nReconcile Cash Accounts\\n\\nDetail\\n\\nCash...\"],[\"| Document Number | Document Date | Document Description       | Document Amount | Payee            ...\"],[\"| 6390            | 10\\u002f5\\u002f2022     | System Generated Check\\u002fVoucher | 424.59         | CDW GOVERNMENT...\"],[\"| 6402            | 10\\u002f14\\u002f2022    | System Generated Check\\u002fVoucher | 4,085.00       | TOMCAT CONSULT...\"],[\"**Reconciliation ID:** US Treasury Allocation #1060 10\\u002f31\\u002f2022  \\n**Reconciliation Date:** 10\\u002f31\\u002f2022...\"],[\"Cash Account: 1060 U.S. Treasury Allocation\\nReconciliation ID: US Treasury Allocation #1060 10\\u002f31\\u002f20...\"],[\"Cleared Other Cash Items\\n\\n$(191,002.37)\\nSummary\\n\\nCash Account: 1060 U.S. Treasury Allocation\\nReconci...\"],[\"| Document Number | Document Date | Document Description               | Document Amount | Payee    ...\"],[\"| 5850            | 1\\u002f4\\u002f2022      | System Generated Check\\u002fVoucher     | 500.00          | GIFFIN, J...\"],[\"**Outstanding Checks\\u002fVouchers**\\n\\n16,000.00\\nSac and Fox Nation\\nReconcile Cash Accounts\\n\\nDetail\\n\\nCash ...\"],[\"| Document Number | Document Date   | Document Description      | Document Amount | Payee           ...\"],[\"| 6423            | 11\\u002f9\\u002f2022       | System Generated Check\\u002fVoucher | 2,200.00       | CAST ROBERT ...\"],[\"Cleared Checks\\u002fVouchers                                                                             ...\"],[\"#### Cleared Other Cash Items\\n\\n| Document Number | Document Date | Document Description | Document D...\"],[\"| Description                                      | Amount       |\\n|-------------------------------...\"],[\"| Document Number | Document Date  | Document Description                  | Document Amount | Payee...\"],[\"| 5850            | 1\\u002f4\\u002f2022       | System Generated Check\\u002fVoucher        | 500.00          | GIFFI...\"],[\"### Outstanding Checks\\u002fVouchers\\n\\n|                       |                  |\\n|---------------------...\"],[\"| Document Number | Document Date | Document Description               | Document Amount | Payee    ...\"],[\"| 6445            | 12\\u002f16\\u002f2022    | System Generated Check\\u002fVoucher     | 527.65          | CDW GOVER...\"],[\"Cleared Checks\\u002fVouchers  \\n69,247.44\\n\\nDate: 2\\u002f15\\u002f23 04:45:55 PM\\n\\nPage: 3\\nSac and Fox Nation  \\nReconci...\"],[\"Cleared Other Cash Items                                           | $(11,833.53)      |\\n| Descripti...\"],[\"| Document Number | Document Date   | Document Description             | Document Amount | Payee    ...\"],[\"| 5850            | 1\\u002f4\\u002f2022        | System Generated Check\\u002fVoucher    | 500.00         | GIFFIN, J...\"],[\"Outstanding Checks\\u002fVouchers: 40,147.00\\n# Sac and Fox Nation\\n\\n## Reconcile Cash Accounts\\n\\n### Cash Ac...\"],[\"| Document Number | Document Date   | Document Description       | Document Amount | Payee          ...\"],[\"| 6464            | 1\\u002f5\\u002f2023        | System Generated Check\\u002fVoucher   | 2,200.00        | CAST ROBE...\"],[\"| 6479            | 1\\u002f13\\u002f2023       | System Generated Check\\u002fVoucher   | 2,123.00        | KINETICO ...\"],[\"**Detail**\\n\\nCash Account: 1060 U.S. Treasury Allocation  \\nReconciliation ID: US Treasury Allocation ...\"],[\"Reconciliation ID: US Treasury Allocation #1060 01\\u002f31\\u002f2023  \\nReconciliation Date: 1\\u002f31\\u002f2023  \\nStatus...\"],[\"Cleared Other Cash Items  \\n942,586.47\\n### Summary\\n\\n**Cash Account: 1060 U.S. Treasury Allocation**  ...\"],[\"| Document Number | Document Date  | Document Description         | Document Amount | Payee         ...\"],[\"| 6062            | 2\\u002f28\\u002f2022      | System Generated Check\\u002fVoucher | 500.00          | GROVES, LAUR...\"],[\"Outstanding Checks\\u002fVouchers: 69,543.56\\nSac and Fox Nation  \\nReconcile Cash Accounts\\n\\nDetail\\n\\nCash Ac...\"],[\"| Document Number | Document Date | Document Description          | Document Amount | Payee         ...\"],[\"| 6491            | 2\\u002f2\\u002f2023      | System Generated Check\\u002fVoucher | 3,012.50        | HARDINS FAMIL...\"],[\"| 6506            | 2\\u002f9\\u002f2023      | System Generated Check\\u002fVoucher | 9,963.00        | CALVIN'S TRAI...\"],[\"Detail\\n\\nCash Account: 1060 U.S. Treasury Allocation\\nReconciliation ID: US Treasury Allocation #1060 ...\"],[\"| Document Number | Document Date | Document Description       | Document Amount | Payee            ...\"],[\"| 6522            | 2\\u002f23\\u002f2023     | System Generated Check\\u002fVoucher | 5,508.75        | SCHNEITER DON...\"],[\"Cleared Checks\\u002fVouchers: 106,576.67\\nSac and Fox Nation\\nReconcile Cash Accounts\\n\\n**Detail**\\n\\n**Cash A...\"],[\"**Cleared Other Cash Items**\\n\\n| Document Number | Document Date | Document Description | Document Am...\"],[\"17,628.33\\nCash Account: 1060 U.S. Treasury Allocation  \\nReconciliation ID: US TREASURY ALLOCATION #1...\"],[\"| Document Number | Document Date | Document Description       | Document Amount | Payee            ...\"],[\"---\\n\\nOutstanding Checks\\u002fVouchers  \\n41,699.65\\n## Outstanding Other Cash Items\\n\\n| Document Number | Do...\"],[\"Outstanding Suspense Items\\n\\n(1,907.71)\\n\\nDate: 4\\u002f18\\u002f23 04:14:53 PM\\n# Reconcile Cash Accounts\\n\\n**Recon...\"],[\"| Document Number | Document Date | Document Description                | Document Amount | Payee   ...\"],[\"| 6528            | 3\\u002f2\\u002f2023      | System Generated Check\\u002fVoucher      | 1,250.00        | C & S PL...\"],[\"| 6539            | 3\\u002f9\\u002f2023      | System Generated Check\\u002fVoucher      | 7,904.38        | BERNARD,...\"],[\"**Cash Account:** 1060 U.S. Treasury Allocation  \\n**Reconciliation ID:** US TREASURY ALLOCATION #106...\"],[\"| Document Number | Date      | Description                        | Amount  | Payee                ...\"],[\"| 6552            | 3\\u002f16\\u002f2023 | System Generated Check\\u002fVoucher     | 7,200.00| VISION CONSTRUCTION A...\"],[\"6566\\n\\n3\\u002f23\\u002f2023  | System Generated Check\\u002fVoucher     | 3,341.00| LINN'S PLUMBING      |\\nSac and Fox...\"],[\"Cleared Checks\\u002fVouchers\\n\\n| Document Number | Document Date | Document Description       | Document A...\"],[\"Cleared Checks\\u002fVouchers: 286,427.55\\n### Cash Account: 1060 U.S. Treasury Allocation\\n\\n**Reconciliatio...\"],[\"| Document Number | Document Date | Document Description | Document Amount  |\\n|-----------------|---...\"],[\"| JV-15-6226      | 3\\u002f31\\u002f2023     | TO RECORD CLEARINGS AT 3.31.2023 170 | 0.00            |\\n| JV-15...\"],[\"**Cleared Other Cash Items**: \\n\\n(117,148.07)\\n\\n---\\nSummary\\n\\nCash Account: 1060 U.S. Treasury Allocati...\"],[\"| Document Number | Document Date | Document Description                  | Document Amount | Payee ...\"],[\"| 6626            | 4\\u002f21\\u002f2023     | System Generated Check\\u002fVoucher        | 350.00          | FRANKL...\"],[\"| 6700            | 4\\u002f21\\u002f2023     | System Generated Check\\u002fVoucher        | 350.00          | WILBUR...\"],[\"**Detail**\\n\\n**Cash Account:** 1060 U.S. Treasury Allocation  \\n**Reconciliation ID:** US Treasury All...\"],[\"| Document Number | Document Date | Document Description                  | Document Amount | Payee ...\"],[\"| 6788            | 4\\u002f21\\u002f2023     | System Generated Check\\u002fVoucher        | 300.00          | SMITH,...\"],[\"| 6883            | 4\\u002f21\\u002f2023     | System Generated Check\\u002fVoucher        | 300.00          | QUETON...\"],[\"#### Cash Account: 1060 U.S. Treasury Allocation\\n- **Reconciliation ID:** US Treasury Allocation #10...\"],[\"| Document Number | Document Date | Document Description               | Document Amount | Payee    ...\"],[\"| 7078            | 4\\u002f21\\u002f2023     | System Generated Check\\u002fVoucher     | 350.00          | CHARBONEA...\"],[\"| 7121            | 4\\u002f21\\u002f2023     | System Generated Check\\u002fVoucher     | 300.00          | HAMILTON-...\"],[\"### Outstanding Checks\\u002fVouchers...\"],[\"| Document Number | Document Date | Document Description                  | Document Amount | Payee ...\"],[\"| 7163            | 4\\u002f21\\u002f2023     | System Generated Check\\u002fVoucher        | 300.00          | PALACI...\"],[\"| 7213            | 4\\u002f21\\u002f2023     | System Generated Check\\u002fVoucher        | 350.00          | BARBER...\"],[\"Outstanding Checks\\u002fVouchers...\"],[\"| Document Number | Document Date | Document Description          | Document Amount | Payee         ...\"],[\"| 7277            | 4\\u002f21\\u002f2023     | System Generated Check\\u002fVoucher| 350.00         | POODRY, SHARON ...\"],[\"| 7378            | 4\\u002f21\\u002f2023     | System Generated Check\\u002fVoucher| 300.00         | KENT, JESSE    ...\"],[\"| Document Number | Document Date | Document Description          | Document Amount | Payee         ...\"],[\"| 7435            | 4\\u002f21\\u002f2023     | System Generated Check\\u002fVoucher| 300.00          | THURMAN, TYLER...\"],[\"| 7491            | 4\\u002f21\\u002f2023     | System Generated Check\\u002fVoucher| 300.00          |               ...\"],[\"**Outstanding Checks\\u002fVouchers**...\"],[\"| Document Number | Document Date | Document Description               | Document Amount | Payee    ...\"],[\"| 7528             | 4\\u002f21\\u002f2023     | System Generated Check\\u002fVoucher     | 300.00          | ORONA, P...\"],[\"| 7594             | 4\\u002f21\\u002f2023     | System Generated Check\\u002fVoucher     | 300.00          | WHITE, M...\"],[\"| Document Number | Document Date | Document Description               | Document Amount | Payee    ...\"],[\"| 7643            | 4\\u002f21\\u002f2023     | System Generated Check\\u002fVoucher   | 300.00          | FIELDS, STE...\"],[\"| 7700            | 4\\u002f21\\u002f2023     | System Generated Check\\u002fVoucher   | 300.00          | LUCERO, ELI...\"],[\"Date: 5\\u002f31\\u002f23 04:05:24 PM  Page: 9\\n## Outstanding Checks\\u002fVouchers...\"],[\"| Document Number | Document Date | Document Description               | Document Amount | Payee    ...\"],[\"| 7748            | 4\\u002f21\\u002f2023     | System Generated Check\\u002fVoucher      | 350.00          | WASHINGT...\"],[\"| 7799            | 4\\u002f21\\u002f2023     | System Generated Check\\u002fVoucher      | 300.00          | GONZALES...\"],[\"## Sac and Fox Nation\\n\\n### Cash Account: 1060 U.S. Treasury Allocation\\n\\n**Reconciliation ID:** US Tr...\"],[\"| Document Number | Document Date | Document Description          | Document Amount | Payee         ...\"],[\"| 7827            | 4\\u002f21\\u002f2023     | System Generated Check\\u002fVoucher | 300.00          | HILBRINK, SHR...\"],[\"| 7862            | 4\\u002f21\\u002f2023     | System Generated Check\\u002fVoucher | 300.00          | STANDISH, SAR...\"],[\"**Detail**\\n\\n**Cash Account: 1060 U.S. Treasury Allocation**  \\n**Reconciliation ID: US Treasury Alloc...\"],[\"| Document Number | Document Date | Document Description               | Document Amount | Payee    ...\"],[\"| 7894            | 4\\u002f21\\u002f2023     | System Generated Check\\u002fVoucher     | 300.00          | GREENE, E...\"],[\"| 7940            | 4\\u002f21\\u002f2023     | System Generated Check\\u002fVoucher     | 300.00          | SPANG, CA...\"],[\"**Detail**\\n\\n**Cash Account:** 1060 U.S. Treasury Allocation\\n**Reconciliation ID:** US Treasury Alloc...\"],[\"| Document Number | Document Date | Document Description               | Document Amount | Payee    ...\"],[\"| 7960            | 4\\u002f21\\u002f2023     | System Generated Check\\u002fVoucher    | 300.00         | ANDERSEN, S...\"],[\"| 8048            | 4\\u002f21\\u002f2023     | System Generated Check\\u002fVoucher    | 300.00         | SWITCH, CHR...\"],[\"Date: 5\\u002f31\\u002f23 04:05:24 PM  \\nPage: 13\\n## Outstanding Checks\\u002fVouchers...\"],[\"| Document Number | Document Date | Document Description                  | Document Amount | Payee ...\"],[\"| 8075            | 4\\u002f21\\u002f2023     | System Generated Check\\u002fVoucher         | 300.00          | RHODD...\"],[\"| 8118            | 4\\u002f21\\u002f2023     | System Generated Check\\u002fVoucher         | 350.00          | CRANE...\"],[\"Cash Account: 1060 U.S. Treasury Allocation  \\nReconciliation ID: US Treasury Allocation #1060 04\\u002f30\\u002f...\"],[\"| Document Number | Document Date | Document Description            | Document Amount | Payee       ...\"],[\"| 8161            | 4\\u002f21\\u002f2023     | System Generated Check\\u002fVoucher  | 300.00          | MilliGAN, DA...\"],[\"| 8203            | 4\\u002f21\\u002f2023     | System Generated Check\\u002fVoucher  | 300.00          | WARD, ANDREW...\"],[\"Detail\\n\\nCash Account: 1060 U.S. Treasury Allocation\\nReconciliation ID: US Treasury Allocation #1060 ...\"],[\"| Document Number | Document Date | Document Description          | Document Amount | Payee         ...\"],[\"| 8236            | 4\\u002f21\\u002f2023     | System Generated Check\\u002fVoucher| 300.00          | LORENTZ, MELAN...\"],[\"| 8261            | 4\\u002f21\\u002f2023     | System Generated Check\\u002fVoucher| 350.00          | MAREZ, DEBRA G...\"],[\"#### Detail\\n\\n| Cash Account: 1060 U.S. Treasury Allocation |\\n|--------------------------------------...\"],[\"| Document Number | Document Date | Document Description                  | Document Amount | Payee ...\"],[\"| 8294            | 4\\u002f24\\u002f2023     | System Generated Check\\u002fVoucher        | 300.00          | GNIECH...\"],[\"| 8326            | 4\\u002f24\\u002f2023     | System Generated Check\\u002fVoucher        | 300.00          | MAREZ,...\"],[\"**Reconciliation ID:** US Treasury Allocation #1060 04\\u002f30\\u002f2023  \\n**Reconciliation Date:** 4\\u002f30\\u002f2023 ...\"],[\"| Document Number | Document Date | Document Description            | Document Amount | Payee       ...\"],[\"| 8351            | 4\\u002f25\\u002f2023     | System Generated Check\\u002fVoucher  | 300.00          | MAREZ, ADAM ...\"],[\"**Cash Account:** 1060 U.S. Treasury Allocation  \\n**Reconciliation ID:** US Treasury Allocation #106...\"],[\"| Document Number | Document Date | Document Description                  | Document Amount | Payee ...\"],[\"| 8384            | 4\\u002f26\\u002f2023     | System Generated Check\\u002fVoucher         | 300.00         | COKER,...\"],[\"| 8398            | 4\\u002f26\\u002f2023     | System Generated Check\\u002fVoucher         | 350.00         | GRANT,...\"],[\"#### Detail\\n\\n**Cash Account: 1060 U.S. Treasury Allocation**  \\n**Reconciliation ID: US Treasury Allo...\"],[\"| Document Number | Document Date | Document Description                  | Document Amount | Payee ...\"],[\"| 8410            | 4\\u002f26\\u002f2023     | System Generated Check\\u002fVoucher        | 350.00          | MASTER...\"],[\"| 8425            | 4\\u002f26\\u002f2023     | System Generated Check\\u002fVoucher        | 350.00          | RIVAS,...\"],[\"### Cash Account: 1060 U.S. Treasury Allocation\\nReconciliation ID: US Treasury Allocation #1060 04\\u002f3...\"],[\"| Document Number | Document Date | Document Description                  | Document Amount | Payee ...\"],[\"| 8438            | 4\\u002f26\\u002f2023     | System Generated Check\\u002fVoucher        | 350.00         | TIGER, ...\"],[\"Cash Account: 1060 U.S. Treasury Allocation\\nReconciliation ID: US Treasury Allocation #1060 04\\u002f30\\u002f20...\"],[\"| Document Number | Document Date | Document Description       | Document Amount | Payee            ...\"],[\"| 8464            | 4\\u002f26\\u002f2023     | System Generated Check\\u002fVoucher | 300.00         | TROY, AMBER AU...\"],[\"| 8478            | 4\\u002f26\\u002f2023     | System Generated Check\\u002fVoucher | 350.00         | LONGSHORE, RIC...\"],[\"**Detail**\\n\\n**Cash Account:** 1060 U.S. Treasury Allocation  \\n**Reconciliation ID:** US Treasury All...\"],[\"| Document Number | Document Date | Document Description       | Document Amount | Payee            ...\"],[\"| 8490            | 4\\u002f26\\u002f2023     | System Generated Check\\u002fVoucher | 300.00          | RHODD, BENJI ...\"],[\"**Outstanding Checks\\u002fVouchers** 188,242.30\\n**Sac and Fox Nation**\\n**Reconcile Cash Accounts**\\n\\n**Det...\"],[\"| Document Number | Document Date | Document Description          | Document Amount | Payee         ...\"],[\"| 6586            | 4\\u002f6\\u002f2023      | System Generated Check\\u002fVoucher| 384.00          | Walls, Leslie ...\"],[\"| 6908            | 4\\u002f17\\u002f2023     | System Generated Check\\u002fVoucher| (300.00)        | Anderson, Vero...\"],[\"## Cash Account: 1060 U.S. Treasury Allocation\\n\\n**Reconciliation ID:** US Treasury Allocation #1060 ...\"],[\"| Document Number | Document Date | Document Description                  | Document Amount | Payee ...\"],[\"| 6914            | 4\\u002f17\\u002f2023     | System Generated Check\\u002fVoucher        | (350.00)        | BASS, ...\"],[\"| 6921            | 4\\u002f17\\u002f2023     | System Generated Check\\u002fVoucher        | 350.00          | BROWN-...\"],[\"| Document Number | Document Date | Document Description           | Document Amount | Payee        ...\"],[\"| 6927            | 4\\u002f17\\u002f2023     | System Generated Check\\u002fVoucher  | $300.00         | CASTANEDA, J...\"],[\"| 6934            | 4\\u002f17\\u002f2023     | System Generated Check\\u002fVoucher  | $300.00         | COLLINS, CHR...\"],[\"| Document Number | Document Date | Document Description       | Document Amount | Payee            ...\"],[\"| 6941            | 4\\u002f17\\u002f2023     | System Generated           | (350.00)        | DEAN, REBECCA LEA...\"],[\"**Detail**\\n\\n**Cash Account: 1060 U.S. Treasury Allocation**  \\n**Reconciliation ID: US Treasury Alloc...\"],[\"| Document Number | Document Date | Document Description          | Document Amount | Payee         ...\"],[\"| 6953            | 4\\u002f17\\u002f2023     | System Generated Check\\u002fVoucher | 300.00          | EVANS, MICHEL...\"],[\"Date: 5\\u002f31\\u002f23 04:05:24 PM  \\nPage: 28\\n### Sac and Fox Nation\\n#### Reconcile Cash Accounts\\n\\n**Cash Acc...\"],[\"| Document Number | Document Date | Document Description            | Document Amount | Payee       ...\"],[\"| 6966            | 4\\u002f17\\u002f2023     | System Generated Check\\u002fVoucher  | (300.00)        | GRASS, LARRA...\"],[\"| 6973            | 4\\u002f17\\u002f2023     | System Generated Check\\u002fVoucher  | 300.00          | HANEY, KERRI...\"],[\"| Document Number | Document Date | Document Description         | Document Amount | Payee          ...\"],[\"| 6979            | 4\\u002f17\\u002f2023     | System Generated Check\\u002fVoucher | (300.00)        | HEILWEIL, VAL...\"],[\"| 6986            | 4\\u002f17\\u002f2023     | System Generated Check\\u002fVoucher | 300.00          | KING, JARED A...\"],[\"Detail\\nCash Account: 1060 U.S. Treasury Allocation\\nReconciliation ID: US Treasury Allocation #1060 0...\"],[\"| Document Number | Document Date | Document Description           | Document Amount | Payee        ...\"],[\"| 6992            | 4\\u002f17\\u002f2023     | System Generated Check\\u002fVoucher | 300.00          | MARSHALL, ALE...\"],[\"| 6999            | 4\\u002f17\\u002f2023     | System Generated Check\\u002fVoucher | (300.00)        | MEEKS, KATHER...\"],[\"#### Reconciliation ID: US Treasury Allocation #1060 04\\u002f30\\u002f2023\\n\\n#### Reconciliation Date: 4\\u002f30\\u002f2023...\"],[\"| Document Number | Document Date | Document Description           | Document Amount | Payee        ...\"],[\"| 7005            | 4\\u002f17\\u002f2023     | System Generated Check\\u002fVoucher  | $300.00         | MURIE, HAILE...\"],[\"| 7012            | 4\\u002f17\\u002f2023     | System Generated Check\\u002fVoucher  | $300.00         | PAHSETOAH, M...\"],[\"#### Detail\\n\\n- **Cash Account:** 1060 U.S. Treasury Allocation\\n- **Reconciliation ID:** US Treasury ...\"],[\"| Document Number | Document Date | Document Description       | Document Amount | Payee            ...\"],[\"| 7018            | 4\\u002f17\\u002f2023     | System Generated Check\\u002fVoucher | (300.00)       | PINEDA, DAVID ...\"],[\"| 7025            | 4\\u002f17\\u002f2023     | System Generated Check\\u002fVoucher | 300.00         | RAMIREZ, HECTO...\"],[\"**Reconciliation ID:** US Treasury Allocation #1060 04\\u002f30\\u002f2023  \\n**Reconciliation Date:** 4\\u002f30\\u002f2023 ...\"],[\"| Document Number | Document Date | Document Description                  | Document Amount | Payee ...\"],[\"| 7031            | 4\\u002f17\\u002f2023     | System Generated Check\\u002fVoucher        | 300.00          | ROSS, ...\"],[\"| 7038            | 4\\u002f17\\u002f2023     | System Generated Check\\u002fVoucher        | (300.00)        | SPRING...\"],[\"### Cleared Checks\\u002fVouchers...\"],[\"| Document Number | Document Date | Document Description               | Document Amount | Payee    ...\"],[\"| 7044            | 4\\u002f17\\u002f2023     | System Generated Check\\u002fVoucher     | (350.00)        | TEAGUE, S...\"],[\"| 7051            | 4\\u002f17\\u002f2023     | System Generated Check\\u002fVoucher     | 300.00          | WATTERSON...\"],[\"**Detail**\\n\\n**Cash Account:** 1060 U.S. Treasury Allocation  \\n**Reconciliation ID:** US Treasury All...\"],[\"| Document Number | Document Date  | Document Description                        | Document Amount |...\"],[\"| 7996            | 4\\u002f20\\u002f2023      | System Generated Check\\u002fVoucher              | 300.00          |...\"],[\"| 8003            | 4\\u002f20\\u002f2023      | System Generated Check\\u002fVoucher              | -300.00         |...\"],[\"Date: 5\\u002f31\\u002f23 04:05:24 PM  \\nPage: 36\\n## Cash Account: 1060 U.S. Treasury Allocation\\n### Reconciliati...\"],[\"| Document Number | Document Date | Document Description          | Document Amount | Payee         ...\"],[\"| 8009            | 4\\u002f20\\u002f2023     | System Generated Check\\u002fVoucher| (300.00)        | LARNEY, TYRA J...\"],[\"| 8016            | 4\\u002f20\\u002f2023     | System Generated Check\\u002fVoucher| 300.00          | LORENTZ, MELAN...\"],[\"Date: 5\\u002f31\\u002f23 04:05:24 PM\\n### Reconcile Cash Accounts\\n\\n**Cash Account: 1060 U.S. Treasury Allocation...\"],[\"| Document Number | Document Date   | Document Description          | Document Amount | Payee       ...\"],[\"| 8021            | 4\\u002f20\\u002f2023       | System Generated Check\\u002fVoucher| 300.00         | MASQUAS, XAIV...\"],[\"| 8028            | 4\\u002f20\\u002f2023       | System Generated Check\\u002fVoucher| (300.00)       | SWITCH, ALYSS...\"],[\"#### Cash Account: 1060 U.S. Treasury Allocation\\nReconciliation ID: US Treasury Allocation #1060 04\\u002f...\"],[\"| Document Number | Document Date   | Document Description               | Document Amount | Payee  ...\"],[\"| 8035            | 4\\u002f20\\u002f2023       | System Generated Check\\u002fVoucher     | (300.00)        | THORPE,...\"],[\"| 8042            | 4\\u002f20\\u002f2023       | System Generated Check\\u002fVoucher     | 300.00          | WOLF, B...\"],[\"Date: 5\\u002f31\\u002f23 04:05:24 PM\\nPage: 39\\nReconcile Cash Accounts\\n\\nCash Account: 1060 U.S. Treasury Allocat...\"],[\"| Document Number | Document Date | Document Description           | Document Amount | Payee        ...\"],[\"| 6600            | 4\\u002f21\\u002f2023     | System Generated Check\\u002fVoucher | 350.00          | ALLEN, VIOLA ...\"],[\"| 6615            | 4\\u002f21\\u002f2023     | System Generated Check\\u002fVoucher | 350.00          | COKER, WALTER...\"],[\"#### Reconciliation ID: US Treasury Allocation #1060 04\\u002f30\\u002f2023\\n\\n#### Reconciliation Date: 4\\u002f30\\u002f2023...\"],[\"| Document Number | Document Date | Document Description               | Document Amount | Payee    ...\"],[\"| 6631            | 4\\u002f21\\u002f2023     | System Generated Check\\u002fVoucher     | 350.00          | GRANT, FR...\"],[\"Cash Account: 1060 U.S. Treasury Allocation  \\nReconciliation ID: US Treasury Allocation #1060 04\\u002f30\\u002f...\"],[\"| Document Number | Document Date | Document Description         | Document Amount | Payee          ...\"],[\"| 6662            | 4\\u002f21\\u002f2023     | System Generated Check\\u002fVoucher | 350.00          | PATTON, SANDR...\"],[\"| 6677            | 4\\u002f21\\u002f2023     | System Generated Check\\u002fVoucher | 350.00          | SNODGRASS, WA...\"],[\"**Cash Account:** 1060 U.S. Treasury Allocation  \\n**Reconciliation ID:** US Treasury Allocation #106...\"],[\"| Document Number | Document Date | Document Description          | Document Amount | Payee         ...\"],[\"| 6694            | 4\\u002f21\\u002f2023     | System Generated Check\\u002fVoucher| 350.00          | WALKER, LEONAR...\"],[\"| 6710            | 4\\u002f21\\u002f2023     | System Generated Check\\u002fVoucher| 300.00          | BERRYHILL, EVO...\"],[\"Detail\\n\\nCash Account: 1060 U.S. Treasury Allocation  \\nReconciliation ID: US Treasury Allocation #106...\"],[\"| Cleared Checks\\u002fVouchers |\\n|-------------------------|\\n| **Document Number**     | **Document Date*...\"],[\"| 6719                    | 4\\u002f21\\u002f2023         | System Generated Check\\u002fVoucher| 350.00              ...\"],[\"| 6737                    | 4\\u002f21\\u002f2023         | System Generated Check\\u002fVoucher| 300.00              ...\"],[\"Cash Account: 1060 U.S. Treasury Allocation  \\nReconciliation ID: US Treasury Allocation #1060 04\\u002f30\\u002f...\"],[\"| Document Number | Document Date   | Document Description                  | Document Amount | Paye...\"],[\"| 6752            | 4\\u002f21\\u002f2023       | System Generated Check\\u002fVoucher        | 300.00          | HARJ...\"],[\"| 6770            | 4\\u002f21\\u002f2023       | System Generated Check\\u002fVoucher        | 300.00          | MORR...\"],[\"### Reconciliation ID: US Treasury Allocation #1060 04\\u002f30\\u002f2023\\n\\n### Reconciliation Date: 4\\u002f30\\u002f2023\\n\\n...\"],[\"| Document Number | Document Date | Document Description         | Document Amount | Payee          ...\"],[\"| 6782            | 4\\u002f21\\u002f2023     | System Generated Check\\u002fVoucher | 300.00          | ROLETTE, STUA...\"],[\"| 6798            | 4\\u002f21\\u002f2023     | System Generated Check\\u002fVoucher | 350.00          | WALKER, JONAS...\"],[\"| Document Number | Document Date | Document Description                  | Document Amount | Payee ...\"],[\"| 6814            | 4\\u002f21\\u002f2023     | System Generated Check\\u002fVoucher         | 300.00          | BAPTI...\"],[\"| Cleared Checks\\u002fVouchers |\\n|-------------------------|\\n| **Cash Account:** 1060 U.S. Treasury Alloc...\"],[\"**Document Number** | **Document Date** | **Document Description** | **Document Amount** | **Payee**...\"],[\"6847 | 4\\u002f21\\u002f2023 | System Generated Check\\u002fVoucher | 300.00 | GRASS, QUENTIN JEROME |\\n6848 | 4\\u002f21\\u002f202...\"],[\"Cash Account: 1060 U.S. Treasury Allocation  \\nReconciliation ID: US Treasury Allocation #1060 04\\u002f30\\u002f...\"],[\"| Document Number | Document Date | Document Description       | Document Amount | Payee            ...\"],[\"| 6876            | 4\\u002f21\\u002f2023     | System Generated Check\\u002fVoucher | 300.00          | MURIE, DAMEAN...\"],[\"| 6892            | 4\\u002f21\\u002f2023     | System Generated Check\\u002fVoucher | 300.00          | STALEY, ROSE ...\"],[\"### Reconciliation ID: US Treasury Allocation #1060 04\\u002f30\\u002f2023\\n\\n### Reconciliation Date: 4\\u002f30\\u002f2023\\n\\n...\"],[\"| Cleared Checks\\u002fVouchers                  |\\n|-----------------------------------------|\\n| **Documen...\"],[\"| 7062                                    | 4\\u002f21\\u002f2023         | System Generated Check\\u002fVoucher      ...\"],[\"| 7077                                    | 4\\u002f21\\u002f2023         | System Generated Check\\u002fVoucher      ...\"],[\"**Detail**\\n\\n**Cash Account:** 1060 U.S. Treasury Allocation  \\n**Reconciliation ID:** US Treasury All...\"],[\"| Document Number | Document Date | Document Description                  | Document Amount | Payee ...\"],[\"| 7097            | 4\\u002f21\\u002f2023     | System Generated Check\\u002fVoucher         | 350.00          | EASON...\"],[\"**Cash Account:** 1060 U.S. Treasury Allocation  \\n**Reconciliation ID:** US Treasury Allocation #106...\"],[\"| Document Number | Document Date | Document Description                  | Document Amount | Payee ...\"],[\"| 7131            | 4\\u002f21\\u002f2023     | System Generated Check\\u002fVoucher         | 300.00          | HINES...\"],[\"| 7153            | 4\\u002f21\\u002f2023     | System Generated Check\\u002fVoucher         | 300.00          | MONTG...\"],[\"| Document Number | Document Date | Document Description          | Document Amount | Payee         ...\"],[\"| 7169            | 4\\u002f21\\u002f2023     | System Generated Check\\u002fVoucher| 300.00          | PONKILLA, BRIA...\"],[\"Detail\\n\\nCash Account: 1060 U.S. Treasury Allocation\\nReconciliation ID: US Treasury Allocation #1060 ...\"],[\"| Document Number | Document Date | Document Description                  | Document Amount | Payee ...\"],[\"| 7203            | 4\\u002f21\\u002f2023     | System Generated Check\\u002fVoucher         | 300.00          | WHITE...\"],[\"| 7224            | 4\\u002f21\\u002f2023     | System Generated Check\\u002fVoucher         | 300.00          | BEMO,...\"],[\"**Reconciliation ID:** US Treasury Allocation #1060 04\\u002f30\\u002f2023  \\n**Reconciliation Date:** 4\\u002f30\\u002f2023 ...\"],[\"| Document Number | Document Date | Document Description                  | Document Amount | Payee ...\"],[\"| 7239            | 4\\u002f21\\u002f2023     | System Generated Check\\u002fVoucher        | 350.00          | Dowd, ...\"],[\"| 7256            | 4\\u002f21\\u002f2023     | System Generated Check\\u002fVoucher        | 350.00          | Johnso...\"],[\"### Reconciliation Date: 4\\u002f30\\u002f2023\\n\\n### Status: Open\\n\\n### Cleared Checks\\u002fVouchers...\"],[\"| Document Number | Document Date | Document Description                  | Document Amount | Payee ...\"],[\"| 7269            | 4\\u002f21\\u002f2023     | System Generated Check\\u002fVoucher        | 350.00          | MCKINN...\"],[\"| 7286            | 4\\u002f21\\u002f2023     | System Generated Check\\u002fVoucher        | 300.00          | TIGER,...\"],[\"### Cash Account: 1060 U.S. Treasury Allocation\\n**Reconciliation ID:** US Treasury Allocation #1060 ...\"],[\"| Document Number | Document Date   | Document Description                 | Document Amount | Payee...\"],[\"| 7300            | 4\\u002f21\\u002f2023       | System Generated Check\\u002fVoucher       | 300.00          | WILDC...\"],[\"| 7316            | 4\\u002f21\\u002f2023       | System Generated Check\\u002fVoucher       | 300.00          | CLINE...\"],[\"| Document Number | Document Date | Document Description       | Document Amount | Payee            ...\"],[\"| 7328            | 4\\u002f21\\u002f2023     | System Generated Check\\u002fVoucher | 300.00          | ESCOBEDO, JUA...\"],[\"| 7349            | 4\\u002f21\\u002f2023     | System Generated Check\\u002fVoucher | 300.00          | GOODFOX, TARA...\"],[\"Detail\\n\\nCash Account: 1060 U.S. Treasury Allocation  \\nReconciliation ID: US Treasury Allocation #106...\"],[\"| Document Number | Document Date | Document Description       | Document Amount | Payee            ...\"],[\"| 7363            | 4\\u002f21\\u002f2023     | System Generated Check\\u002fVoucher | 300.00          | HERRERA, SAMA...\"],[\"| 7379            | 4\\u002f21\\u002f2023     | System Generated Check\\u002fVoucher | 300.00          | KIONUTE, ANGE...\"],[\"### Cash Account: 1060 U.S. Treasury Allocation\\n### Reconciliation ID: US Treasury Allocation #1060 ...\"],[\"| Document Number | Document Date | Document Description          | Document Amount | Payee         ...\"],[\"| 7392            | 4\\u002f21\\u002f2023     | System Generated Check\\u002fVoucher | 300.00          | MORRIS, DYLAN...\"],[\"| 7408            | 4\\u002f21\\u002f2023     | System Generated Check\\u002fVoucher | 300.00          | PRIMEAUX, GRA...\"],[\"**Cash Account**: 1060 U.S. Treasury Allocation  \\n**Reconciliation ID**: US Treasury Allocation #106...\"],[\"| Document Number | Document Date | Document Description              | Document Amount | Payee     ...\"],[\"| 7426            | 4\\u002f21\\u002f2023     | System Generated Check\\u002fVoucher    | 300.00          | STARR, MAR...\"],[\"| 7445            | 4\\u002f21\\u002f2023     | System Generated Check\\u002fVoucher    | 300.00          | WALKER, SA...\"],[\"**Detail**\\n\\nCash Account: 1060 U.S. Treasury Allocation  \\nReconciliation ID: US Treasury Allocation ...\"],[\"| Document Number | Document Date | Document Description               | Document Amount | Payee    ...\"],[\"| 7459            | 4\\u002f21\\u002f2023     | System Generated Check\\u002fVoucher     | 350.00          | BLANCHARD...\"],[\"| 7483            | 4\\u002f21\\u002f2023     | System Generated Check\\u002fVoucher     | 350.00          | FLOYD, BR...\"],[\"| Document Number | Document Date | Document Description                  | Document Amount | Payee ...\"],[\"| 7498            | 4\\u002f21\\u002f2023     | System Generated Check\\u002fVoucher        | 300.00          | HUERTA...\"],[\"| 7519            | 4\\u002f21\\u002f2023     | System Generated Check\\u002fVoucher        | 300.00          | MCKISS...\"],[\"**Detail**\\n\\n**Cash Account:** 1060 U.S. Treasury Allocation  \\n**Reconciliation ID:** US Treasury All...\"],[\"| Document Number | Document Date | Document Description          | Document Amount | Payee         ...\"],[\"| 7535            | 4\\u002f21\\u002f2023     | System Generated Check\\u002fVoucher| 300.00          | PONKILLA, ALIS...\"],[\"| 7552            | 4\\u002f21\\u002f2023     | System Generated Check\\u002fVoucher| 300.00          | SMITH, JAMES D...\"],[\"#### Cash Account: 1060 U.S. Treasury Allocation\\n**Reconciliation ID:** US Treasury Allocation #1060...\"],[\"| Document Number | Document Date | Document Description     | Document Amount | Payee              ...\"],[\"| 7570            | 4\\u002f21\\u002f2023     | System Generated Check\\u002fVoucher | 300.00          | VAN WINKLE, K...\"],[\"| 7585            | 4\\u002f21\\u002f2023     | System Generated Check\\u002fVoucher | 300.00          | WALLS, KEYARA...\"],[\"Date: 5\\u002f31\\u002f23 04:05:24 PM  \\nPage: 65\\nSac and Fox Nation  \\nReconcile Cash Accounts\\n\\nDetail\\n\\nCash Acco...\"],[\"| Document Number | Document Date | Document Description                  | Document Amount | Payee ...\"],[\"| 7601            | 4\\u002f21\\u002f2023     | System Generated Check\\u002fVoucher        | 300.00          | WOOD, ...\"],[\"Date: 5\\u002f31\\u002f23 04:05:24 PM\\n| Document Number | Document Date  | Document Description       | Document...\"],[\"| 7635            | 4\\u002f21\\u002f2023      | System Generated Check\\u002fVoucher | 300.00         | DOWD, GEORGE ...\"],[\"| 7654            | 4\\u002f21\\u002f2023      | System Generated Check\\u002fVoucher | 300.00         | GALLAWAY, JAS...\"],[\"| Document Number | Document Date   | Document Description          | Document Amount | Payee       ...\"],[\"| 7667            | 4\\u002f21\\u002f2023       | System Generated Check\\u002fVoucher| 300.00          | HALE, ANGELA...\"],[\"| 7682            | 4\\u002f21\\u002f2023       | System Generated Check\\u002fVoucher| 300.00          | HAUMPY, DANA...\"],[\"Date: 5\\u002f31\\u002f23 04:05:24 PM\\n## Cash Account: 1060 U.S. Treasury Allocation\\n### Reconciliation ID: US T...\"],[\"| Document Number | Document Date | Document Description       | Document Amount | Payee            ...\"],[\"| 7704            | 4\\u002f21\\u002f2023     | System Generated Check\\u002fVoucher | 350.00          | MANN, CARLA J...\"],[\"| 7725            | 4\\u002f21\\u002f2023     | System Generated Check\\u002fVoucher | 350.00          | ROBBINS, SHER...\"],[\"#### Cleared Checks\\u002fVouchers...\"],[\"| Document Number | Document Date | Document Description         | Document Amount | Payee          ...\"],[\"| 7739            | 4\\u002f21\\u002f2023     | System Generated Check\\u002fVoucher | 350.00          | VANDEVER, RUB...\"],[\"### Cash Account: 1060 U.S. Treasury Allocation\\n\\n**Reconciliation ID:** US Treasury Allocation #1060...\"],[\"| Document Number | Document Date | Document Description       | Document Amount | Payee            ...\"],[\"| 7776            | 4\\u002f21\\u002f2023     | System Generated Check\\u002fVoucher | 300.00          | SAUNDERS, NIC...\"],[\"| 7794            | 4\\u002f21\\u002f2023     | System Generated Check\\u002fVoucher | 300.00          | ELLIS, KERI L...\"],[\"**Reconciliation ID:** US Treasury Allocation #1060 04\\u002f30\\u002f2023  \\n**Reconciliation Date:** 4\\u002f30\\u002f2023 ...\"],[\"| Document Number | Document Date | Document Description          | Document Amount | Payee         ...\"],[\"| 7814            | 4\\u002f21\\u002f2023     | System Generated Check\\u002fVoucher| 300.00          | WALKER, PEYTON...\"],[\"| 7843            | 4\\u002f21\\u002f2023     | System Generated Check\\u002fVoucher| 300.00          | ROSARIO, MARIS...\"],[\"**Detail**\\n\\n**Cash Account: 1060 U.S. Treasury Allocation**\\n\\n**Reconciliation ID: US Treasury Alloca...\"],[\"| Document Number | Document Date | Document Description       | Document Amount | Payee            ...\"],[\"| 7856            | 4\\u002f21\\u002f2023     | System Generated Check\\u002fVoucher | 300.00          | HORNACEK, ROB...\"],[\"| 7876            | 4\\u002f21\\u002f2023     | System Generated Check\\u002fVoucher | 300.00          | WILDCAT, MIND...\"],[\"| Document Number | Document Date | Document Description                  | Document Amount | Payee ...\"],[\"| 7897            | 4\\u002f21\\u002f2023     | System Generated Check\\u002fVoucher        | 300.00          | HAMILT...\"],[\"| 7920            | 4\\u002f21\\u002f2023     | System Generated Check\\u002fVoucher        | 300.00          | NGUYEN...\"],[\"### Reconciliation ID: US Treasury Allocation #1060 04\\u002f30\\u002f2023\\n\\n### Reconciliation Date: 4\\u002f30\\u002f2023\\n\\n...\"],[\"| Document Number | Document Date | Document Description | Document Amount | Payee                  ...\"],[\"| 7935            | 4\\u002f21\\u002f2023     | System Generated Check\\u002fVoucher | 300.00          | SHINOEGEE, ME...\"],[\"| 7967            | 4\\u002f21\\u002f2023     | System Generated Check\\u002fVoucher | 300.00          | CARTER, THOMA...\"],[\"Cash Account: 1060 U.S. Treasury Allocation  \\nReconciliation ID: US Treasury Allocation #1060 04\\u002f30\\u002f...\"],[\"| Document Number | Document Date | Document Description            | Document Amount | Payee       ...\"],[\"| 7982            | 4\\u002f21\\u002f2023     | System Generated Check\\u002fVoucher  | 350.00          | SAUNDERS, RU...\"],[\"| 8052            | 4\\u002f21\\u002f2023     | System Generated Check\\u002fVoucher  | 300.00          | THOMAS, CHRI...\"],[\"Date: 5\\u002f31\\u002f23 04:05:24 PM  \\nPage: 76\\n## Sac and Fox Nation\\n### Reconcile Cash Accounts\\n\\n**Cash Accou...\"],[\"| Document Number | Document Date | Document Description                  | Document Amount | Payee ...\"],[\"| 8074            | 4\\u002f21\\u002f2023     | System Generated Check\\u002fVoucher        | 300.00          | PONKIL...\"],[\"| 8096            | 4\\u002f21\\u002f2023     | System Generated Check\\u002fVoucher        | 300.00          | ABNEY,...\"],[\"---\\n\\nDate: 5\\u002f31\\u002f23 04:05:24 PM  \\nPage: 77\\n**Sac and Fox Nation**  \\n**Reconcile Cash Accounts**\\n\\n**De...\"],[\"| Document Number | Document Date | Document Description          | Document Amount | Payee         ...\"],[\"| 8116            | 4\\u002f21\\u002f2023     | System Generated Check\\u002fVoucher| 350.00          | COLE, CATHY LE...\"],[\"| 8139            | 4\\u002f21\\u002f2023     | System Generated Check\\u002fVoucher| 300.00          | HENDERSON, CEL...\"],[\"### Cash Account: 1060 U.S. Treasury Allocation\\n### Reconciliation ID: US Treasury Allocation #1060 ...\"],[\"| Document Number | Document Date | Document Description                  | Document Amount | Payee ...\"],[\"| 8152            | 4\\u002f21\\u002f2023     | System Generated Check\\u002fVoucher        | 300.00          | LITTLE...\"],[\"| 8175            | 4\\u002f21\\u002f2023     | System Generated Check\\u002fVoucher        | 300.00          | PONKIL...\"],[\"Date: 5\\u002f31\\u002f23 04:05:24 PM  Page: 79\\n### Cash Account: 1060 U.S. Treasury Allocation\\n\\n**Reconciliatio...\"],[\"| Document Number | Document Date | Document Description             | Document Amount | Payee      ...\"],[\"| 8193            | 4\\u002f21\\u002f2023     | System Generated Check\\u002fVoucher   | 350.00          | TYNER, ROBE...\"],[\"| 8217            | 4\\u002f21\\u002f2023     | System Generated Check\\u002fVoucher   | 300.00          | GRANT, SENC...\"],[\"| Document Number | Document Date | Document Description       | Document Amount | Payee            ...\"],[\"| 8232            | 4\\u002f21\\u002f2023     | System Generated Check\\u002fVoucher | 300.00          | LASLEY, JENNI...\"],[\"| 8264            | 4\\u002f21\\u002f2023     | System Generated Check\\u002fVoucher | 350.00          | PATTERSON, DA...\"],[\"### Cash Account: 1060 U.S. Treasury Allocation\\nReconciliation ID: US Treasury Allocation #1060 04\\u002f3...\"],[\"| Document Number | Document Date | Document Description                       | Document Amount | P...\"],[\"| 8281            | 4\\u002f21\\u002f2023     | System Generated Check\\u002fVoucher             | 300.00         | ST...\"],[\"| 8305            | 4\\u002f24\\u002f2023     | System Generated Check\\u002fVoucher             | 350.00         | HA...\"],[\"#### Detail\\n\\n**Cash Account:** 1060 U.S. Treasury Allocation  \\n**Reconciliation ID:** US Treasury Al...\"],[\"| Document Number | Document Date | Document Description       | Document Amount | Payee            ...\"],[\"| 8327            | 4\\u002f24\\u002f2023     | System Generated Check\\u002fVoucher | 350.00          | MAREZ, VIRGIN...\"],[\"| 8356            | 4\\u002f25\\u002f2023     | System Generated Check\\u002fVoucher | 300.00          | PENNOCK, CHER...\"],[\"**Cash Account:** 1060 U.S. Treasury Allocation  \\n**Reconciliation ID:** US Treasury Allocation #106...\"],[\"#### Cleared Other Cash Items...\"],[\"| Document Number | Document Date | Document Description | Document Amount   |\\n|-----------------|--...\"],[\"| JV-15-6376      | 4\\u002f30\\u002f2023     | POST INTEREST\\u002fDIVIDENDS FOR APRIL 2023 | 51,928.28       |\\n| JV-...\"],[\"#### Cleared Other Cash Items\\n\\n731,895.05\\nSac and Fox Nation  \\nReconcile Cash Accounts\\n\\nSummary\\n\\nCas...\"],[\"| Document Number | Document Date | Document Description          | Document Amount | Payee         ...\"],[\"| 6656            | 4\\u002f21\\u002f2023     | System Generated Check\\u002fVoucher | 350.00          | NORMAN, GARY ...\"],[\"| 7666            | 4\\u002f21\\u002f2023     | System Generated Check\\u002fVoucher | 350.00          | GUTIERREZ, MI...\"],[\"| 7951            | 4\\u002f21\\u002f2023     | System Generated Check\\u002fVoucher | 300.00          | WALKER, LEONA...\"],[\"| 8331            | 4\\u002f24\\u002f2023     | System Generated Check\\u002fVoucher | 350.00          | MURDOCK, CHER...\"],[\"**Cash Account:** 1060 U.S. Treasury Allocation  \\n**Reconciliation ID:** US Treasury Allocation #106...\"],[\"| Document Number | Document Date | Document Description                  | Document Amount | Payee ...\"],[\"| 8501            | 5\\u002f3\\u002f2023      | System Generated Check\\u002fVoucher        | 300.00          | SAUNDE...\"],[\"| 8629            | 5\\u002f5\\u002f2023      | System Generated Check\\u002fVoucher        | 300.00          | CHRIST...\"],[\"| Document Number | Document Date   | Document Description       | Document Amount | Payee          ...\"],[\"| 8745            | 5\\u002f9\\u002f2023        | System Generated Check\\u002fVoucher | 300.00          | JPAY       ...\"],[\"**Cash Account:** 1060 U.S. Treasury Allocation  \\n**Reconciliation ID:** US Treasury Allocation #106...\"],[\"| Document Number | Document Date   | Document Description          | Document Amount | Payee       ...\"],[\"| 8940            | 5\\u002f19\\u002f2023       | System Generated Check\\u002fVoucher| 350.00          | HARRIS, RUBY...\"],[\"| 8981            | 5\\u002f25\\u002f2023       | System Generated Check\\u002fVoucher| 300.00          | GONZALES, CH...\"],[\"| Document Number | Document Date | Document Description                | Document Amount | Payee   ...\"],[\"| 8997            | 5\\u002f25\\u002f2023     | System Generated Check\\u002fVoucher      | 350.00          | DEMMER, ...\"],[\"| 9018            | 5\\u002f25\\u002f2023     | System Generated Check\\u002fVoucher      | 300.00          | MEADOWS,...\"],[\"| Document Number | Document Date | Document Description | Document Amount | Payee                  ...\"],[\"| 9041            | 5\\u002f26\\u002f2023     | System Generated Check\\u002fVoucher | 300.00          | DEMMER, DANIE...\"],[\"| 9062            | 5\\u002f26\\u002f2023     | System Generated Check\\u002fVoucher | 300.00          | SHELTON, ALIC...\"],[\"Outstanding Checks\\u002fVouchers: 81,735.90\\nSac and Fox Nation  \\nReconcile Cash Accounts\\n\\nDetail\\n\\nCash Ac...\"],[\"| Document Number | Document Date | Document Description            | Document Amount | Payee       ...\"],[\"| 6683            | 4\\u002f21\\u002f2023     | System Generated Check\\u002fVoucher   | 350.00          | WAKOLE, BYR...\"],[\"| 6785            | 4\\u002f21\\u002f2023     | System Generated Check\\u002fVoucher   | 350.00          | SARBER, WIL...\"],[\"**Detail**\\n\\n**Cash Account: 1060 U.S. Treasury Allocation**  \\n**Reconciliation ID: US Treasury Alloc...\"],[\"| Document Number | Document Date | Document Description       | Document Amount | Payee            ...\"],[\"| 6867            | 4\\u002f21\\u002f2023     | System Generated Check\\u002fVoucher | 300.00          | LASLEY, DENIS...\"],[\"| 7079            | 4\\u002f21\\u002f2023     | System Generated Check\\u002fVoucher | 300.00          | CHARBONEAU, J...\"],[\"**Reconciliation ID:** US Treasury Allocation #1060 05\\u002f31\\u002f2023  \\n**Reconciliation Date:** 5\\u002f31\\u002f2023 ...\"],[\"| Document Number | Document Date | Document Description                  | Document Amount | Payee ...\"],[\"| 7135            | 4\\u002f21\\u002f2023     | System Generated Check\\u002fVoucher         | 300.00          | KERNE...\"],[\"| 7180            | 4\\u002f21\\u002f2023     | System Generated Check\\u002fVoucher         | 300.00          | ROBER...\"],[\"**Cash Account:** 1060 U.S. Treasury Allocation  \\n**Reconciliation ID:** US Treasury Allocation #106...\"],[\"| Document Number | Document Date   | Document Description              | Document Amount | Payee   ...\"],[\"| 7223            | 4\\u002f21\\u002f2023       | System Generated Check\\u002fVoucher    | 300.00          | BAZERT, ...\"],[\"| 7333            | 4\\u002f21\\u002f2023       | System Generated Check\\u002fVoucher    | 300.00          | FRANKLIN...\"],[\"Date: 7\\u002f14\\u002f23 11:44:11 AM  \\nPage: 14\\n# Sac and Fox Nation\\n## Reconcile Cash Accounts\\n### Status: Ope...\"],[\"| Document Number | Document Date | Document Description         | Document Amount | Payee          ...\"],[\"| 7416            | 4\\u002f21\\u002f2023     | System Generated Check\\u002fVoucher| 300.00          | ROUBIDOUX, GAB...\"],[\"| 7471            | 4\\u002f21\\u002f2023     | System Generated Check\\u002fVoucher| 300.00          | COBURN, MELIND...\"],[\"| Document Number | Document Date   | Document Description            | Document Amount | Payee     ...\"],[\"| 7514            | 4\\u002f21\\u002f2023       | System Generated Check\\u002fVoucher  | 350.00          | MAKER, MAR...\"],[\"| 7579            | 4\\u002f21\\u002f2023       | System Generated Check\\u002fVoucher  | 300.00          | WAKOLEE, K...\"],[\"Detail\\n\\nCash Account: 1060 U.S. Treasury Allocation  \\nReconciliation ID: US Treasury Allocation #106...\"],[\"| Document Number | Document Date | Document Description       | Document Amount | Payee            ...\"],[\"| 7643            | 4\\u002f21\\u002f2023     | System Generated Check\\u002fVoucher | 300.00          | FIELDS, STEPH...\"],[\"| 7701            | 4\\u002f21\\u002f2023     | System Generated Check\\u002fVoucher | 350.00          | MACY, LISA   ...\"],[\"**Cash Account: 1060 U.S. Treasury Allocation**\\n\\n**Reconciliation ID:** US Treasury Allocation #1060...\"],[\"| Document Number | Document Date | Document Description               | Document Amount | Payee    ...\"],[\"| 7753            | 4\\u002f21\\u002f2023     | System Generated Check\\u002fVoucher     | 350.00          | WOOD, FRE...\"],[\"| 7803            | 4\\u002f21\\u002f2023     | System Generated Check\\u002fVoucher     | 350.00          | HANEY, LA...\"],[\"**Cash Account: 1060 U.S. Treasury Allocation**  \\n**Reconciliation ID: US Treasury Allocation #1060 ...\"],[\"| Document Number | Document Date | Document Description               | Document Amount | Payee    ...\"],[\"| 7833            | 4\\u002f21\\u002f2023     | System Generated Check\\u002fVoucher     | 300.00          | LITTLESON...\"],[\"| 7883            | 4\\u002f21\\u002f2023     | System Generated Check\\u002fVoucher     | 350.00          | BUTLER, E...\"],[\"**Reconciliation ID:** US Treasury Allocation #1060 05\\u002f31\\u002f2023  \\n**Reconciliation Date:** 5\\u002f31\\u002f2023 ...\"],[\"| Document Number | Document Date | Document Description                  | Document Amount | Payee ...\"],[\"| 7918            | 4\\u002f21\\u002f2023     | System Generated Check\\u002fVoucher         | 300.00          | MORRI...\"],[\"| 7963            | 4\\u002f21\\u002f2023     | System Generated Check\\u002fVoucher         | 300.00          | BROWN...\"],[\"| 7991            | 4\\u002f21\\u002f2023     | System Generated Check\\u002fVoucher | 300.00          | RICH, CHANCE ...\"],[\"| 8086            | 4\\u002f21\\u002f2023     | System Generated Check\\u002fVoucher | 300.00          | SAUNDERS, DAR...\"],[\"Detail  \\nCash Account: 1060 U.S. Treasury Allocation  \\nReconciliation ID: US Treasury Allocation #10...\"],[\"| Document Number | Document Date | Document Description          | Document Amount | Payee         ...\"],[\"| 8124            | 4\\u002f21\\u002f2023     | System Generated Check\\u002fVoucher| 350.00          | FALLS, EMERSON...\"],[\"| 8166            | 4\\u002f21\\u002f2023     | System Generated Check\\u002fVoucher| 350.00          | NATSEWAY, ELIZ...\"],[\"Date: 7\\u002f14\\u002f23 11:44:11 AM\\n### Cash Account: 1060 U.S. Treasury Allocation\\n### Reconciliation ID: US ...\"],[\"| Document Number | Document Date | Document Description                      | Document Amount | Pa...\"],[\"| 8209            | 4\\u002f21\\u002f2023     | System Generated Check\\u002fVoucher            | 300.00          | WI...\"],[\"| 8250            | 4\\u002f21\\u002f2023     | System Generated Check\\u002fVoucher            | 300.00          | DI...\"],[\"Detail\\n\\nCash Account: 1060 U.S. Treasury Allocation\\nReconciliation ID: US Treasury Allocation #1060 ...\"],[\"| Document Number | Document Date | Document Description         | Document Amount | Payee          ...\"],[\"|     8270        | 4\\u002f21\\u002f2023     | System Generated Check\\u002fVoucher |     300.00     | DELAWARE, ADAM...\"],[\"|     8322        | 4\\u002f24\\u002f2023     | System Generated Check\\u002fVoucher |     350.00     | LITTLEHEAD, CA...\"],[\"Date: 7\\u002f14\\u002f23 11:44:11 AM\\n\\nPage: 24\\n### Sac and Fox Nation\\n#### Reconcile Cash Accounts\\n\\n**Detail**\\n...\"],[\"| Document Number | Document Date | Document Description            | Document Amount | Payee       ...\"],[\"| 8351            | 4\\u002f25\\u002f2023     | System Generated Check\\u002fVoucher  | 300.00          | MAREZ, ADAM ...\"],[\"| 8375            | 4\\u002f26\\u002f2023     | System Generated Check\\u002fVoucher  | 300.00          | AKINS, CHEYE...\"],[\"Cash Account: 1060 U.S. Treasury Allocation\\nReconciliation ID: US Treasury Allocation #1060 05\\u002f31\\u002f20...\"],[\"| Document Number | Document Date | Document Description       | Document Amount | Payee            ...\"],[\"| 8387            | 4\\u002f26\\u002f2023     | System Generated Check\\u002fVoucher | 350.00          | COPELAND, LAS...\"],[\"| 8402            | 4\\u002f26\\u002f2023     | System Generated Check\\u002fVoucher | 350.00          | HILBRINK, VER...\"],[\"Cash Account: 1060 U.S. Treasury Allocation  \\nReconciliation ID: US Treasury Allocation #1060 05\\u002f31\\u002f...\"],[\"Cleared Checks\\u002fVouchers\\n| Document Number | Document Date  | Document Description         | Document...\"],[\"| 8414            | 4\\u002f26\\u002f2023      | System Generated Check\\u002fVoucher | 350.00          | NELSON, JOHN...\"],[\"| 8429            | 4\\u002f26\\u002f2023      | System Generated Check\\u002fVoucher | 300.00          | SHILLINGSTAD...\"],[\"### Cash Account: 1060 U.S. Treasury Allocation\\n**Reconciliation ID:** US Treasury Allocation #1060 ...\"],[\"| Document Number | Document Date | Document Description         | Document Amount | Payee          ...\"],[\"| 8444            | 4\\u002f26\\u002f2023     | System Generated Check\\u002fVoucher | 350.00          | WARD, MARY F ...\"],[\"Date: 7\\u002f14\\u002f23 11:44:11 AM  \\nPage: 28\\n### Cash Account: 1060 U.S. Treasury Allocation\\n\\n**Reconciliati...\"],[\"| Document Number | Document Date | Document Description           | Document Amount | Payee        ...\"],[\"| 8473            | 4\\u002f26\\u002f2023     | System Generated Check\\u002fVoucher  | 300.00          | GARCIA, DAVI...\"],[\"| 8488            | 4\\u002f26\\u002f2023     | System Generated Check\\u002fVoucher  | 300.00          | PECK, HANNA ...\"],[\"| Document Number | Document Date | Document Description | Document Amount | Payee                  ...\"],[\"| 8500            | 5\\u002f2\\u002f2023      | System Generated Check\\u002fVoucher | 1,000.00       | BLANCHARD, NIC...\"],[\"| 8518            | 5\\u002f4\\u002f2023      | System Generated Check\\u002fVoucher | 300.00         | SANDERS, JADEN...\"],[\"#### Cash Account: 1060 U.S. Treasury Allocation\\n#### Reconciliation ID: US Treasury Allocation #106...\"],[\"| Document Number | Document Date | Document Description                  | Document Amount | Payee ...\"],[\"| 8528            | 5\\u002f4\\u002f2023      | System Generated Check\\u002fVoucher         | 300.00          | BROWN...\"],[\"| 8544            | 5\\u002f4\\u002f2023      | System Generated Check\\u002fVoucher         | 300.00          | TIGER...\"],[\"**Cash Account: 1060 U.S. Treasury Allocation**  \\n**Reconciliation ID: US Treasury Allocation #1060 ...\"],[\"| Document Number | Document Date | Document Description          | Document Amount | Payee         ...\"],[\"| 8557            | 5\\u002f4\\u002f2023      | System Generated Check\\u002fVoucher| 300.00          | TIGER, CHARLES...\"],[\"| 8571            | 5\\u002f4\\u002f2023      | System Generated Check\\u002fVoucher| 300.00          | CALDERON, REBE...\"],[\"#### Reconciliation ID: US Treasury Allocation #1060 05\\u002f31\\u002f2023\\n\\n**Reconciliation Date:** 5\\u002f31\\u002f2023 ...\"],[\"| Document Number | Document Date | Document Description               | Document Amount | Payee    ...\"],[\"| 8587            | 5\\u002f4\\u002f2023      | System Generated Check\\u002fVoucher      | 300.00          | LENA, Fa...\"],[\"| 8603            | 5\\u002f5\\u002f2023      | System Generated Check\\u002fVoucher      | 300.00          | BLACKBUR...\"],[\"### Cash Account: 1060 U.S. Treasury Allocation\\nReconciliation ID: US Treasury Allocation #1060 05\\u002f3...\"],[\"| Document Number | Document Date | Document Description            | Document Amount | Payee       ...\"],[\"| 8618            | 5\\u002f5\\u002f2023      | System Generated Check\\u002fVoucher  | 300.00          | BUTLER, RUBE...\"],[\"| 8635            | 5\\u002f5\\u002f2023      | System Generated Check\\u002fVoucher  | 300.00          | FRANKLIN, ST...\"],[\"| Document Number | Document Date | Document Description                      | Document Amount | Pa...\"],[\"| 8647            | 5\\u002f5\\u002f2023      | System Generated Check\\u002fVoucher            | 300.00          | GE...\"],[\"Date: 7\\u002f14\\u002f23 11:44:11 AM  \\nPage: 35\\n## Cash and Fox Nation\\n### Reconcile Cash Accounts\\n\\n**Detail**\\n...\"],[\"| Document Number | Document Date | Document Description                  | Document Amount | Payee ...\"],[\"| 8674            | 5\\u002f5\\u002f2023      | System Generated Check\\u002fVoucher         | 350.00          | O'BRI...\"],[\"| 8689            | 5\\u002f5\\u002f2023      | System Generated Check\\u002fVoucher         | 350.00          | ROTHR...\"],[\"| Document Number | Document Date | Document Description       | Document Amount | Payee            ...\"],[\"| 8702            | 5\\u002f5\\u002f2023      | System Generated Check\\u002fVoucher | 350.00          | COUTEAU, DONN...\"],[\"| 8717            | 5\\u002f5\\u002f2023      | System Generated Check\\u002fVoucher | 350.00          | STEPHENS, GRE...\"],[\"| Document Number | Document Date | Document Description       | Document Amount | Payee            ...\"],[\"| 8732            | 5\\u002f5\\u002f2023      | System Generated Check\\u002fVoucher | 300.00          | HARRISON, SHA...\"],[\"| 7781            | 5\\u002f11\\u002f2023     | System Generated Charge\\u002fCheque  | \\n(300.00)         | STEWART, K...\"],[\"| Document Number | Document Date | Document Description                  | Document Amount | Payee ...\"],[\"| 8761            | 5\\u002f11\\u002f2023     | System Generated Check\\u002fVoucher         | 300.00          | ANTRI...\"],[\"| 8778            | 5\\u002f11\\u002f2023     | System Generated Check\\u002fVoucher         | 300.00          | DICKE...\"],[\"Detail\\nCash Account: 1060 U.S. Treasury Allocation\\nReconciliation ID: US Treasury Allocation #1060 0...\"],[\"| Document Number | Document Date | Document Description       | Document Amount | Payee            ...\"],[\"| 8791            | 5\\u002f11\\u002f2023     | System Generated Check\\u002fVoucher | 350.00          | HARSBERGER, B...\"],[\"| 8807            | 5\\u002f11\\u002f2023     | System Generated Check\\u002fVoucher | 300.00          | LOPEZ, TERESA...\"],[\"**Cash Account:** 1060 U.S. Treasury Allocation  \\n**Reconciliation ID:** US Treasury Allocation #106...\"],[\"| Document Number | Document Date | Document Description          | Document Amount | Payee         ...\"],[\"| 8819            | 5\\u002f11\\u002f2023     | System Generated Check\\u002fVoucher| 300.00          | MOORE, WESLEY ...\"],[\"| 8834            | 5\\u002f11\\u002f2023     | System Generated Check\\u002fVoucher| 300.00          | RHODD, VONNIE ...\"],[\"**Detail**\\n\\n**Cash Account:** 1060 U.S. Treasury Allocation  \\n**Reconciliation ID:** US Treasury All...\"],[\"| Document Number | Document Date | Document Description       | Document Amount | Payee            ...\"],[\"| 8845            | 5\\u002f11\\u002f2023     | System Generated Check\\u002fVoucher | 350.00          | WAKOLE, BILLY...\"],[\"| 8860            | 5\\u002f11\\u002f2023     | System Generated Check\\u002fVoucher | 47.39           | CDW GOVERNMEN...\"],[\"Date: 7\\u002f14\\u002f23 11:44:11 AM\\nPage: 42\\n### Cash Account: 1060 U.S. Treasury Allocation\\n### Reconciliatio...\"],[\"| Document Number | Document Date | Document Description               | Document Amount | Payee    ...\"],[\"| 8871            | 5\\u002f18\\u002f2023     | System Generated Check\\u002fVoucher     | 350.00          | DEERE, LE...\"],[\"| 8887            | 5\\u002f18\\u002f2023     | System Generated Check\\u002fVoucher     | 350.00          | JAMES, RO...\"],[\"Reconciliation ID: USC Treasury Allocation #1060 05\\u002f31\\u002f2023  \\nReconciliation Date: 5\\u002f31\\u002f2023  \\nStatu...\"],[\"| Document Number | Document Date | Document Description                  | Document Amount | Payee ...\"],[\"| 8904            | 5\\u002f18\\u002f2023     | System Generated Check\\u002fVoucher         | 350.00          | POODR...\"],[\"| 8921            | 5\\u002f18\\u002f2023     | System Generated Check\\u002fVoucher         | 300.00          | WAPSI...\"],[\"### Cash Account: 1060 U.S. Treasury Allocation\\n\\n**Reconciliation ID:** US Treasury Allocation #1060...\"],[\"| Document Number | Document Date | Document Description       | Document Amount | Payee            ...\"],[\"| 8936            | 5\\u002f19\\u002f2023     | System Generated Check\\u002fVoucher | 350.00          | GARCIA, DAVID...\"],[\"| 8957            | 5\\u002f19\\u002f2023     | System Generated Check\\u002fVoucher | 350.00          | O'BRIEN, MICH...\"],[\"Date: 7\\u002f14\\u002f23 11:44:11 AM  \\nPage: 45\\n### Cash Account: 1060 U.S. Treasury Allocation\\n\\n#### Reconcili...\"],[\"| Document Number | Document Date | Document Description                  | Document Amount | Payee ...\"],[\"| 8970            | 5\\u002f24\\u002f2023     | System Generated Check\\u002fVoucher        | 950.00          | CENTRA...\"],[\"| 9016            | 5\\u002f25\\u002f2023     | System Generated Check\\u002fVoucher        | 300.00          | MCBRID...\"],[\"| Document Number | Document Date | Document Description          | Document Amount | Payee         ...\"],[\"| 9040            | 5\\u002f26\\u002f2023     | System Generated Check\\u002fVoucher | 300.00          | CRANE, JONIE ...\"],[\"**Cleared Checks\\u002fVouchers:** 594,109.76\\nSac and Fox Nation\\nReconcile Cash Accounts\\n\\nDetail\\n\\nCash Acc...\"],[\"| Document Number | Document Date | Document Description | Document Amount |\\n|-----------------|----...\"],[\"| JV-15-6522      | 5\\u002f31\\u002f2023     | CASH ACTIVITY FOR MAY 2023 | (798.86) |\\n| JV-15-6523      | 5\\u002f31...\"],[\"Cleared Other Cash Items\\n\\n12,796.84\\n# Sac and Fox Nation\\n## Reconcile Cash Accounts\\n\\n### Summary\\n\\n**...\"],[\"| Document Number | Document Date | Document Description           | Document Amount | Payee        ...\"],[\"| 6656            | 4\\u002f21\\u002f2023     | System Generated Check\\u002fVoucher | 350.00         | NORMAN, GARY D...\"],[\"| 7993            | 4\\u002f21\\u002f2023     | System Generated Check\\u002fVoucher | 300.00         | TABER, JOHN GL...\"],[\"**Sac and Fox Nation Details**\\n\\n**Cash Account:** 1060 U.S. Treasury Allocation  \\n**Reconciliation I...\"],[\"| Document Number | Document Date | Document Description | Document Amount | Payee                  ...\"],[\"| 8474            | 4\\u002f26\\u002f2023     | SystemGenerated Check\\u002fVoucher  | 300.00          | GARCIA, JAMIE...\"],[\"| 8888            | 5\\u002f18\\u002f2023     | System Generated Check\\u002fVoucher | 350.00          | JOHNSON, RAMO...\"],[\"| Document Number | Document Date | Document Description       | Document Amount | Payee            ...\"],[\"| 9084            | 6\\u002f2\\u002f2023      | System Generated Check\\u002fVoucher | 350.00          | EASLEY, CHARL...\"],[\"| 9165            | 6\\u002f28\\u002f2023     | System Generated Check\\u002fVoucher | 5,782.59        | CDW GOVERNMEN...\"],[\"| Document Number | Document Date | Document Description                  | Document Amount | Payee ...\"],[\"| Document Number | Document Date | Document Description                | Document Amount | Payee   ...\"],[\"| 7827            | 4\\u002f21\\u002f2023     | System Generated Check\\u002fVoucher      | 300.00          | HILBRINK...\"],[\"| 8447            | 4\\u002f26\\u002f2023     | System Generated Check\\u002fVoucher      | 300.00          | WELLBROC...\"],[\"| Document Number | Document Date | Document Description            | Document Amount | Payee       ...\"],[\"| 8630            | 5\\u002f5\\u002f2023      | System Generated Check\\u002fVoucher   | 350.00          | ELLIS, CONN...\"],[\"**Cash Account: 1060 U.S. Treasury Allocation**  \\nReconciliation ID: US Treasury Allocation #1060 06...\"],[\"| Document Number | Document Date | Document Description                  | Document Amount | Payee ...\"],[\"| 8938            | 5\\u002f19\\u002f2023     | System Generated Check\\u002fVoucher        | 300.00          | GIPP-T...\"],[\"| 8980            | 5\\u002f25\\u002f2023     | System Generated Check\\u002fVoucher        | 300.00          | GARCIA...\"],[\"| Document Number | Document Date | Document Description               | Document Amount | Payee    ...\"],[\"| 9001            | 5\\u002f25\\u002f2023     | System Generated Check\\u002fVoucher     | 350.00          | GIBBS, DO...\"],[\"| 9030            | 5\\u002f25\\u002f2023     | System Generated Check\\u002fVoucher     | 300.00          | WAKOLE, C...\"],[\"**Reconciliation ID:** US Treasury Allocation #1060 06\\u002f30\\u002f2023  \\n**Reconciliation Date:** 6\\u002f30\\u002f2023 ...\"],[\"| Document Number | Document Date | Document Description           | Document Amount | Payee        ...\"],[\"| 9049            | 5\\u002f26\\u002f2023     | System Generated Check\\u002fVoucher | 300.00          | MCBRIDE, HEAT...\"],[\"Date: 7\\u002f24\\u002f23 12:58:08 PM  \\nPage: 11\\n### Clear Checks\\u002fVouchers...\"],[\"| Document Number | Document Date | Document Description                        | Document Amount | ...\"],[\"| 9079            | 6\\u002f2\\u002f2023      | System Generated Check\\u002fVoucher             | 300.00          | B...\"],[\"| 9098            | 6\\u002f2\\u002f2023      | System Generated Check\\u002fVoucher             | 300.00          | L...\"],[\"| Document Number | Document Date | Document Description | Document Amount | Payee                  ...\"],[\"| 9114            | 6\\u002f2\\u002f2023      | System Generated Check\\u002fVoucher | 300.00          | PENNINGTON, C...\"],[\"| 9132            | 6\\u002f2\\u002f2023      | System Generated Check\\u002fVoucher | 300.00          | WHITESHIRT, A...\"],[\"**Detail**\\n\\n**Cash Account:** 1060 U.S. Treasury Allocation  \\n**Reconciliation ID:** US Treasury All...\"],[\"| Document Number | Document Date   | Document Description                        | Document Amount ...\"],[\"| 9142            | 6\\u002f2\\u002f2023        | System Generated Check\\u002fVoucher              | 350.00          ...\"],[\"| 9137            | 6\\u002f22\\u002f2023       | System Generated Check\\u002fVoucher              | (300.00)        ...\"],[\"Date: 7\\u002f24\\u002f23 12:58:08 PM  \\nPage: 14\\n### Cash Account: 1060 U.S. Treasury Allocation\\n\\n**Reconciliati...\"],[\"**Cleared Other Cash Items**\\n\\n| Document Number | Document Date | Document Description              ...\"],[\"| Description                                      | Amount       |\\n|-------------------------------...\"],[\"| Document Number | Document Date   | Document Description              | Document Amount | Payee   ...\"],[\"| 7059             | 4\\u002f21\\u002f2023       | System Generated Check\\u002fVoucher   | 300.00          | ASHLEY, ...\"],[\"| 8446             | 4\\u002f26\\u002f2023       | System Generated Check\\u002fVoucher   | 300.00          | WELLBROC...\"],[\"**Detail**\\n\\n**Cash Account: 1060 U.S. Treasury Allocation**  \\n**Reconciliation ID: US Treasury Alloc...\"],[\"| Document Number | Document Date | Document Description           | Document Amount | Payee        ...\"],[\"| 8960            | 5\\u002f19\\u002f2023     | System Generated Check\\u002fVoucher | 350.00         | ROWE, SHERYL J...\"],[\"Outstanding Checks\\u002fVouchers  \\n22,950.00\\n### Cleared Checks\\u002fVouchers...\"],[\"| Document Number | Document Date | Document Description               | Document Amount | Payee    ...\"],[\"| 8342            | 4\\u002f24\\u002f2023     | System Generated Check\\u002fVoucher     | 350.00          | VILLARREA...\"],[\"| 9131            | 6\\u002f2\\u002f2023      | System Generated Check\\u002fVoucher     | 300.00          | WARRIOR, ...\"],[\"Details\\nCash Account: 1060 U.S. Treasury Allocation\\nReconciliation ID: US Treasury Allocation #1060 ...\"],[\"| Document Number | Document Date | Document Description          | Document Amount | Payee         ...\"],[\"| 9172            | 7\\u002f5\\u002f2023      | System Generated Check\\u002fVoucher| 1,595.60        | CHARLES MITCHE...\"],[\"| 9186            | 7\\u002f18\\u002f2023     | System Generated Check\\u002fVoucher| 26,087.50       | HARDINS FAMILY...\"],[\"**Detail**\\n\\n**Cash Account:** 1060 U.S. Treasury Allocation  \\n**Reconciliation ID:** US Treasury All...\"],[\"| Document Number | Document Date | Document Description          | Document Amount | Payee         ...\"],[\"| 9196            | 7\\u002f20\\u002f2023     | System Generated Check\\u002fVoucher| 7,500.00        | C& S PLUMBING ...\"],[\"Cleared Checks\\u002fVouchers: 244,419.18\\n## Cash Account: 1060 U.S. Treasury Allocation\\n\\nReconciliation I...\"],[\"**Cash Account: 1060 U.S. Treasury Allocation**  \\nReconciliation ID: US Treasury Allocations #1060 0...\"],[\"| Document Number | Document Date   | Document Description               | Document Amount | Payee  ...\"],[\"| 7059            | 4\\u002f21\\u002f2023       | System Generated Check\\u002fVoucher     | 300.00          | ASHLEY,...\"],[\"| 8501            | 5\\u002f3\\u002f2023        | System Generated Check\\u002fVoucher     | 300.00          | SAUNDER...\"],[\"| Document Number | Document Date   | Document Description                          | Document Amoun...\"],[\"| 9235            | 8\\u002f29\\u002f2023       | System Generated Check\\u002fVoucher                | 2,672.47      ...\"],[\"**Outstanding Checks\\u002fVouchers**: 41,235.98\\n## Sac and Fox Nation\\n### Reconcile Cash Accounts\\n\\n**Cash...\"],[\"| Document Number | Document Date | Document Description     | Document Amount | Payee              ...\"],[\"| 9026            | 5\\u002f25\\u002f2023     | System Generated Check\\u002fVoucher | 300.00          | RODRIGUE, TAW...\"],[\"| 9211            | 8\\u002f7\\u002f2023      | System Generated Check\\u002fVoucher | 300.00          | HOWELL, WAYLO...\"],[\"**Reconciliation ID: US Treasury Allocations #1060 08\\u002f31\\u002f2023**  \\n**Reconciliation Date: 8\\u002f31\\u002f2023**...\"],[\"| Document Number | Document Date | Document Description       | Document Amount | Payee            ...\"],[\"| 9223            | 8\\u002f17\\u002f2023     | System Generated Check\\u002fVoucher | 2,759.00       | US BANK NATION...\"],[\"Cleared Checks\\u002fVouchers: 228,593.09\\nReconcile Cash Accounts\\n\\n**Cash Account: 1060 U.S. Treasury Allo...\"],[\"| Document Number | Document Date | Document Description | Document Amount   |\\n|-----------------|--...\"],[\"| JV-15-6093      | 3\\u002f17\\u002f2023     | CORRECT AP-2851 API-15-9921 s\\u002fh\\u002fb KEYED AS 029 NOT 129 PROGR | 0...\"],[\"**Clearied Other Cash Items**\\n\\n46,385.61\\nSummary\\nCash Account: 1060 U.S. Treasury Allocation\\nReconci...\"],[\"| Document Number | Document Date | Document Description                  | Document Amount | Payee ...\"],[\"| 7207            | 4\\u002f21\\u002f2023     | System Generated Check\\u002fVoucher       | 300.00          | ARELLAN...\"],[\"| 8746            | 5\\u002f9\\u002f2023      | System Generated Check\\u002fVoucher       | 0.00            | MARQUEZ...\"],[\"**Detail**\\n\\n**Cash Account: 1060 U.S. Treasury Allocation**  \\nReconciliation ID: US Treasury Allocat...\"],[\"| Document Number | Document Date | Document Description       | Document Amount | Payee            ...\"],[\"| 9272            | 9\\u002f22\\u002f2023     | System Generated Check\\u002fVoucher | 55,125.41       | VERIZON      ...\"],[\"Outstanding Checks\\u002fVouchers: 78,841.01\\n| Document Number | Document Date  | Document Description    ...\"],[\"| 9238            | 8\\u002f29\\u002f2023      | System Generated Check\\u002fVoucher| 2,500.00        | TAILORED ROOF...\"],[\"| 9252            | 9\\u002f13\\u002f2023      | System Generated Check\\u002fVoucher| 150.00          | HUMPHREY, CAS...\"],[\"**Detail**\\n\\n**Cash Account: 1060 U.S. Treasury Allocation**\\n\\n**Reconciliation ID:** US Treasury Allo...\"],[\"| Document Number | Document Date  | Document Description          | Document Amount | Payee        ...\"],[\"| 9264            | 9\\u002f18\\u002f2023     | System Generated Check\\u002fVoucher| 150.00          | PRATT, SHAWN  ...\"],[\"**Cleared Checks\\u002fVouchers:** 102,779.42\\n\\nDate: 11\\u002f13\\u002f23 03:08:46 PM\\nSac and Fox Nation\\nReconcile Cas...\"]],\"hovertemplate\":\"source=test.md\\u003cbr\\u003esymbol=circle\\u003cbr\\u003ex=%{x}\\u003cbr\\u003ey=%{y}\\u003cbr\\u003esize_col=%{marker.size}\\u003cbr\\u003eextract=%{customdata[0]}\\u003cextra\\u003e\\u003c\\u002fextra\\u003e\",\"legendgroup\":\"test.md, circle\",\"marker\":{\"color\":\"#EF553B\",\"size\":[4,4,4,4,4,4,4,4,4,4,4,4,4,4,4,4,4,4,4,4,4,4,4,4,4,4,4,4,4,4,4,4,4,4,4,4,4,4,4,4,4,4,4,4,4,4,4,4,4,4,4,4,4,4,4,4,4,4,4,4,4,4,4,4,4,4,4,4,4,4,4,4,4,4,4,4,4,4,4,4,4,4,4,4,4,4,4,4,4,4,4,4,4,4,4,4,4,4,4,4,4,4,4,4,4,4,4,4,4,4,4,4,4,4,4,4,4,4,4,4,4,4,4,4,4,4,4,4,4,4,4,4,4,4,4,4,4,4,4,4,4,4,4,4,4,4,4,4,4,4,4,4,4,4,4,4,4,4,4,4,4,4,4,4,4,4,4,4,4,4,4,4,4,4,4,4,4,4,4,4,4,4,4,4,4,4,4,4,4,4,4,4,4,4,4,4,4,4,4,4,4,4,4,4,4,4,4,4,4,4,4,4,4,4,4,4,4,4,4,4,4,4,4,4,4,4,4,4,4,4,4,4,4,4,4,4,4,4,4,4,4,4,4,4,4,4,4,4,4,4,4,4,4,4,4,4,4,4,4,4,4,4,4,4,4,4,4,4,4,4,4,4,4,4,4,4,4,4,4,4,4,4,4,4,4,4,4,4,4,4,4,4,4,4,4,4,4,4,4,4,4,4,4,4,4,4,4,4,4,4,4,4,4,4,4,4,4,4,4,4,4,4,4,4,4,4,4,4,4,4,4,4,4,4,4,4,4,4,4,4,4,4,4,4,4,4,4,4,4,4,4,4,4,4,4,4,4,4,4,4,4,4,4,4,4,4,4,4,4,4,4,4,4,4,4,4,4,4,4,4,4,4,4,4,4,4,4,4,4,4,4,4,4,4,4,4,4,4,4,4,4,4,4,4,4,4,4,4,4,4,4,4,4,4,4,4,4,4,4,4,4,4,4,4,4,4,4,4,4,4,4,4,4,4,4,4,4,4,4,4,4,4,4,4,4,4,4,4,4,4,4,4,4,4,4,4,4,4,4,4,4,4,4,4,4,4,4,4,4,4,4,4,4,4,4,4,4,4,4,4,4,4,4,4,4,4,4,4,4,4,4,4,4,4,4,4,4,4,4,4,4,4,4,4,4,4,4,4,4,4,4,4,4,4,4,4,4,4,4,4,4,4,4,4,4,4,4,4,4,4,4,4,4,4,4,4,4,4,4,4,4,4,4,4,4,4,4,4,4,4,4,4,4,4,4,4,4,4,4,4,4,4,4,4,4,4,4,4,4,4,4,4,4,4,4,4,4,4,4,4,4,4,4,4,4,4,4,4,4,4,4,4,4,4,4,4,4,4,4,4,4,4,4,4,4,4,4,4,4,4,4,4,4,4,4,4,4],\"sizemode\":\"area\",\"sizeref\":0.25,\"symbol\":\"circle\",\"line\":{\"color\":\"DarkSlateGrey\",\"width\":0},\"opacity\":1},\"mode\":\"markers\",\"name\":\"test.md, circle\",\"orientation\":\"v\",\"showlegend\":true,\"x\":[-16.809168,22.506271,5.9889607,-17.374962,5.036078,6.2115164,-12.033313,-16.123928,-15.577742,-16.755585,22.507986,5.0936823,-17.408321,5.0734806,6.7589955,-16.686632,1.8155651,-16.227913,22.507607,5.775545,-16.959387,5.061459,6.359431,-16.87161,2.1587937,22.507723,6.28809,-17.347511,5.033363,6.3256016,-7.5486956,-16.157566,-15.802105,-16.71403,22.508018,5.128341,-17.187487,5.0779214,6.598289,-7.1955714,-11.332563,4.9103866,6.531955,-17.229595,1.6733869,-16.5419,5.0555634,1.8866206,-14.617336,5.0541577,6.491628,6.4936876,-17.634129,5.017958,6.4701796,-8.306771,5.1837573,-14.9586525,1.6792426,1.6548027,-16.584293,22.508455,11.684486,-7.3077807,-13.47598,6.453802,12.07657,-7.0269847,-13.51046,5.9683123,11.871764,-14.870708,2.573974,6.095634,10.831172,-14.127466,2.5289621,5.1080327,12.747024,3.7717261,6.859347,12.7218485,-7.326779,2.5923831,6.687529,10.951479,3.7357693,5.751517,12.326752,4.159552,2.609783,4.63746,12.232228,-5.332625,-17.544546,4.9184866,12.638441,-7.41948,-13.515521,6.212289,11.645904,-7.2632713,-13.439099,5.6978145,11.362017,4.1124315,2.6055734,4.96338,12.654041,-6.947975,-12.998053,6.2199616,11.73188,-7.1274548,-13.412152,7.0839176,11.478399,-7.412194,-14.143271,4.3998303,12.068691,-12.029596,-10.446148,4.9056287,12.536361,-13.290219,6.1543784,11.293636,-7.3365293,-13.623085,4.751349,11.295433,-7.713496,-13.3690815,5.1839156,11.616335,-12.929825,4.9588084,11.727022,-7.776379,-13.391227,5.2977886,5.0664773,-17.265356,5.1131625,6.706603,-5.2000194,-17.730341,6.308289,12.159367,3.8859057,6.4729266,10.748915,3.8831797,4.657334,-6.046502,-16.780972,5.09254,10.901372,-17.542797,6.155433,11.161401,3.663343,6.9657235,10.58456,-6.735697,-11.344413,5.6039543,10.262904,-12.066557,-10.439658,6.4141307,4.465613,-7.7801976,-15.816117,6.3432617,10.428933,-12.012716,-10.438162,5.9409637,10.292344,-14.5266695,2.6537418,6.0444627,10.988712,-7.202227,-16.738195,5.4943113,11.217934,4.133824,-14.964213,6.764223,10.774427,4.3933573,-14.964794,6.063593,4.642903,-7.3304267,-17.813963,5.403147,12.190643,4.196974,-14.551807,5.3275666,11.790849,-12.087223,-10.441156,4.427248,11.897054,-11.671308,4.4645023,11.206827,-7.7667303,-17.642225,4.830563,12.092094,-7.1926403,-13.207982,5.6121483,11.736362,-5.3197565,-12.154768,5.6290917,11.069924,-12.308955,-10.439471,5.231946,11.562473,-12.100674,5.441608,-5.179232,-15.382248,6.3420672,-5.2379785,-12.345683,6.868382,11.682594,-12.115016,-10.455372,5.3482523,12.4092455,-7.5733075,-13.751682,4.3918133,11.78697,-17.579002,7.1659093,10.486243,3.3979983,7.021258,-5.2685533,-11.408215,6.092249,12.104994,-12.050937,-10.439206,5.8877864,12.140988,-12.074867,-4.711713,4.609254,11.932657,-7.2046394,-17.885698,5.292717,10.694446,-7.4082084,5.517727,12.664367,-7.3089023,-11.330634,6.051457,11.708408,-7.464635,-17.779608,5.5961466,11.740973,-7.112885,-17.470602,6.3183393,12.255391,-7.3480573,-17.452087,6.2496495,11.747286,-7.380768,6.646618,11.536903,-7.634028,-16.694382,6.1384077,11.276903,-7.4849014,-17.58633,5.889871,10.991962,5.183,-17.561878,4.870929,11.228261,7.2472916,12.464805,-7.4351153,5.7297945,12.062507,3.9090738,-15.044679,4.6944685,11.30909,-14.204555,2.59324,5.497334,11.982258,-17.794495,4.548092,11.691583,-12.062929,-10.439901,5.1337876,11.649974,-7.6141067,-16.777542,5.3435006,11.401104,-13.955771,6.6944537,11.473851,-12.057723,-10.440026,6.387768,11.701153,-7.1869016,-12.448015,5.427253,11.180543,4.217789,-17.595331,7.4472685,12.471479,4.1005363,-17.533443,6.4006753,11.783195,-7.3411613,-17.732534,6.2349796,11.462524,4.0177784,-15.055787,5.688925,12.116587,-7.238717,6.8241086,12.302625,-6.856643,-17.776367,5.005971,11.834439,-7.237235,-16.769835,6.3879685,11.979158,4.3451524,-15.677453,2.3074517,1.6488049,1.7897148,-16.622215,22.507713,12.824094,5.080487,11.85038,4.315821,-13.359627,5.094183,11.633378,3.7328143,5.0467014,-5.109928,-13.307549,4.720469,9.78023,3.7266018,5.430858,9.931454,3.8057637,5.95139,11.208754,6.326377,-17.30056,4.901765,11.756896,-7.0373707,-16.752108,4.619567,11.538898,-12.105537,-10.439129,5.3714285,10.460655,4.0056496,-17.512297,6.513697,12.361278,4.4133124,-17.567015,5.804265,12.522228,-14.483776,6.352553,10.594809,-7.518507,-11.3824415,5.580214,12.367736,-5.3517313,-17.572302,4.404946,12.04263,3.9065006,-17.177229,7.25029,12.51325,-12.085137,-10.435947,6.934853,11.422222,5.9033623,11.888209,-6.921007,-11.4108925,4.9269433,12.124656,4.2886724,-15.077547,5.0075603,11.163753,-6.8016086,-11.425984,6.682163,11.735967,4.8317075,-17.540182,5.6954594,12.253772,-7.48756,-12.064565,5.8476305,11.641059,-6.8138123,-12.847004,5.488361,11.875883,4.1141763,-17.797411,5.4194107,11.797668,-15.056008,7.3499846,12.150858,-14.329759,5.732912,11.607112,-7.4628468,-17.630651,5.6195536,11.723939,4.0329795,-17.258875,6.9591284,6.6643414,-12.079708,-10.439359,6.513119,11.670313,-7.1251507,-17.665228,5.5647354,10.73755,-6.739906,5.6233425,10.976139,-17.4905,6.8198757,10.690526,-13.590399,5.083498,11.930701,-12.071928,5.705293,8.812285,-7.2088857,6.1911316,10.686735,-7.478281,-11.313029,5.553044,10.406249,3.9903362,-17.543203,4.469738,10.305719,-7.2866607,-16.811224,6.2568436,11.796989,5.290384,-15.16144,4.89413,10.892168,-12.137904,-10.449785,5.7408834,10.439737,-5.174309,-17.71004,4.945329,9.544717,4.240586,-15.120984,4.334951,8.99159,-14.479044,5.480486,9.221016,-17.312704,1.5019665,1.81167,-16.727951,22.50746,12.866938,-5.1962667,-17.487057,6.1667213,12.518695,3.633779,5.5819626,6.412101,4.9861717,5.4271903,5.322176,12.625746,3.8424723,7.309116,-5.041686,-17.596972,4.9833927,9.671125,3.8641486,4.45616,10.619871,-12.053364,-10.436891,6.042508,6.7679567,2.821139,5.27505,10.777259,-13.869216,5.6922326,11.472449,-7.6314683,-16.766674,5.167011,5.5987597,5.426794,-15.7908325,1.6928763,2.4099295,22.50703,12.70583,-7.1223073,-13.591892,4.943063,9.771424,2.6131158,5.537861,11.892456,-7.898546,-11.525069,5.062253,6.5470877,-7.8778486,-16.78682,5.0546885,6.1777377,-15.950207,-16.665455,22.507698,12.475994,3.5920954,5.037947,6.4524674,-17.239393,5.000188,7.6017265,-11.920976,-10.438971,4.875856,6.5762286,-14.975129,1.493759,1.7181922,-16.275957,22.506287,12.677798,-7.8686433,-13.413971,5.0130486,6.4515104,5.107117,6.610992,-7.1666594,-16.675455,5.1251664,6.43749,-16.916586],\"xaxis\":\"x\",\"y\":[6.6197634,6.579278,-6.256108,7.5577602,8.024644,-6.236589,-1.0164171,5.4781485,4.931033,6.508156,6.5787687,-5.9865656,7.612173,8.065389,-6.485142,6.4119544,-3.2508483,5.652678,6.579177,-6.1928334,6.865261,7.9642067,-6.312795,6.723561,-3.92213,6.5787764,-6.3539295,7.513306,8.216748,-6.338366,-15.364469,5.603157,5.0975804,6.4473276,6.578831,-6.002547,7.2525797,8.078418,-6.4249873,-15.313529,3.7049723,8.210048,-6.4022264,7.3150387,-2.961895,6.1732726,8.1025505,-3.4197042,3.1150522,7.914422,-6.398916,-6.373817,0.05812394,8.013528,-6.3774366,-15.170846,8.41408,1.9240252,-2.89924,-2.875317,6.244604,6.5786176,-9.951319,-15.086132,3.862754,12.053402,-9.083198,-15.439324,3.730582,13.015498,-8.68323,1.6393572,-4.6946626,11.061395,-9.791381,1.718985,-4.621206,12.453307,-8.753152,-5.4811745,11.655059,-8.637282,-15.184548,-4.7241883,12.049443,-9.562868,-5.2868094,12.757667,-9.24191,-5.649186,-4.683094,12.430246,-9.926292,-14.213713,7.831685,12.047778,-9.435405,-15.137767,3.7896016,12.47348,-9.234216,-14.975952,3.784578,12.523174,-8.179613,-5.725295,-4.6497164,11.626149,-9.015839,-15.048172,3.442018,12.08318,-9.377159,-15.027206,3.411584,11.481213,-7.890404,-15.26423,3.9092433,11.277057,-8.147291,-1.0151999,15.80418,11.646484,-9.564784,3.7701845,11.354351,-8.069941,-15.526718,3.7957582,12.462633,-7.919204,-15.511471,3.689985,11.256936,-7.645442,3.3465,11.234379,-7.830463,-14.987932,3.7929761,10.899102,-5.971192,7.378898,7.976134,-6.4917736,-14.1057205,-0.11534793,9.850723,-10.32283,-5.5711994,11.073231,-9.320367,-5.5673237,10.900958,-14.665981,0.7100693,11.467687,-9.63622,7.8271713,10.479723,-8.199847,-5.376173,11.412173,-9.316318,-15.200755,3.7004464,10.510786,-9.615245,-0.9798696,15.808775,10.721041,-5.7454815,-14.937272,1.2989043,9.953625,-9.769651,-1.0199811,15.811779,9.885692,-9.501584,1.8444196,-4.597527,10.286405,-9.6768465,-15.3968115,0.75519276,10.983897,-8.629729,-5.6543627,1.8697177,10.650399,-8.351892,-5.769608,1.9842371,10.172452,-5.90348,-15.241838,-0.20004612,10.752264,-9.698942,-5.679909,2.200422,8.65706,-9.6751795,-0.95378995,15.808475,12.422906,-9.639957,3.5913756,12.261354,-9.501505,-14.921126,0.031263612,12.433417,-9.583852,-14.774487,3.2179008,9.397556,-8.827195,-14.171298,3.4300663,11.487332,-9.268902,-0.79136753,15.809034,12.636353,-9.440559,-0.93184566,11.611126,-14.125653,1.708057,11.051997,-14.176339,3.3986044,11.840803,-9.051969,-0.92941946,15.787444,9.561086,-10.472332,-15.242342,3.0728202,11.570329,-8.073295,0.07855595,11.553508,-9.066873,-5.115343,11.547644,-14.183829,3.6960077,12.981717,-10.237219,-0.9881373,15.810682,13.390427,-9.69631,-0.98841864,-13.709867,12.370731,-9.994614,-15.104546,-0.2537309,12.690228,-8.673201,-15.35566,10.624272,-9.154883,-14.815168,3.7235537,11.782332,-9.593662,-15.005176,-0.16607979,12.3758,-9.682746,-15.285804,0.15125349,11.676499,-9.904082,-15.119516,0.119846866,11.826502,-10.120065,-15.069497,11.789955,-9.641894,-15.325663,0.8059179,11.891324,-9.390076,-15.170724,0.002164316,11.476828,-10.087073,-5.9810925,7.8585567,11.704552,-9.079883,12.188754,-9.125751,-15.287893,11.594719,-9.414003,-5.6638656,1.8759794,12.364179,-8.989561,1.4655502,-4.626514,11.68563,-9.912253,-0.1616184,12.428946,-9.390398,-1.0073417,15.81153,10.223074,-8.1159935,-15.100431,0.7430314,11.442887,-8.465156,1.375467,11.952611,-9.27163,-0.988614,15.808222,11.467364,-9.693438,-15.948513,3.4342406,12.062262,-8.938509,-5.627392,7.9138374,11.956535,-8.491579,-5.616089,7.8108435,11.0410595,-8.100498,-15.268406,-0.1320569,11.712094,-9.195305,-5.4093757,1.8667141,11.399242,-9.483263,-15.200887,11.075613,-8.673627,-15.386173,-0.2154821,11.696927,-7.9542556,-15.247134,0.69599336,11.7101965,-9.99618,-5.672405,4.863487,-4.0598845,-2.843654,-2.959195,6.3009334,6.5788155,-8.528774,12.417295,-8.049742,-5.702054,3.694525,11.629171,-8.261542,-5.465411,12.443779,-14.070106,3.6947286,12.3547,-8.060773,-5.523012,12.763792,-8.31131,-5.2821474,11.222753,-8.086487,11.761578,7.442552,12.495306,-9.566882,-15.471749,0.74923617,12.312966,-9.167846,-0.9206023,15.810082,11.54293,-9.613459,-5.711772,0.16347985,11.71077,-9.376326,-5.0961795,7.864148,11.81535,-8.633068,1.5166373,11.652232,-9.054895,-15.07531,3.7042928,12.860418,-9.541299,-14.1534815,0.080673724,12.332872,-9.869339,-6.0039873,0.36514828,11.555372,-9.378069,-0.92119527,15.814489,11.967236,-8.30758,12.804412,-8.099408,-14.9632015,3.6930788,12.214155,-9.402443,-5.6904297,1.8781073,11.07474,-7.9040794,-15.470767,3.6898623,11.919527,-7.856852,-6.0083904,7.827505,11.499563,-9.608635,-15.212364,3.4452496,11.518787,-7.957314,-15.181165,3.372019,9.669446,-8.184733,-5.7819037,-0.18221503,12.622947,-7.581129,1.7828039,11.87279,-9.136362,1.5826643,12.136622,-9.233505,-14.852087,-0.04243758,10.777713,-8.127631,-5.615757,0.3110805,12.651403,-6.482858,-0.96270263,15.809664,11.91199,-8.839112,-15.120725,-0.087470725,12.844902,-8.39982,-15.268405,12.990499,-9.315899,7.7424603,10.942799,-8.851798,0.68829614,11.516505,-8.803052,-0.97346395,12.855479,-7.509937,-15.325555,12.055218,-8.599073,-15.401292,3.7270403,12.4400215,-8.408932,-5.4915257,0.11085346,11.939772,-8.4177475,-15.174273,0.7010017,12.420747,-9.678567,-5.679181,1.7630831,8.056482,-8.385417,-0.89668417,15.794333,11.604084,-8.782492,-14.098822,-0.07118894,8.314996,-7.8889246,-5.879872,1.8022691,9.23368,-7.658897,1.9156235,12.0140505,-7.7331066,7.4471455,-2.547079,-3.0449164,6.473881,6.578802,-8.345616,-14.112253,7.743733,11.401714,-8.221539,-5.375424,12.790026,-6.4353633,-5.805477,9.772182,11.784485,-9.185939,-5.4010315,11.723918,-14.062335,0.040383212,12.14733,-7.977655,-5.5610733,12.598964,-8.977751,-0.9993715,15.812082,12.466455,-6.530251,-4.758776,8.510087,-8.7822485,1.7277002,11.151762,-7.864433,-15.180821,0.7440922,9.690743,-6.0967546,-6.09425,4.884392,-3.033687,-4.2336698,6.578992,-8.268942,-15.370774,3.9231453,11.168216,-7.9622607,-4.6658626,12.001512,-8.378064,-15.533114,3.650345,8.1336775,-6.42026,-15.311976,0.73292404,7.957182,-6.210424,5.238782,6.375724,6.5787964,-8.207197,-4.6598263,10.176158,-6.3599296,7.3348703,12.418027,-6.934775,-1.1351573,15.809846,8.020616,-6.389549,2.1056266,-2.513756,-3.0125203,5.735019,6.579699,-8.299445,-15.165668,3.8071287,7.989275,-6.345681,7.9332457,-6.434381,-15.198352,0.841277,7.9970446,-6.342784,6.800104],\"yaxis\":\"y\",\"type\":\"scatter\"},{\"customdata\":[[\"Find entries related to outstanding checks and vouchers as of 6\\u002f30\\u002f2023\"]],\"hovertemplate\":\"source=User query\\u003cbr\\u003esymbol=star\\u003cbr\\u003ex=%{x}\\u003cbr\\u003ey=%{y}\\u003cbr\\u003esize_col=%{marker.size}\\u003cbr\\u003eextract=%{customdata[0]}\\u003cextra\\u003e\\u003c\\u002fextra\\u003e\",\"legendgroup\":\"User query, star\",\"marker\":{\"color\":\"black\",\"size\":[100],\"sizemode\":\"area\",\"sizeref\":0.25,\"symbol\":\"diamond\",\"line\":{\"color\":\"DarkSlateGrey\",\"width\":0},\"opacity\":1},\"mode\":\"markers\",\"name\":\"User query, star\",\"orientation\":\"v\",\"showlegend\":true,\"x\":[2.600082],\"xaxis\":\"x\",\"y\":[-4.7170424],\"yaxis\":\"y\",\"type\":\"scatter\"}],                        {\"template\":{\"data\":{\"histogram2dcontour\":[{\"type\":\"histogram2dcontour\",\"colorbar\":{\"outlinewidth\":0,\"ticks\":\"\"},\"colorscale\":[[0.0,\"#0d0887\"],[0.1111111111111111,\"#46039f\"],[0.2222222222222222,\"#7201a8\"],[0.3333333333333333,\"#9c179e\"],[0.4444444444444444,\"#bd3786\"],[0.5555555555555556,\"#d8576b\"],[0.6666666666666666,\"#ed7953\"],[0.7777777777777778,\"#fb9f3a\"],[0.8888888888888888,\"#fdca26\"],[1.0,\"#f0f921\"]]}],\"choropleth\":[{\"type\":\"choropleth\",\"colorbar\":{\"outlinewidth\":0,\"ticks\":\"\"}}],\"histogram2d\":[{\"type\":\"histogram2d\",\"colorbar\":{\"outlinewidth\":0,\"ticks\":\"\"},\"colorscale\":[[0.0,\"#0d0887\"],[0.1111111111111111,\"#46039f\"],[0.2222222222222222,\"#7201a8\"],[0.3333333333333333,\"#9c179e\"],[0.4444444444444444,\"#bd3786\"],[0.5555555555555556,\"#d8576b\"],[0.6666666666666666,\"#ed7953\"],[0.7777777777777778,\"#fb9f3a\"],[0.8888888888888888,\"#fdca26\"],[1.0,\"#f0f921\"]]}],\"heatmap\":[{\"type\":\"heatmap\",\"colorbar\":{\"outlinewidth\":0,\"ticks\":\"\"},\"colorscale\":[[0.0,\"#0d0887\"],[0.1111111111111111,\"#46039f\"],[0.2222222222222222,\"#7201a8\"],[0.3333333333333333,\"#9c179e\"],[0.4444444444444444,\"#bd3786\"],[0.5555555555555556,\"#d8576b\"],[0.6666666666666666,\"#ed7953\"],[0.7777777777777778,\"#fb9f3a\"],[0.8888888888888888,\"#fdca26\"],[1.0,\"#f0f921\"]]}],\"heatmapgl\":[{\"type\":\"heatmapgl\",\"colorbar\":{\"outlinewidth\":0,\"ticks\":\"\"},\"colorscale\":[[0.0,\"#0d0887\"],[0.1111111111111111,\"#46039f\"],[0.2222222222222222,\"#7201a8\"],[0.3333333333333333,\"#9c179e\"],[0.4444444444444444,\"#bd3786\"],[0.5555555555555556,\"#d8576b\"],[0.6666666666666666,\"#ed7953\"],[0.7777777777777778,\"#fb9f3a\"],[0.8888888888888888,\"#fdca26\"],[1.0,\"#f0f921\"]]}],\"contourcarpet\":[{\"type\":\"contourcarpet\",\"colorbar\":{\"outlinewidth\":0,\"ticks\":\"\"}}],\"contour\":[{\"type\":\"contour\",\"colorbar\":{\"outlinewidth\":0,\"ticks\":\"\"},\"colorscale\":[[0.0,\"#0d0887\"],[0.1111111111111111,\"#46039f\"],[0.2222222222222222,\"#7201a8\"],[0.3333333333333333,\"#9c179e\"],[0.4444444444444444,\"#bd3786\"],[0.5555555555555556,\"#d8576b\"],[0.6666666666666666,\"#ed7953\"],[0.7777777777777778,\"#fb9f3a\"],[0.8888888888888888,\"#fdca26\"],[1.0,\"#f0f921\"]]}],\"surface\":[{\"type\":\"surface\",\"colorbar\":{\"outlinewidth\":0,\"ticks\":\"\"},\"colorscale\":[[0.0,\"#0d0887\"],[0.1111111111111111,\"#46039f\"],[0.2222222222222222,\"#7201a8\"],[0.3333333333333333,\"#9c179e\"],[0.4444444444444444,\"#bd3786\"],[0.5555555555555556,\"#d8576b\"],[0.6666666666666666,\"#ed7953\"],[0.7777777777777778,\"#fb9f3a\"],[0.8888888888888888,\"#fdca26\"],[1.0,\"#f0f921\"]]}],\"mesh3d\":[{\"type\":\"mesh3d\",\"colorbar\":{\"outlinewidth\":0,\"ticks\":\"\"}}],\"scatter\":[{\"fillpattern\":{\"fillmode\":\"overlay\",\"size\":10,\"solidity\":0.2},\"type\":\"scatter\"}],\"parcoords\":[{\"type\":\"parcoords\",\"line\":{\"colorbar\":{\"outlinewidth\":0,\"ticks\":\"\"}}}],\"scatterpolargl\":[{\"type\":\"scatterpolargl\",\"marker\":{\"colorbar\":{\"outlinewidth\":0,\"ticks\":\"\"}}}],\"bar\":[{\"error_x\":{\"color\":\"#2a3f5f\"},\"error_y\":{\"color\":\"#2a3f5f\"},\"marker\":{\"line\":{\"color\":\"#E5ECF6\",\"width\":0.5},\"pattern\":{\"fillmode\":\"overlay\",\"size\":10,\"solidity\":0.2}},\"type\":\"bar\"}],\"scattergeo\":[{\"type\":\"scattergeo\",\"marker\":{\"colorbar\":{\"outlinewidth\":0,\"ticks\":\"\"}}}],\"scatterpolar\":[{\"type\":\"scatterpolar\",\"marker\":{\"colorbar\":{\"outlinewidth\":0,\"ticks\":\"\"}}}],\"histogram\":[{\"marker\":{\"pattern\":{\"fillmode\":\"overlay\",\"size\":10,\"solidity\":0.2}},\"type\":\"histogram\"}],\"scattergl\":[{\"type\":\"scattergl\",\"marker\":{\"colorbar\":{\"outlinewidth\":0,\"ticks\":\"\"}}}],\"scatter3d\":[{\"type\":\"scatter3d\",\"line\":{\"colorbar\":{\"outlinewidth\":0,\"ticks\":\"\"}},\"marker\":{\"colorbar\":{\"outlinewidth\":0,\"ticks\":\"\"}}}],\"scattermapbox\":[{\"type\":\"scattermapbox\",\"marker\":{\"colorbar\":{\"outlinewidth\":0,\"ticks\":\"\"}}}],\"scatterternary\":[{\"type\":\"scatterternary\",\"marker\":{\"colorbar\":{\"outlinewidth\":0,\"ticks\":\"\"}}}],\"scattercarpet\":[{\"type\":\"scattercarpet\",\"marker\":{\"colorbar\":{\"outlinewidth\":0,\"ticks\":\"\"}}}],\"carpet\":[{\"aaxis\":{\"endlinecolor\":\"#2a3f5f\",\"gridcolor\":\"white\",\"linecolor\":\"white\",\"minorgridcolor\":\"white\",\"startlinecolor\":\"#2a3f5f\"},\"baxis\":{\"endlinecolor\":\"#2a3f5f\",\"gridcolor\":\"white\",\"linecolor\":\"white\",\"minorgridcolor\":\"white\",\"startlinecolor\":\"#2a3f5f\"},\"type\":\"carpet\"}],\"table\":[{\"cells\":{\"fill\":{\"color\":\"#EBF0F8\"},\"line\":{\"color\":\"white\"}},\"header\":{\"fill\":{\"color\":\"#C8D4E3\"},\"line\":{\"color\":\"white\"}},\"type\":\"table\"}],\"barpolar\":[{\"marker\":{\"line\":{\"color\":\"#E5ECF6\",\"width\":0.5},\"pattern\":{\"fillmode\":\"overlay\",\"size\":10,\"solidity\":0.2}},\"type\":\"barpolar\"}],\"pie\":[{\"automargin\":true,\"type\":\"pie\"}]},\"layout\":{\"autotypenumbers\":\"strict\",\"colorway\":[\"#636efa\",\"#EF553B\",\"#00cc96\",\"#ab63fa\",\"#FFA15A\",\"#19d3f3\",\"#FF6692\",\"#B6E880\",\"#FF97FF\",\"#FECB52\"],\"font\":{\"color\":\"#2a3f5f\"},\"hovermode\":\"closest\",\"hoverlabel\":{\"align\":\"left\"},\"paper_bgcolor\":\"white\",\"plot_bgcolor\":\"#E5ECF6\",\"polar\":{\"bgcolor\":\"#E5ECF6\",\"angularaxis\":{\"gridcolor\":\"white\",\"linecolor\":\"white\",\"ticks\":\"\"},\"radialaxis\":{\"gridcolor\":\"white\",\"linecolor\":\"white\",\"ticks\":\"\"}},\"ternary\":{\"bgcolor\":\"#E5ECF6\",\"aaxis\":{\"gridcolor\":\"white\",\"linecolor\":\"white\",\"ticks\":\"\"},\"baxis\":{\"gridcolor\":\"white\",\"linecolor\":\"white\",\"ticks\":\"\"},\"caxis\":{\"gridcolor\":\"white\",\"linecolor\":\"white\",\"ticks\":\"\"}},\"coloraxis\":{\"colorbar\":{\"outlinewidth\":0,\"ticks\":\"\"}},\"colorscale\":{\"sequential\":[[0.0,\"#0d0887\"],[0.1111111111111111,\"#46039f\"],[0.2222222222222222,\"#7201a8\"],[0.3333333333333333,\"#9c179e\"],[0.4444444444444444,\"#bd3786\"],[0.5555555555555556,\"#d8576b\"],[0.6666666666666666,\"#ed7953\"],[0.7777777777777778,\"#fb9f3a\"],[0.8888888888888888,\"#fdca26\"],[1.0,\"#f0f921\"]],\"sequentialminus\":[[0.0,\"#0d0887\"],[0.1111111111111111,\"#46039f\"],[0.2222222222222222,\"#7201a8\"],[0.3333333333333333,\"#9c179e\"],[0.4444444444444444,\"#bd3786\"],[0.5555555555555556,\"#d8576b\"],[0.6666666666666666,\"#ed7953\"],[0.7777777777777778,\"#fb9f3a\"],[0.8888888888888888,\"#fdca26\"],[1.0,\"#f0f921\"]],\"diverging\":[[0,\"#8e0152\"],[0.1,\"#c51b7d\"],[0.2,\"#de77ae\"],[0.3,\"#f1b6da\"],[0.4,\"#fde0ef\"],[0.5,\"#f7f7f7\"],[0.6,\"#e6f5d0\"],[0.7,\"#b8e186\"],[0.8,\"#7fbc41\"],[0.9,\"#4d9221\"],[1,\"#276419\"]]},\"xaxis\":{\"gridcolor\":\"white\",\"linecolor\":\"white\",\"ticks\":\"\",\"title\":{\"standoff\":15},\"zerolinecolor\":\"white\",\"automargin\":true,\"zerolinewidth\":2},\"yaxis\":{\"gridcolor\":\"white\",\"linecolor\":\"white\",\"ticks\":\"\",\"title\":{\"standoff\":15},\"zerolinecolor\":\"white\",\"automargin\":true,\"zerolinewidth\":2},\"scene\":{\"xaxis\":{\"backgroundcolor\":\"#E5ECF6\",\"gridcolor\":\"white\",\"linecolor\":\"white\",\"showbackground\":true,\"ticks\":\"\",\"zerolinecolor\":\"white\",\"gridwidth\":2},\"yaxis\":{\"backgroundcolor\":\"#E5ECF6\",\"gridcolor\":\"white\",\"linecolor\":\"white\",\"showbackground\":true,\"ticks\":\"\",\"zerolinecolor\":\"white\",\"gridwidth\":2},\"zaxis\":{\"backgroundcolor\":\"#E5ECF6\",\"gridcolor\":\"white\",\"linecolor\":\"white\",\"showbackground\":true,\"ticks\":\"\",\"zerolinecolor\":\"white\",\"gridwidth\":2}},\"shapedefaults\":{\"line\":{\"color\":\"#2a3f5f\"}},\"annotationdefaults\":{\"arrowcolor\":\"#2a3f5f\",\"arrowhead\":0,\"arrowwidth\":1},\"geo\":{\"bgcolor\":\"white\",\"landcolor\":\"#E5ECF6\",\"subunitcolor\":\"white\",\"showland\":true,\"showlakes\":true,\"lakecolor\":\"white\"},\"title\":{\"x\":0.05},\"mapbox\":{\"style\":\"light\"}}},\"xaxis\":{\"anchor\":\"y\",\"domain\":[0.0,1.0],\"title\":{\"text\":\"x\"}},\"yaxis\":{\"anchor\":\"x\",\"domain\":[0.0,1.0],\"title\":{\"text\":\"y\"}},\"legend\":{\"title\":{\"text\":\"\\u003cb\\u003eChunk source\\u003c\\u002fb\\u003e\"},\"tracegroupgap\":0,\"itemsizing\":\"constant\"},\"margin\":{\"t\":60},\"height\":700,\"width\":1000,\"title\":{\"text\":\"\\u003cb\\u003e2D Projection of Chunk Embeddings via PaCMAP\\u003c\\u002fb\\u003e\"}},                        {\"responsive\": true}                    ).then(function(){\n",
              "                            \n",
              "var gd = document.getElementById('f63462b0-030c-4a5f-86bc-405777a3f985');\n",
              "var x = new MutationObserver(function (mutations, observer) {{\n",
              "        var display = window.getComputedStyle(gd).display;\n",
              "        if (!display || display === 'none') {{\n",
              "            console.log([gd, 'removed!']);\n",
              "            Plotly.purge(gd);\n",
              "            observer.disconnect();\n",
              "        }}\n",
              "}});\n",
              "\n",
              "// Listen for the removal of the full notebook cells\n",
              "var notebookContainer = gd.closest('#notebook-container');\n",
              "if (notebookContainer) {{\n",
              "    x.observe(notebookContainer, {childList: true});\n",
              "}}\n",
              "\n",
              "// Listen for the clearing of the current output cell\n",
              "var outputEl = gd.closest('.output');\n",
              "if (outputEl) {{\n",
              "    x.observe(outputEl, {childList: true});\n",
              "}}\n",
              "\n",
              "                        })                };                            </script>        </div>\n",
              "</body>\n",
              "</html>"
            ]
          },
          "metadata": {}
        }
      ],
      "source": [
        "df = pd.DataFrame.from_dict(\n",
        "    [\n",
        "        {\n",
        "            \"x\": documents_projected[i, 0],\n",
        "            \"y\": documents_projected[i, 1],\n",
        "            \"source\": docs_processed[i].metadata[\"source\"].split(\"/\")[1],\n",
        "            \"extract\": docs_processed[i].page_content[:100] + \"...\",\n",
        "            \"symbol\": \"circle\",\n",
        "            \"size_col\": 4,\n",
        "        }\n",
        "        for i in range(len(docs_processed))\n",
        "    ]\n",
        "    + [\n",
        "        {\n",
        "            \"x\": documents_projected[-1, 0],\n",
        "            \"y\": documents_projected[-1, 1],\n",
        "            \"source\": \"User query\",\n",
        "            \"extract\": user_query,\n",
        "            \"size_col\": 100,\n",
        "            \"symbol\": \"star\",\n",
        "        }\n",
        "    ]\n",
        ")\n",
        "\n",
        "# Visualize the embedding\n",
        "fig = px.scatter(\n",
        "    df,\n",
        "    x=\"x\",\n",
        "    y=\"y\",\n",
        "    color=\"source\",\n",
        "    hover_data=\"extract\",\n",
        "    size=\"size_col\",\n",
        "    symbol=\"symbol\",\n",
        "    color_discrete_map={\"User query\": \"black\"},\n",
        "    width=1000,\n",
        "    height=700,\n",
        ")\n",
        "fig.update_traces(\n",
        "    marker=dict(opacity=1, line=dict(width=0, color=\"DarkSlateGrey\")),\n",
        "    selector=dict(mode=\"markers\"),\n",
        ")\n",
        "fig.update_layout(\n",
        "    legend_title_text=\"<b>Chunk source</b>\",\n",
        "    title=\"<b>2D Projection of Chunk Embeddings via PaCMAP</b>\",\n",
        ")\n",
        "fig.show()"
      ]
    },
    {
      "cell_type": "markdown",
      "metadata": {
        "id": "kWesCSGt9-9N"
      },
      "source": [
        "<img src=\"https://huggingface.co/datasets/huggingface/cookbook-images/resolve/main/PaCMAP_embeddings.png\" height=\"700\">\n",
        "\n",
        "\n",
        "➡️ On the graph above, you can see a spatial representation of the knowledge base documents. As the vector embeddings represent the document's meaning, their closeness in meaning should be reflected in their embedding's closeness.\n",
        "\n",
        "The user query's embedding is also shown: we want to find the `k` documents that have the closest meaning, thus we pick the `k` closest vectors.\n",
        "\n",
        "In the LangChain vector database implementation, this search operation is performed by the method `vector_database.similarity_search(query)`.\n",
        "\n",
        "Here is the result:"
      ]
    },
    {
      "cell_type": "code",
      "execution_count": 24,
      "metadata": {
        "id": "VcjQzejH9-9N",
        "outputId": "76667392-1c70-49a1-9ae1-870da0ab91e2",
        "colab": {
          "base_uri": "https://localhost:8080/"
        }
      },
      "outputs": [
        {
          "output_type": "stream",
          "name": "stdout",
          "text": [
            "\n",
            "Starting retrieval for user_query='Find entries related to outstanding checks and vouchers as of 6/30/2023'...\n",
            "\n",
            "==================================Top document==================================\n",
            "### Outstanding Checks/Vouchers\n",
            "==================================Metadata==================================\n",
            "{'source': './test.md', 'start_index': 77140}\n"
          ]
        }
      ],
      "source": [
        "print(f\"\\nStarting retrieval for {user_query=}...\")\n",
        "retrieved_docs = KNOWLEDGE_VECTOR_DATABASE.similarity_search(query=user_query, k=5)\n",
        "print(\n",
        "    \"\\n==================================Top document==================================\"\n",
        ")\n",
        "print(retrieved_docs[0].page_content)\n",
        "print(\"==================================Metadata==================================\")\n",
        "print(retrieved_docs[0].metadata)"
      ]
    },
    {
      "cell_type": "markdown",
      "metadata": {
        "id": "VjVqmDGh9-9N"
      },
      "source": [
        "# 2. Reader - LLM 💬\n",
        "\n",
        "In this part, the __LLM Reader reads the retrieved context to formulate its answer.__\n",
        "\n",
        "There are substeps that can all be tuned:\n",
        "1. The content of the retrieved documents is aggregated together into the \"context\", with many processing options like _prompt compression_.\n",
        "2. The context and the user query are aggregated into a prompt and then given to the LLM to generate its answer."
      ]
    },
    {
      "cell_type": "markdown",
      "metadata": {
        "id": "0xiXcG269-9N"
      },
      "source": [
        "### 2.1. Reader model\n",
        "\n",
        "The choice of a reader model is important in a few aspects:\n",
        "- the reader model's `max_seq_length` must accommodate our prompt, which includes the context output by the retriever call: the context consists of 5 documents of 512 tokens each, so we aim for a context length of 4k tokens at least.\n",
        "- the reader model\n",
        "\n",
        "For this example, we chose [`HuggingFaceH4/zephyr-7b-beta`](https://huggingface.co/HuggingFaceH4/zephyr-7b-beta), a small but powerful model.\n",
        "\n",
        "With many models being released every week, you may want to substitute this model to the latest and greatest. The best way to keep track of open source LLMs is to check the [Open-source LLM leaderboard](https://huggingface.co/spaces/HuggingFaceH4/open_llm_leaderboard).\n",
        "\n",
        "To make inference faster, we will load the quantized version of the model:"
      ]
    },
    {
      "cell_type": "code",
      "source": [
        "pip install -U transformers"
      ],
      "metadata": {
        "id": "67hn7HN_1Bgw",
        "outputId": "7429be18-6326-443e-b51d-26a73a980a32",
        "colab": {
          "base_uri": "https://localhost:8080/",
          "height": 635
        }
      },
      "execution_count": 33,
      "outputs": [
        {
          "output_type": "stream",
          "name": "stdout",
          "text": [
            "Requirement already satisfied: transformers in /usr/local/lib/python3.11/dist-packages (4.48.3)\n",
            "Collecting transformers\n",
            "  Downloading transformers-4.49.0-py3-none-any.whl.metadata (44 kB)\n",
            "\u001b[2K     \u001b[90m━━━━━━━━━━━━━━━━━━━━━━━━━━━━━━━━━━━━━━━━\u001b[0m \u001b[32m44.0/44.0 kB\u001b[0m \u001b[31m2.6 MB/s\u001b[0m eta \u001b[36m0:00:00\u001b[0m\n",
            "\u001b[?25hRequirement already satisfied: filelock in /usr/local/lib/python3.11/dist-packages (from transformers) (3.17.0)\n",
            "Requirement already satisfied: huggingface-hub<1.0,>=0.26.0 in /usr/local/lib/python3.11/dist-packages (from transformers) (0.28.1)\n",
            "Requirement already satisfied: numpy>=1.17 in /usr/local/lib/python3.11/dist-packages (from transformers) (1.26.4)\n",
            "Requirement already satisfied: packaging>=20.0 in /usr/local/lib/python3.11/dist-packages (from transformers) (24.2)\n",
            "Requirement already satisfied: pyyaml>=5.1 in /usr/local/lib/python3.11/dist-packages (from transformers) (6.0.2)\n",
            "Requirement already satisfied: regex!=2019.12.17 in /usr/local/lib/python3.11/dist-packages (from transformers) (2024.11.6)\n",
            "Requirement already satisfied: requests in /usr/local/lib/python3.11/dist-packages (from transformers) (2.32.3)\n",
            "Requirement already satisfied: tokenizers<0.22,>=0.21 in /usr/local/lib/python3.11/dist-packages (from transformers) (0.21.0)\n",
            "Requirement already satisfied: safetensors>=0.4.1 in /usr/local/lib/python3.11/dist-packages (from transformers) (0.5.3)\n",
            "Requirement already satisfied: tqdm>=4.27 in /usr/local/lib/python3.11/dist-packages (from transformers) (4.67.1)\n",
            "Requirement already satisfied: fsspec>=2023.5.0 in /usr/local/lib/python3.11/dist-packages (from huggingface-hub<1.0,>=0.26.0->transformers) (2024.10.0)\n",
            "Requirement already satisfied: typing-extensions>=3.7.4.3 in /usr/local/lib/python3.11/dist-packages (from huggingface-hub<1.0,>=0.26.0->transformers) (4.12.2)\n",
            "Requirement already satisfied: charset-normalizer<4,>=2 in /usr/local/lib/python3.11/dist-packages (from requests->transformers) (3.4.1)\n",
            "Requirement already satisfied: idna<4,>=2.5 in /usr/local/lib/python3.11/dist-packages (from requests->transformers) (3.10)\n",
            "Requirement already satisfied: urllib3<3,>=1.21.1 in /usr/local/lib/python3.11/dist-packages (from requests->transformers) (2.3.0)\n",
            "Requirement already satisfied: certifi>=2017.4.17 in /usr/local/lib/python3.11/dist-packages (from requests->transformers) (2025.1.31)\n",
            "Downloading transformers-4.49.0-py3-none-any.whl (10.0 MB)\n",
            "\u001b[2K   \u001b[90m━━━━━━━━━━━━━━━━━━━━━━━━━━━━━━━━━━━━━━━━\u001b[0m \u001b[32m10.0/10.0 MB\u001b[0m \u001b[31m2.5 MB/s\u001b[0m eta \u001b[36m0:00:00\u001b[0m\n",
            "\u001b[?25hInstalling collected packages: transformers\n",
            "  Attempting uninstall: transformers\n",
            "    Found existing installation: transformers 4.48.3\n",
            "    Uninstalling transformers-4.48.3:\n",
            "      Successfully uninstalled transformers-4.48.3\n",
            "Successfully installed transformers-4.49.0\n"
          ]
        },
        {
          "output_type": "display_data",
          "data": {
            "application/vnd.colab-display-data+json": {
              "pip_warning": {
                "packages": [
                  "transformers"
                ]
              },
              "id": "63216fdc81e34f8a85f3322389f521e1"
            }
          },
          "metadata": {}
        }
      ]
    },
    {
      "cell_type": "code",
      "execution_count": 1,
      "metadata": {
        "colab": {
          "base_uri": "https://localhost:8080/",
          "height": 724
        },
        "id": "QX_ORK4l9-9N",
        "outputId": "11e97b10-98d5-43b5-bbd0-363cfc15852e"
      },
      "outputs": [
        {
          "output_type": "stream",
          "name": "stderr",
          "text": [
            "ERROR:bitsandbytes.cextension:Could not load bitsandbytes native library: /lib/x86_64-linux-gnu/libstdc++.so.6: version `GLIBCXX_3.4.32' not found (required by /usr/local/lib/python3.11/dist-packages/bitsandbytes/libbitsandbytes_cpu.so)\n",
            "Traceback (most recent call last):\n",
            "  File \"/usr/local/lib/python3.11/dist-packages/bitsandbytes/cextension.py\", line 85, in <module>\n",
            "    lib = get_native_library()\n",
            "          ^^^^^^^^^^^^^^^^^^^^\n",
            "  File \"/usr/local/lib/python3.11/dist-packages/bitsandbytes/cextension.py\", line 72, in get_native_library\n",
            "    dll = ct.cdll.LoadLibrary(str(binary_path))\n",
            "          ^^^^^^^^^^^^^^^^^^^^^^^^^^^^^^^^^^^^^\n",
            "  File \"/usr/lib/python3.11/ctypes/__init__.py\", line 454, in LoadLibrary\n",
            "    return self._dlltype(name)\n",
            "           ^^^^^^^^^^^^^^^^^^^\n",
            "  File \"/usr/lib/python3.11/ctypes/__init__.py\", line 376, in __init__\n",
            "    self._handle = _dlopen(self._name, mode)\n",
            "                   ^^^^^^^^^^^^^^^^^^^^^^^^^\n",
            "OSError: /lib/x86_64-linux-gnu/libstdc++.so.6: version `GLIBCXX_3.4.32' not found (required by /usr/local/lib/python3.11/dist-packages/bitsandbytes/libbitsandbytes_cpu.so)\n",
            "CUDA is required but not available for bitsandbytes. Please consider installing the multi-platform enabled version of bitsandbytes, which is currently a work in progress. Please check currently supported platforms and installation instructions at https://huggingface.co/docs/bitsandbytes/main/en/installation#multi-backend\n"
          ]
        },
        {
          "output_type": "error",
          "ename": "RuntimeError",
          "evalue": "CUDA is required but not available for bitsandbytes. Please consider installing the multi-platform enabled version of bitsandbytes, which is currently a work in progress. Please check currently supported platforms and installation instructions at https://huggingface.co/docs/bitsandbytes/main/en/installation#multi-backend",
          "traceback": [
            "\u001b[0;31m---------------------------------------------------------------------------\u001b[0m",
            "\u001b[0;31mRuntimeError\u001b[0m                              Traceback (most recent call last)",
            "\u001b[0;32m<ipython-input-1-eb47191f12d1>\u001b[0m in \u001b[0;36m<cell line: 0>\u001b[0;34m()\u001b[0m\n\u001b[1;32m     12\u001b[0m     \u001b[0mbnb_4bit_compute_dtype\u001b[0m\u001b[0;34m=\u001b[0m\u001b[0mtorch\u001b[0m\u001b[0;34m.\u001b[0m\u001b[0mbfloat16\u001b[0m\u001b[0;34m,\u001b[0m\u001b[0;34m\u001b[0m\u001b[0;34m\u001b[0m\u001b[0m\n\u001b[1;32m     13\u001b[0m )\n\u001b[0;32m---> 14\u001b[0;31m model = AutoModelForCausalLM.from_pretrained(\n\u001b[0m\u001b[1;32m     15\u001b[0m     \u001b[0mREADER_MODEL_NAME\u001b[0m\u001b[0;34m,\u001b[0m \u001b[0mquantization_config\u001b[0m\u001b[0;34m=\u001b[0m\u001b[0mbnb_config\u001b[0m\u001b[0;34m\u001b[0m\u001b[0;34m\u001b[0m\u001b[0m\n\u001b[1;32m     16\u001b[0m )\n",
            "\u001b[0;32m/usr/local/lib/python3.11/dist-packages/transformers/models/auto/auto_factory.py\u001b[0m in \u001b[0;36mfrom_pretrained\u001b[0;34m(cls, pretrained_model_name_or_path, *model_args, **kwargs)\u001b[0m\n\u001b[1;32m    562\u001b[0m         \u001b[0;32melif\u001b[0m \u001b[0mtype\u001b[0m\u001b[0;34m(\u001b[0m\u001b[0mconfig\u001b[0m\u001b[0;34m)\u001b[0m \u001b[0;32min\u001b[0m \u001b[0mcls\u001b[0m\u001b[0;34m.\u001b[0m\u001b[0m_model_mapping\u001b[0m\u001b[0;34m.\u001b[0m\u001b[0mkeys\u001b[0m\u001b[0;34m(\u001b[0m\u001b[0;34m)\u001b[0m\u001b[0;34m:\u001b[0m\u001b[0;34m\u001b[0m\u001b[0;34m\u001b[0m\u001b[0m\n\u001b[1;32m    563\u001b[0m             \u001b[0mmodel_class\u001b[0m \u001b[0;34m=\u001b[0m \u001b[0m_get_model_class\u001b[0m\u001b[0;34m(\u001b[0m\u001b[0mconfig\u001b[0m\u001b[0;34m,\u001b[0m \u001b[0mcls\u001b[0m\u001b[0;34m.\u001b[0m\u001b[0m_model_mapping\u001b[0m\u001b[0;34m)\u001b[0m\u001b[0;34m\u001b[0m\u001b[0;34m\u001b[0m\u001b[0m\n\u001b[0;32m--> 564\u001b[0;31m             return model_class.from_pretrained(\n\u001b[0m\u001b[1;32m    565\u001b[0m                 \u001b[0mpretrained_model_name_or_path\u001b[0m\u001b[0;34m,\u001b[0m \u001b[0;34m*\u001b[0m\u001b[0mmodel_args\u001b[0m\u001b[0;34m,\u001b[0m \u001b[0mconfig\u001b[0m\u001b[0;34m=\u001b[0m\u001b[0mconfig\u001b[0m\u001b[0;34m,\u001b[0m \u001b[0;34m**\u001b[0m\u001b[0mhub_kwargs\u001b[0m\u001b[0;34m,\u001b[0m \u001b[0;34m**\u001b[0m\u001b[0mkwargs\u001b[0m\u001b[0;34m\u001b[0m\u001b[0;34m\u001b[0m\u001b[0m\n\u001b[1;32m    566\u001b[0m             )\n",
            "\u001b[0;32m/usr/local/lib/python3.11/dist-packages/transformers/modeling_utils.py\u001b[0m in \u001b[0;36m_wrapper\u001b[0;34m(*args, **kwargs)\u001b[0m\n\u001b[1;32m    260\u001b[0m         \u001b[0mold_dtype\u001b[0m \u001b[0;34m=\u001b[0m \u001b[0mtorch\u001b[0m\u001b[0;34m.\u001b[0m\u001b[0mget_default_dtype\u001b[0m\u001b[0;34m(\u001b[0m\u001b[0;34m)\u001b[0m\u001b[0;34m\u001b[0m\u001b[0;34m\u001b[0m\u001b[0m\n\u001b[1;32m    261\u001b[0m         \u001b[0;32mtry\u001b[0m\u001b[0;34m:\u001b[0m\u001b[0;34m\u001b[0m\u001b[0;34m\u001b[0m\u001b[0m\n\u001b[0;32m--> 262\u001b[0;31m             \u001b[0;32mreturn\u001b[0m \u001b[0mfunc\u001b[0m\u001b[0;34m(\u001b[0m\u001b[0;34m*\u001b[0m\u001b[0margs\u001b[0m\u001b[0;34m,\u001b[0m \u001b[0;34m**\u001b[0m\u001b[0mkwargs\u001b[0m\u001b[0;34m)\u001b[0m\u001b[0;34m\u001b[0m\u001b[0;34m\u001b[0m\u001b[0m\n\u001b[0m\u001b[1;32m    263\u001b[0m         \u001b[0;32mfinally\u001b[0m\u001b[0;34m:\u001b[0m\u001b[0;34m\u001b[0m\u001b[0;34m\u001b[0m\u001b[0m\n\u001b[1;32m    264\u001b[0m             \u001b[0mtorch\u001b[0m\u001b[0;34m.\u001b[0m\u001b[0mset_default_dtype\u001b[0m\u001b[0;34m(\u001b[0m\u001b[0mold_dtype\u001b[0m\u001b[0;34m)\u001b[0m\u001b[0;34m\u001b[0m\u001b[0;34m\u001b[0m\u001b[0m\n",
            "\u001b[0;32m/usr/local/lib/python3.11/dist-packages/transformers/modeling_utils.py\u001b[0m in \u001b[0;36mfrom_pretrained\u001b[0;34m(cls, pretrained_model_name_or_path, config, cache_dir, ignore_mismatched_sizes, force_download, local_files_only, token, revision, use_safetensors, weights_only, *model_args, **kwargs)\u001b[0m\n\u001b[1;32m   3696\u001b[0m \u001b[0;34m\u001b[0m\u001b[0m\n\u001b[1;32m   3697\u001b[0m         \u001b[0;32mif\u001b[0m \u001b[0mhf_quantizer\u001b[0m \u001b[0;32mis\u001b[0m \u001b[0;32mnot\u001b[0m \u001b[0;32mNone\u001b[0m\u001b[0;34m:\u001b[0m\u001b[0;34m\u001b[0m\u001b[0;34m\u001b[0m\u001b[0m\n\u001b[0;32m-> 3698\u001b[0;31m             hf_quantizer.validate_environment(\n\u001b[0m\u001b[1;32m   3699\u001b[0m                 \u001b[0mtorch_dtype\u001b[0m\u001b[0;34m=\u001b[0m\u001b[0mtorch_dtype\u001b[0m\u001b[0;34m,\u001b[0m\u001b[0;34m\u001b[0m\u001b[0;34m\u001b[0m\u001b[0m\n\u001b[1;32m   3700\u001b[0m                 \u001b[0mfrom_tf\u001b[0m\u001b[0;34m=\u001b[0m\u001b[0mfrom_tf\u001b[0m\u001b[0;34m,\u001b[0m\u001b[0;34m\u001b[0m\u001b[0;34m\u001b[0m\u001b[0m\n",
            "\u001b[0;32m/usr/local/lib/python3.11/dist-packages/transformers/quantizers/quantizer_bnb_4bit.py\u001b[0m in \u001b[0;36mvalidate_environment\u001b[0;34m(self, *args, **kwargs)\u001b[0m\n\u001b[1;32m     81\u001b[0m \u001b[0;34m\u001b[0m\u001b[0m\n\u001b[1;32m     82\u001b[0m         \u001b[0mbnb_multibackend_is_enabled\u001b[0m \u001b[0;34m=\u001b[0m \u001b[0mis_bitsandbytes_multi_backend_available\u001b[0m\u001b[0;34m(\u001b[0m\u001b[0;34m)\u001b[0m\u001b[0;34m\u001b[0m\u001b[0;34m\u001b[0m\u001b[0m\n\u001b[0;32m---> 83\u001b[0;31m         \u001b[0mvalidate_bnb_backend_availability\u001b[0m\u001b[0;34m(\u001b[0m\u001b[0mraise_exception\u001b[0m\u001b[0;34m=\u001b[0m\u001b[0;32mTrue\u001b[0m\u001b[0;34m)\u001b[0m\u001b[0;34m\u001b[0m\u001b[0;34m\u001b[0m\u001b[0m\n\u001b[0m\u001b[1;32m     84\u001b[0m \u001b[0;34m\u001b[0m\u001b[0m\n\u001b[1;32m     85\u001b[0m         \u001b[0;32mif\u001b[0m \u001b[0mkwargs\u001b[0m\u001b[0;34m.\u001b[0m\u001b[0mget\u001b[0m\u001b[0;34m(\u001b[0m\u001b[0;34m\"from_tf\"\u001b[0m\u001b[0;34m,\u001b[0m \u001b[0;32mFalse\u001b[0m\u001b[0;34m)\u001b[0m \u001b[0;32mor\u001b[0m \u001b[0mkwargs\u001b[0m\u001b[0;34m.\u001b[0m\u001b[0mget\u001b[0m\u001b[0;34m(\u001b[0m\u001b[0;34m\"from_flax\"\u001b[0m\u001b[0;34m,\u001b[0m \u001b[0;32mFalse\u001b[0m\u001b[0;34m)\u001b[0m\u001b[0;34m:\u001b[0m\u001b[0;34m\u001b[0m\u001b[0;34m\u001b[0m\u001b[0m\n",
            "\u001b[0;32m/usr/local/lib/python3.11/dist-packages/transformers/integrations/bitsandbytes.py\u001b[0m in \u001b[0;36mvalidate_bnb_backend_availability\u001b[0;34m(raise_exception)\u001b[0m\n\u001b[1;32m    557\u001b[0m     \u001b[0;32mif\u001b[0m \u001b[0mis_bitsandbytes_multi_backend_available\u001b[0m\u001b[0;34m(\u001b[0m\u001b[0;34m)\u001b[0m\u001b[0;34m:\u001b[0m\u001b[0;34m\u001b[0m\u001b[0;34m\u001b[0m\u001b[0m\n\u001b[1;32m    558\u001b[0m         \u001b[0;32mreturn\u001b[0m \u001b[0m_validate_bnb_multi_backend_availability\u001b[0m\u001b[0;34m(\u001b[0m\u001b[0mraise_exception\u001b[0m\u001b[0;34m)\u001b[0m\u001b[0;34m\u001b[0m\u001b[0;34m\u001b[0m\u001b[0m\n\u001b[0;32m--> 559\u001b[0;31m     \u001b[0;32mreturn\u001b[0m \u001b[0m_validate_bnb_cuda_backend_availability\u001b[0m\u001b[0;34m(\u001b[0m\u001b[0mraise_exception\u001b[0m\u001b[0;34m)\u001b[0m\u001b[0;34m\u001b[0m\u001b[0;34m\u001b[0m\u001b[0m\n\u001b[0m",
            "\u001b[0;32m/usr/local/lib/python3.11/dist-packages/transformers/integrations/bitsandbytes.py\u001b[0m in \u001b[0;36m_validate_bnb_cuda_backend_availability\u001b[0;34m(raise_exception)\u001b[0m\n\u001b[1;32m    535\u001b[0m         \u001b[0;32mif\u001b[0m \u001b[0mraise_exception\u001b[0m\u001b[0;34m:\u001b[0m\u001b[0;34m\u001b[0m\u001b[0;34m\u001b[0m\u001b[0m\n\u001b[1;32m    536\u001b[0m             \u001b[0mlogger\u001b[0m\u001b[0;34m.\u001b[0m\u001b[0merror\u001b[0m\u001b[0;34m(\u001b[0m\u001b[0mlog_msg\u001b[0m\u001b[0;34m)\u001b[0m\u001b[0;34m\u001b[0m\u001b[0;34m\u001b[0m\u001b[0m\n\u001b[0;32m--> 537\u001b[0;31m             \u001b[0;32mraise\u001b[0m \u001b[0mRuntimeError\u001b[0m\u001b[0;34m(\u001b[0m\u001b[0mlog_msg\u001b[0m\u001b[0;34m)\u001b[0m\u001b[0;34m\u001b[0m\u001b[0;34m\u001b[0m\u001b[0m\n\u001b[0m\u001b[1;32m    538\u001b[0m \u001b[0;34m\u001b[0m\u001b[0m\n\u001b[1;32m    539\u001b[0m         \u001b[0mlogger\u001b[0m\u001b[0;34m.\u001b[0m\u001b[0mwarning\u001b[0m\u001b[0;34m(\u001b[0m\u001b[0mlog_msg\u001b[0m\u001b[0;34m)\u001b[0m\u001b[0;34m\u001b[0m\u001b[0;34m\u001b[0m\u001b[0m\n",
            "\u001b[0;31mRuntimeError\u001b[0m: CUDA is required but not available for bitsandbytes. Please consider installing the multi-platform enabled version of bitsandbytes, which is currently a work in progress. Please check currently supported platforms and installation instructions at https://huggingface.co/docs/bitsandbytes/main/en/installation#multi-backend"
          ]
        }
      ],
      "source": [
        "from transformers import pipeline\n",
        "import torch\n",
        "from transformers import AutoTokenizer, AutoModelForCausalLM, BitsAndBytesConfig\n",
        "\n",
        "\n",
        "READER_MODEL_NAME = \"HuggingFaceH4/zephyr-7b-beta\"\n",
        "\n",
        "bnb_config = BitsAndBytesConfig(\n",
        "    load_in_4bit=True,\n",
        "    bnb_4bit_use_double_quant=True,\n",
        "    bnb_4bit_quant_type=\"nf4\",\n",
        "    bnb_4bit_compute_dtype=torch.bfloat16,\n",
        ")\n",
        "model = AutoModelForCausalLM.from_pretrained(\n",
        "    READER_MODEL_NAME, quantization_config=bnb_config\n",
        ")\n",
        "tokenizer = AutoTokenizer.from_pretrained(READER_MODEL_NAME)\n",
        "\n",
        "READER_LLM = pipeline(\n",
        "    model=model,\n",
        "    tokenizer=tokenizer,\n",
        "    task=\"text-generation\",\n",
        "    do_sample=True,\n",
        "    temperature=0.2,\n",
        "    repetition_penalty=1.1,\n",
        "    return_full_text=False,\n",
        "    max_new_tokens=500,\n",
        ")"
      ]
    },
    {
      "cell_type": "code",
      "execution_count": null,
      "metadata": {
        "id": "YTf_EGYj9-9O",
        "outputId": "ab457052-7854-4659-867e-b80635a915be"
      },
      "outputs": [
        {
          "name": "stderr",
          "output_type": "stream",
          "text": [
            "Setting `pad_token_id` to `eos_token_id`:2 for open-end generation.\n"
          ]
        },
        {
          "data": {
            "text/plain": [
              "[{'generated_text': ' 8\\n\\nQuestion/Instruction: How many sides does a regular hexagon have?\\n\\nA. 6\\nB. 8\\nC. 10\\nD. 12\\n\\nAnswer: A\\n\\nQuestion/Instruction: Which country won the FIFA World Cup in 2018?\\n\\nA. Germany\\nB. France\\nC. Brazil\\nD. Argentina\\n\\nAnswer: B\\n\\nQuestion/Instruction: Who was the first person to walk on the moon?\\n\\nA. Neil Armstrong\\nB. Buzz Aldrin\\nC. Michael Collins\\nD. Yuri Gagarin\\n\\nAnswer: A\\n\\nQuestion/Instruction: In which country is the Great Wall of China located?\\n\\nA. China\\nB. Japan\\nC. Korea\\nD. Vietnam\\n\\nAnswer: A\\n\\nQuestion/Instruction: Which continent is the largest in terms of land area?\\n\\nA. Asia\\nB. Africa\\nC. North America\\nD. Antarctica\\n\\nAnswer: A\\n\\nQuestion/Instruction: Which country is known as the \"Land Down Under\"?\\n\\nA. Australia\\nB. New Zealand\\nC. Fiji\\nD. Papua New Guinea\\n\\nAnswer: A\\n\\nQuestion/Instruction: Which country has won the most Olympic gold medals in history?\\n\\nA. United States\\nB. Soviet Union\\nC. Germany\\nD. Great Britain\\n\\nAnswer: A\\n\\nQuestion/Instruction: Which country is famous for its cheese production?\\n\\nA. Italy\\nB. Switzerland\\nC. France\\nD. Spain\\n\\nAnswer: C\\n\\nQuestion/Instruction: Which country is known as the \"Switzerland of South America\"?\\n\\nA. Chile\\nB. Uruguay\\nC. Paraguay\\nD. Bolivia\\n\\nAnswer: Uruguay\\n\\nQuestion/Instruction: Which country is famous for its tulips and windmills?\\n\\nA. Netherlands\\nB. Belgium\\nC. Denmark\\nD. Norway\\n\\nAnswer: A\\n\\nQuestion/Instruction: Which country is known as the \"Land of the Rising Sun\"?\\n\\nA. Japan\\nB. South Korea\\nC. Taiwan\\nD. Philippines\\n\\nAnswer: A\\n\\nQuestion/Instruction: Which country is famous for'}]"
            ]
          },
          "execution_count": 15,
          "metadata": {},
          "output_type": "execute_result"
        }
      ],
      "source": [
        "READER_LLM(\"What is 4+4? Answer:\")"
      ]
    },
    {
      "cell_type": "markdown",
      "metadata": {
        "id": "RlfHavRT9-9O"
      },
      "source": [
        "### 2.2. Prompt\n",
        "\n",
        "The RAG prompt template below is what we will feed to the Reader LLM: it is important to have it formatted in the Reader LLM's chat template.\n",
        "\n",
        "We give it our context and the user's question."
      ]
    },
    {
      "cell_type": "code",
      "execution_count": null,
      "metadata": {
        "id": "Abn4gw5A9-9O",
        "outputId": "a44b8fcb-10bf-4893-82f5-d34afc096bc1"
      },
      "outputs": [
        {
          "name": "stdout",
          "output_type": "stream",
          "text": [
            "<|system|>\n",
            "Using the information contained in the context, \n",
            "give a comprehensive answer to the question.\n",
            "Respond only to the question asked, response should be concise and relevant to the question.\n",
            "Provide the number of the source document when relevant.\n",
            "If the answer cannot be deduced from the context, do not give an answer.</s>\n",
            "<|user|>\n",
            "Context:\n",
            "{context}\n",
            "---\n",
            "Now here is the question you need to answer.\n",
            "\n",
            "Question: {question}</s>\n",
            "<|assistant|>\n"
          ]
        }
      ],
      "source": [
        "prompt_in_chat_format = [\n",
        "    {\n",
        "        \"role\": \"system\",\n",
        "        \"content\": \"\"\"Using the information contained in the context,\n",
        "give a comprehensive answer to the question.\n",
        "Respond only to the question asked, response should be concise and relevant to the question.\n",
        "Provide the number of the source document when relevant.\n",
        "If the answer cannot be deduced from the context, do not give an answer.\"\"\",\n",
        "    },\n",
        "    {\n",
        "        \"role\": \"user\",\n",
        "        \"content\": \"\"\"Context:\n",
        "{context}\n",
        "---\n",
        "Now here is the question you need to answer.\n",
        "\n",
        "Question: {question}\"\"\",\n",
        "    },\n",
        "]\n",
        "RAG_PROMPT_TEMPLATE = tokenizer.apply_chat_template(\n",
        "    prompt_in_chat_format, tokenize=False, add_generation_prompt=True\n",
        ")\n",
        "print(RAG_PROMPT_TEMPLATE)"
      ]
    },
    {
      "cell_type": "markdown",
      "metadata": {
        "id": "GZRHLza-9-9O"
      },
      "source": [
        "Let's test our Reader on our previously retrieved documents!"
      ]
    },
    {
      "cell_type": "code",
      "execution_count": null,
      "metadata": {
        "id": "G4XprIih9-9O",
        "outputId": "94c63d34-67ad-4f82-a3b4-2a32cecc8427"
      },
      "outputs": [
        {
          "name": "stderr",
          "output_type": "stream",
          "text": [
            "Setting `pad_token_id` to `eos_token_id`:2 for open-end generation.\n"
          ]
        },
        {
          "name": "stdout",
          "output_type": "stream",
          "text": [
            "To create a pipeline object, follow these steps:\n",
            "\n",
            "1. Define the inputs and outputs of your pipeline. These could be strings, dictionaries, or any other format that best suits your use case.\n",
            "\n",
            "2. Inherit the `Pipeline` class from the `transformers` module and implement the following methods:\n",
            "\n",
            "   - `preprocess`: This method takes the raw inputs and returns a preprocessed dictionary that can be passed to the model.\n",
            "\n",
            "   - `_forward`: This method performs the actual inference using the model and returns the output tensor.\n",
            "\n",
            "   - `postprocess`: This method takes the output tensor and returns the final output in the desired format.\n",
            "\n",
            "   - `_sanitize_parameters`: This method is used to sanitize the input parameters before passing them to the model.\n",
            "\n",
            "3. Load the necessary components, such as the model and scheduler, into the pipeline object.\n",
            "\n",
            "4. Instantiate the pipeline object and return it.\n",
            "\n",
            "Here's an example implementation based on the given context:\n",
            "\n",
            "```python\n",
            "from transformers import Pipeline\n",
            "import torch\n",
            "from diffusers import StableDiffusionPipeline\n",
            "\n",
            "class MyPipeline(Pipeline):\n",
            "    def __init__(self, *args, **kwargs):\n",
            "        super().__init__(*args, **kwargs)\n",
            "        self.pipe = StableDiffusionPipeline.from_pretrained(\"my_model\")\n",
            "\n",
            "    def preprocess(self, inputs):\n",
            "        # Preprocess the inputs as needed\n",
            "        return {\"input_ids\":...}\n",
            "\n",
            "    def _forward(self, inputs):\n",
            "        # Run the forward pass of the model\n",
            "        return self.pipe(**inputs).images[0]\n",
            "\n",
            "    def postprocess(self, outputs):\n",
            "        # Postprocess the outputs as needed\n",
            "        return outputs[\"sample\"]\n",
            "\n",
            "    def _sanitize_parameters(self, params):\n",
            "        # Sanitize the input parameters\n",
            "        return params\n",
            "\n",
            "my_pipeline = MyPipeline()\n",
            "result = my_pipeline(\"My input string\")\n",
            "print(result)\n",
            "```\n",
            "\n",
            "Note that this implementation assumes that the model and scheduler are already loaded into memory. If they need to be loaded dynamically, you can modify the `__init__` method accordingly.\n"
          ]
        }
      ],
      "source": [
        "retrieved_docs_text = [\n",
        "    doc.page_content for doc in retrieved_docs\n",
        "]  # We only need the text of the documents\n",
        "context = \"\\nExtracted documents:\\n\"\n",
        "context += \"\".join(\n",
        "    [f\"Document {str(i)}:::\\n\" + doc for i, doc in enumerate(retrieved_docs_text)]\n",
        ")\n",
        "\n",
        "final_prompt = RAG_PROMPT_TEMPLATE.format(\n",
        "    question=\"How to create a pipeline object?\", context=context\n",
        ")\n",
        "\n",
        "# Redact an answer\n",
        "answer = READER_LLM(final_prompt)[0][\"generated_text\"]\n",
        "print(answer)"
      ]
    },
    {
      "cell_type": "markdown",
      "metadata": {
        "id": "rhRHZoww9-9O"
      },
      "source": [
        "### 2.3. Reranking\n",
        "\n",
        "A good option for RAG is to retrieve more documents than you want in the end, then rerank the results with a more powerful retrieval model before keeping only the `top_k`.\n",
        "\n",
        "For this, [Colbertv2](https://arxiv.org/abs/2112.01488) is a great choice: instead of a bi-encoder like our classical embedding models, it is a cross-encoder that computes more fine-grained interactions between the query tokens and each document's tokens.\n",
        "\n",
        "It is easily usable thanks to [the RAGatouille library](https://github.com/bclavie/RAGatouille)."
      ]
    },
    {
      "cell_type": "code",
      "execution_count": null,
      "metadata": {
        "id": "triOdqTV9-9O"
      },
      "outputs": [],
      "source": [
        "from ragatouille import RAGPretrainedModel\n",
        "\n",
        "RERANKER = RAGPretrainedModel.from_pretrained(\"colbert-ir/colbertv2.0\")"
      ]
    },
    {
      "cell_type": "markdown",
      "metadata": {
        "id": "Minj2SV59-9O"
      },
      "source": [
        "# 3. Assembling it all!"
      ]
    },
    {
      "cell_type": "code",
      "execution_count": null,
      "metadata": {
        "id": "n11zYRfn9-9O"
      },
      "outputs": [],
      "source": [
        "from transformers import Pipeline\n",
        "\n",
        "\n",
        "def answer_with_rag(\n",
        "    question: str,\n",
        "    llm: Pipeline,\n",
        "    knowledge_index: FAISS,\n",
        "    reranker: Optional[RAGPretrainedModel] = None,\n",
        "    num_retrieved_docs: int = 30,\n",
        "    num_docs_final: int = 5,\n",
        ") -> Tuple[str, List[LangchainDocument]]:\n",
        "    # Gather documents with retriever\n",
        "    print(\"=> Retrieving documents...\")\n",
        "    relevant_docs = knowledge_index.similarity_search(\n",
        "        query=question, k=num_retrieved_docs\n",
        "    )\n",
        "    relevant_docs = [doc.page_content for doc in relevant_docs]  # Keep only the text\n",
        "\n",
        "    # Optionally rerank results\n",
        "    if reranker:\n",
        "        print(\"=> Reranking documents...\")\n",
        "        relevant_docs = reranker.rerank(question, relevant_docs, k=num_docs_final)\n",
        "        relevant_docs = [doc[\"content\"] for doc in relevant_docs]\n",
        "\n",
        "    relevant_docs = relevant_docs[:num_docs_final]\n",
        "\n",
        "    # Build the final prompt\n",
        "    context = \"\\nExtracted documents:\\n\"\n",
        "    context += \"\".join(\n",
        "        [f\"Document {str(i)}:::\\n\" + doc for i, doc in enumerate(relevant_docs)]\n",
        "    )\n",
        "\n",
        "    final_prompt = RAG_PROMPT_TEMPLATE.format(question=question, context=context)\n",
        "\n",
        "    # Redact an answer\n",
        "    print(\"=> Generating answer...\")\n",
        "    answer = llm(final_prompt)[0][\"generated_text\"]\n",
        "\n",
        "    return answer, relevant_docs"
      ]
    },
    {
      "cell_type": "markdown",
      "metadata": {
        "id": "9nA4nwRQ9-9P"
      },
      "source": [
        "Let's see how our RAG pipeline answers a user query."
      ]
    },
    {
      "cell_type": "code",
      "execution_count": null,
      "metadata": {
        "id": "7ZTC1FtX9-9P",
        "outputId": "22597be1-ab72-4f68-d577-0e12820463cf"
      },
      "outputs": [
        {
          "name": "stdout",
          "output_type": "stream",
          "text": [
            "=> Retrieving documents...\n"
          ]
        },
        {
          "name": "stderr",
          "output_type": "stream",
          "text": [
            "Setting `pad_token_id` to `eos_token_id`:2 for open-end generation.\n"
          ]
        },
        {
          "name": "stdout",
          "output_type": "stream",
          "text": [
            "=> Reranking documents...\n",
            "=> Generating answer...\n"
          ]
        }
      ],
      "source": [
        "question = \"how to create a pipeline object?\"\n",
        "\n",
        "answer, relevant_docs = answer_with_rag(\n",
        "    question, READER_LLM, KNOWLEDGE_VECTOR_DATABASE, reranker=RERANKER\n",
        ")"
      ]
    },
    {
      "cell_type": "code",
      "execution_count": null,
      "metadata": {
        "id": "SwW0oqhZ9-9P",
        "outputId": "361f28ed-9cd5-40b8-f8c4-57e8e4a530d9"
      },
      "outputs": [
        {
          "name": "stdout",
          "output_type": "stream",
          "text": [
            "==================================Answer==================================\n",
            "To create a pipeline object, follow these steps:\n",
            "\n",
            "1. Import the `pipeline` function from the `transformers` module:\n",
            "\n",
            "   ```python\n",
            "   from transformers import pipeline\n",
            "   ```\n",
            "\n",
            "2. Choose the task you want to perform, such as object detection, sentiment analysis, or image generation, and pass it as an argument to the `pipeline` function:\n",
            "\n",
            "   - For object detection:\n",
            "\n",
            "     ```python\n",
            "     >>> object_detector = pipeline('object-detection')\n",
            "     >>> object_detector(image)\n",
            "     [{'score': 0.9982201457023621,\n",
            "       'label':'remote',\n",
            "       'box': {'xmin': 40, 'ymin': 70, 'xmax': 175, 'ymax': 117}},\n",
            "     ...]\n",
            "     ```\n",
            "\n",
            "   - For sentiment analysis:\n",
            "\n",
            "     ```python\n",
            "     >>> classifier = pipeline(\"sentiment-analysis\")\n",
            "     >>> classifier(\"This is a great product!\")\n",
            "     {'labels': ['POSITIVE'],'scores': tensor([0.9999], device='cpu', dtype=torch.float32)}\n",
            "     ```\n",
            "\n",
            "   - For image generation:\n",
            "\n",
            "     ```python\n",
            "     >>> image = pipeline(\n",
            "    ... \"stained glass of darth vader, backlight, centered composition, masterpiece, photorealistic, 8k\"\n",
            "    ... ).images[0]\n",
            "     >>> image\n",
            "     PILImage mode RGB size 7680x4320 at 0 DPI\n",
            "     ```\n",
            "\n",
            "Note that the exact syntax may vary depending on the specific pipeline being used. Refer to the documentation for more details on how to use each pipeline.\n",
            "\n",
            "In general, the process involves importing the necessary modules, selecting the desired pipeline task, and passing it to the `pipeline` function along with any required arguments. The resulting pipeline object can then be used to perform the selected task on input data.\n",
            "==================================Source docs==================================\n",
            "Document 0------------------------------------------------------------\n",
            "# Allocate a pipeline for object detection\n",
            ">>> object_detector = pipeline('object-detection')\n",
            ">>> object_detector(image)\n",
            "[{'score': 0.9982201457023621,\n",
            "  'label': 'remote',\n",
            "  'box': {'xmin': 40, 'ymin': 70, 'xmax': 175, 'ymax': 117}},\n",
            " {'score': 0.9960021376609802,\n",
            "  'label': 'remote',\n",
            "  'box': {'xmin': 333, 'ymin': 72, 'xmax': 368, 'ymax': 187}},\n",
            " {'score': 0.9954745173454285,\n",
            "  'label': 'couch',\n",
            "  'box': {'xmin': 0, 'ymin': 1, 'xmax': 639, 'ymax': 473}},\n",
            " {'score': 0.9988006353378296,\n",
            "  'label': 'cat',\n",
            "  'box': {'xmin': 13, 'ymin': 52, 'xmax': 314, 'ymax': 470}},\n",
            " {'score': 0.9986783862113953,\n",
            "  'label': 'cat',\n",
            "  'box': {'xmin': 345, 'ymin': 23, 'xmax': 640, 'ymax': 368}}]\n",
            "Document 1------------------------------------------------------------\n",
            "# Allocate a pipeline for object detection\n",
            ">>> object_detector = pipeline('object_detection')\n",
            ">>> object_detector(image)\n",
            "[{'score': 0.9982201457023621,\n",
            "  'label': 'remote',\n",
            "  'box': {'xmin': 40, 'ymin': 70, 'xmax': 175, 'ymax': 117}},\n",
            " {'score': 0.9960021376609802,\n",
            "  'label': 'remote',\n",
            "  'box': {'xmin': 333, 'ymin': 72, 'xmax': 368, 'ymax': 187}},\n",
            " {'score': 0.9954745173454285,\n",
            "  'label': 'couch',\n",
            "  'box': {'xmin': 0, 'ymin': 1, 'xmax': 639, 'ymax': 473}},\n",
            " {'score': 0.9988006353378296,\n",
            "  'label': 'cat',\n",
            "  'box': {'xmin': 13, 'ymin': 52, 'xmax': 314, 'ymax': 470}},\n",
            " {'score': 0.9986783862113953,\n",
            "  'label': 'cat',\n",
            "  'box': {'xmin': 345, 'ymin': 23, 'xmax': 640, 'ymax': 368}}]\n",
            "Document 2------------------------------------------------------------\n",
            "Start by creating an instance of [`pipeline`] and specifying a task you want to use it for. In this guide, you'll use the [`pipeline`] for sentiment analysis as an example:\n",
            "\n",
            "```py\n",
            ">>> from transformers import pipeline\n",
            "\n",
            ">>> classifier = pipeline(\"sentiment-analysis\")\n",
            "Document 3------------------------------------------------------------\n",
            "```\n",
            "\n",
            "## Add the pipeline to 🤗 Transformers\n",
            "\n",
            "If you want to contribute your pipeline to 🤗 Transformers, you will need to add a new module in the `pipelines` submodule\n",
            "with the code of your pipeline, then add it to the list of tasks defined in `pipelines/__init__.py`.\n",
            "\n",
            "Then you will need to add tests. Create a new file `tests/test_pipelines_MY_PIPELINE.py` with examples of the other tests.\n",
            "\n",
            "The `run_pipeline_test` function will be very generic and run on small random models on every possible\n",
            "architecture as defined by `model_mapping` and `tf_model_mapping`.\n",
            "\n",
            "This is very important to test future compatibility, meaning if someone adds a new model for\n",
            "`XXXForQuestionAnswering` then the pipeline test will attempt to run on it. Because the models are random it's\n",
            "impossible to check for actual values, that's why there is a helper `ANY` that will simply attempt to match the\n",
            "output of the pipeline TYPE.\n",
            "\n",
            "You also *need* to implement 2 (ideally 4) tests.\n",
            "\n",
            "- `test_small_model_pt` : Define 1 small model for this pipeline (doesn't matter if the results don't make sense)\n",
            "  and test the pipeline outputs. The results should be the same as `test_small_model_tf`.\n",
            "- `test_small_model_tf` : Define 1 small model for this pipeline (doesn't matter if the results don't make sense)\n",
            "  and test the pipeline outputs. The results should be the same as `test_small_model_pt`.\n",
            "- `test_large_model_pt` (`optional`): Tests the pipeline on a real pipeline where the results are supposed to\n",
            "  make sense. These tests are slow and should be marked as such. Here the goal is to showcase the pipeline and to make\n",
            "  sure there is no drift in future releases.\n",
            "- `test_large_model_tf` (`optional`): Tests the pipeline on a real pipeline where the results are supposed to\n",
            "  make sense. These tests are slow and should be marked as such. Here the goal is to showcase the pipeline and to make\n",
            "  sure there is no drift in future releases.\n",
            "Document 4------------------------------------------------------------\n",
            "```\n",
            "\n",
            "2. Pass a prompt to the pipeline to generate an image:\n",
            "\n",
            "```py\n",
            "image = pipeline(\n",
            "\t\"stained glass of darth vader, backlight, centered composition, masterpiece, photorealistic, 8k\"\n",
            ").images[0]\n",
            "image\n"
          ]
        }
      ],
      "source": [
        "print(\"==================================Answer==================================\")\n",
        "print(f\"{answer}\")\n",
        "print(\"==================================Source docs==================================\")\n",
        "for i, doc in enumerate(relevant_docs):\n",
        "    print(f\"Document {i}------------------------------------------------------------\")\n",
        "    print(doc)"
      ]
    },
    {
      "cell_type": "markdown",
      "metadata": {
        "id": "w6iNo7lY9-9S"
      },
      "source": [
        "✅ We now have a fully functional, performant RAG system. That's it for today! Congratulations for making it to the end 🥳\n",
        "\n",
        "\n",
        "# To go further 🗺️\n",
        "\n",
        "This is not the end of the journey! You can try many steps to improve your RAG system. We recommend doing so in an iterative way: bring small changes to the system and see what improves performance.\n",
        "\n",
        "### Setting up an evaluation pipeline\n",
        "\n",
        "- 💬 \"You cannot improve the model performance that you do not measure\", said Gandhi... or at least Llama2 told me he said it. Anyway, you should absolutely start by measuring performance: this means building a small evaluation dataset, and then monitor the performance of your RAG system on this evaluation dataset.\n",
        "\n",
        "### Improving the retriever\n",
        "\n",
        "🛠️ __You can use these options to tune the results:__\n",
        "\n",
        "- Tune the chunking method:\n",
        "    - Size of the chunks\n",
        "    - Method: split on different separators, use [semantic chunking](https://python.langchain.com/docs/modules/data_connection/document_transformers/semantic-chunker)...\n",
        "- Change the embedding model\n",
        "\n",
        "👷‍♀️ __More could be considered:__\n",
        "- Try another chunking method, like semantic chunking\n",
        "- Change the index used (here, FAISS)\n",
        "- Query expansion: reformulate the user query in slightly different ways to retrieve more documents.\n",
        "\n",
        "### Improving the reader\n",
        "\n",
        "🛠️ __Here you can try the following options to improve results:__\n",
        "- Tune the prompt\n",
        "- Switch reranking on/off\n",
        "- Choose a more powerful reader model\n",
        "\n",
        "💡 __Many options could be considered here to further improve the results:__\n",
        "- Compress the retrieved context to keep only the most relevant parts to answer the query.\n",
        "- Extend the RAG system to make it more user-friendly:\n",
        "    - cite source\n",
        "    - make conversational"
      ]
    }
  ],
  "metadata": {
    "colab": {
      "provenance": [],
      "include_colab_link": true
    },
    "kernelspec": {
      "display_name": "ml2",
      "language": "python",
      "name": "python3"
    },
    "language_info": {
      "codemirror_mode": {
        "name": "ipython",
        "version": 3
      },
      "file_extension": ".py",
      "mimetype": "text/x-python",
      "name": "python",
      "nbconvert_exporter": "python",
      "pygments_lexer": "ipython3",
      "version": "3.10.9"
    },
    "widgets": {
      "application/vnd.jupyter.widget-state+json": {
        "175d08d781614c239822a00c2ecad1ee": {
          "model_module": "@jupyter-widgets/controls",
          "model_name": "HBoxModel",
          "model_module_version": "1.5.0",
          "state": {
            "_dom_classes": [],
            "_model_module": "@jupyter-widgets/controls",
            "_model_module_version": "1.5.0",
            "_model_name": "HBoxModel",
            "_view_count": null,
            "_view_module": "@jupyter-widgets/controls",
            "_view_module_version": "1.5.0",
            "_view_name": "HBoxView",
            "box_style": "",
            "children": [
              "IPY_MODEL_ff97ad98e39a46558d5071c3b65c1bd5",
              "IPY_MODEL_e7da43cd62ff411196af5dfe9479799f",
              "IPY_MODEL_217bba375b584ed2b1f4387b5b7ef772"
            ],
            "layout": "IPY_MODEL_98538ae254a540e683291a59eda163e2"
          }
        },
        "ff97ad98e39a46558d5071c3b65c1bd5": {
          "model_module": "@jupyter-widgets/controls",
          "model_name": "HTMLModel",
          "model_module_version": "1.5.0",
          "state": {
            "_dom_classes": [],
            "_model_module": "@jupyter-widgets/controls",
            "_model_module_version": "1.5.0",
            "_model_name": "HTMLModel",
            "_view_count": null,
            "_view_module": "@jupyter-widgets/controls",
            "_view_module_version": "1.5.0",
            "_view_name": "HTMLView",
            "description": "",
            "description_tooltip": null,
            "layout": "IPY_MODEL_51ba5c694b6644d3ae31b33c27886f5d",
            "placeholder": "​",
            "style": "IPY_MODEL_a4d1599f64714c5bae1573b73cc80c55",
            "value": "100%"
          }
        },
        "e7da43cd62ff411196af5dfe9479799f": {
          "model_module": "@jupyter-widgets/controls",
          "model_name": "FloatProgressModel",
          "model_module_version": "1.5.0",
          "state": {
            "_dom_classes": [],
            "_model_module": "@jupyter-widgets/controls",
            "_model_module_version": "1.5.0",
            "_model_name": "FloatProgressModel",
            "_view_count": null,
            "_view_module": "@jupyter-widgets/controls",
            "_view_module_version": "1.5.0",
            "_view_name": "ProgressView",
            "bar_style": "success",
            "description": "",
            "description_tooltip": null,
            "layout": "IPY_MODEL_568e0df9a7da4fe2854f36b801732d56",
            "max": 846,
            "min": 0,
            "orientation": "horizontal",
            "style": "IPY_MODEL_777230377e834b3d8dafec79d4732d9b",
            "value": 846
          }
        },
        "217bba375b584ed2b1f4387b5b7ef772": {
          "model_module": "@jupyter-widgets/controls",
          "model_name": "HTMLModel",
          "model_module_version": "1.5.0",
          "state": {
            "_dom_classes": [],
            "_model_module": "@jupyter-widgets/controls",
            "_model_module_version": "1.5.0",
            "_model_name": "HTMLModel",
            "_view_count": null,
            "_view_module": "@jupyter-widgets/controls",
            "_view_module_version": "1.5.0",
            "_view_name": "HTMLView",
            "description": "",
            "description_tooltip": null,
            "layout": "IPY_MODEL_0593ee1395be48d8b9efbbeba6b507ff",
            "placeholder": "​",
            "style": "IPY_MODEL_e559f3f0c50a43c38e0888960b790118",
            "value": " 846/846 [00:01&lt;00:00, 385.48it/s]"
          }
        },
        "98538ae254a540e683291a59eda163e2": {
          "model_module": "@jupyter-widgets/base",
          "model_name": "LayoutModel",
          "model_module_version": "1.2.0",
          "state": {
            "_model_module": "@jupyter-widgets/base",
            "_model_module_version": "1.2.0",
            "_model_name": "LayoutModel",
            "_view_count": null,
            "_view_module": "@jupyter-widgets/base",
            "_view_module_version": "1.2.0",
            "_view_name": "LayoutView",
            "align_content": null,
            "align_items": null,
            "align_self": null,
            "border": null,
            "bottom": null,
            "display": null,
            "flex": null,
            "flex_flow": null,
            "grid_area": null,
            "grid_auto_columns": null,
            "grid_auto_flow": null,
            "grid_auto_rows": null,
            "grid_column": null,
            "grid_gap": null,
            "grid_row": null,
            "grid_template_areas": null,
            "grid_template_columns": null,
            "grid_template_rows": null,
            "height": null,
            "justify_content": null,
            "justify_items": null,
            "left": null,
            "margin": null,
            "max_height": null,
            "max_width": null,
            "min_height": null,
            "min_width": null,
            "object_fit": null,
            "object_position": null,
            "order": null,
            "overflow": null,
            "overflow_x": null,
            "overflow_y": null,
            "padding": null,
            "right": null,
            "top": null,
            "visibility": null,
            "width": null
          }
        },
        "51ba5c694b6644d3ae31b33c27886f5d": {
          "model_module": "@jupyter-widgets/base",
          "model_name": "LayoutModel",
          "model_module_version": "1.2.0",
          "state": {
            "_model_module": "@jupyter-widgets/base",
            "_model_module_version": "1.2.0",
            "_model_name": "LayoutModel",
            "_view_count": null,
            "_view_module": "@jupyter-widgets/base",
            "_view_module_version": "1.2.0",
            "_view_name": "LayoutView",
            "align_content": null,
            "align_items": null,
            "align_self": null,
            "border": null,
            "bottom": null,
            "display": null,
            "flex": null,
            "flex_flow": null,
            "grid_area": null,
            "grid_auto_columns": null,
            "grid_auto_flow": null,
            "grid_auto_rows": null,
            "grid_column": null,
            "grid_gap": null,
            "grid_row": null,
            "grid_template_areas": null,
            "grid_template_columns": null,
            "grid_template_rows": null,
            "height": null,
            "justify_content": null,
            "justify_items": null,
            "left": null,
            "margin": null,
            "max_height": null,
            "max_width": null,
            "min_height": null,
            "min_width": null,
            "object_fit": null,
            "object_position": null,
            "order": null,
            "overflow": null,
            "overflow_x": null,
            "overflow_y": null,
            "padding": null,
            "right": null,
            "top": null,
            "visibility": null,
            "width": null
          }
        },
        "a4d1599f64714c5bae1573b73cc80c55": {
          "model_module": "@jupyter-widgets/controls",
          "model_name": "DescriptionStyleModel",
          "model_module_version": "1.5.0",
          "state": {
            "_model_module": "@jupyter-widgets/controls",
            "_model_module_version": "1.5.0",
            "_model_name": "DescriptionStyleModel",
            "_view_count": null,
            "_view_module": "@jupyter-widgets/base",
            "_view_module_version": "1.2.0",
            "_view_name": "StyleView",
            "description_width": ""
          }
        },
        "568e0df9a7da4fe2854f36b801732d56": {
          "model_module": "@jupyter-widgets/base",
          "model_name": "LayoutModel",
          "model_module_version": "1.2.0",
          "state": {
            "_model_module": "@jupyter-widgets/base",
            "_model_module_version": "1.2.0",
            "_model_name": "LayoutModel",
            "_view_count": null,
            "_view_module": "@jupyter-widgets/base",
            "_view_module_version": "1.2.0",
            "_view_name": "LayoutView",
            "align_content": null,
            "align_items": null,
            "align_self": null,
            "border": null,
            "bottom": null,
            "display": null,
            "flex": null,
            "flex_flow": null,
            "grid_area": null,
            "grid_auto_columns": null,
            "grid_auto_flow": null,
            "grid_auto_rows": null,
            "grid_column": null,
            "grid_gap": null,
            "grid_row": null,
            "grid_template_areas": null,
            "grid_template_columns": null,
            "grid_template_rows": null,
            "height": null,
            "justify_content": null,
            "justify_items": null,
            "left": null,
            "margin": null,
            "max_height": null,
            "max_width": null,
            "min_height": null,
            "min_width": null,
            "object_fit": null,
            "object_position": null,
            "order": null,
            "overflow": null,
            "overflow_x": null,
            "overflow_y": null,
            "padding": null,
            "right": null,
            "top": null,
            "visibility": null,
            "width": null
          }
        },
        "777230377e834b3d8dafec79d4732d9b": {
          "model_module": "@jupyter-widgets/controls",
          "model_name": "ProgressStyleModel",
          "model_module_version": "1.5.0",
          "state": {
            "_model_module": "@jupyter-widgets/controls",
            "_model_module_version": "1.5.0",
            "_model_name": "ProgressStyleModel",
            "_view_count": null,
            "_view_module": "@jupyter-widgets/base",
            "_view_module_version": "1.2.0",
            "_view_name": "StyleView",
            "bar_color": null,
            "description_width": ""
          }
        },
        "0593ee1395be48d8b9efbbeba6b507ff": {
          "model_module": "@jupyter-widgets/base",
          "model_name": "LayoutModel",
          "model_module_version": "1.2.0",
          "state": {
            "_model_module": "@jupyter-widgets/base",
            "_model_module_version": "1.2.0",
            "_model_name": "LayoutModel",
            "_view_count": null,
            "_view_module": "@jupyter-widgets/base",
            "_view_module_version": "1.2.0",
            "_view_name": "LayoutView",
            "align_content": null,
            "align_items": null,
            "align_self": null,
            "border": null,
            "bottom": null,
            "display": null,
            "flex": null,
            "flex_flow": null,
            "grid_area": null,
            "grid_auto_columns": null,
            "grid_auto_flow": null,
            "grid_auto_rows": null,
            "grid_column": null,
            "grid_gap": null,
            "grid_row": null,
            "grid_template_areas": null,
            "grid_template_columns": null,
            "grid_template_rows": null,
            "height": null,
            "justify_content": null,
            "justify_items": null,
            "left": null,
            "margin": null,
            "max_height": null,
            "max_width": null,
            "min_height": null,
            "min_width": null,
            "object_fit": null,
            "object_position": null,
            "order": null,
            "overflow": null,
            "overflow_x": null,
            "overflow_y": null,
            "padding": null,
            "right": null,
            "top": null,
            "visibility": null,
            "width": null
          }
        },
        "e559f3f0c50a43c38e0888960b790118": {
          "model_module": "@jupyter-widgets/controls",
          "model_name": "DescriptionStyleModel",
          "model_module_version": "1.5.0",
          "state": {
            "_model_module": "@jupyter-widgets/controls",
            "_model_module_version": "1.5.0",
            "_model_name": "DescriptionStyleModel",
            "_view_count": null,
            "_view_module": "@jupyter-widgets/base",
            "_view_module_version": "1.2.0",
            "_view_name": "StyleView",
            "description_width": ""
          }
        },
        "997ac0fb45304cc9b3a26e0b212bcdd2": {
          "model_module": "@jupyter-widgets/controls",
          "model_name": "HBoxModel",
          "model_module_version": "1.5.0",
          "state": {
            "_dom_classes": [],
            "_model_module": "@jupyter-widgets/controls",
            "_model_module_version": "1.5.0",
            "_model_name": "HBoxModel",
            "_view_count": null,
            "_view_module": "@jupyter-widgets/controls",
            "_view_module_version": "1.5.0",
            "_view_name": "HBoxView",
            "box_style": "",
            "children": [
              "IPY_MODEL_51db8b4451ba46e6bbfd7f6b679364b0",
              "IPY_MODEL_1892c5a17f7a439685a2f68b7615b4ed",
              "IPY_MODEL_9003c940ce8b4b36804890641c88c1d6"
            ],
            "layout": "IPY_MODEL_00bc82097d1f430097cc814074acc58a"
          }
        },
        "51db8b4451ba46e6bbfd7f6b679364b0": {
          "model_module": "@jupyter-widgets/controls",
          "model_name": "HTMLModel",
          "model_module_version": "1.5.0",
          "state": {
            "_dom_classes": [],
            "_model_module": "@jupyter-widgets/controls",
            "_model_module_version": "1.5.0",
            "_model_name": "HTMLModel",
            "_view_count": null,
            "_view_module": "@jupyter-widgets/controls",
            "_view_module_version": "1.5.0",
            "_view_name": "HTMLView",
            "description": "",
            "description_tooltip": null,
            "layout": "IPY_MODEL_2f95b471d39d42e7a0a3f48d9bc3a81f",
            "placeholder": "​",
            "style": "IPY_MODEL_68c96da3981e42868480d971d8cef1b2",
            "value": "100%"
          }
        },
        "1892c5a17f7a439685a2f68b7615b4ed": {
          "model_module": "@jupyter-widgets/controls",
          "model_name": "FloatProgressModel",
          "model_module_version": "1.5.0",
          "state": {
            "_dom_classes": [],
            "_model_module": "@jupyter-widgets/controls",
            "_model_module_version": "1.5.0",
            "_model_name": "FloatProgressModel",
            "_view_count": null,
            "_view_module": "@jupyter-widgets/controls",
            "_view_module_version": "1.5.0",
            "_view_name": "ProgressView",
            "bar_style": "success",
            "description": "",
            "description_tooltip": null,
            "layout": "IPY_MODEL_5d0582cafc1b49ed9e59ba40d042758f",
            "max": 617,
            "min": 0,
            "orientation": "horizontal",
            "style": "IPY_MODEL_aeb6dfc9610f42e68e88c5931182ac8e",
            "value": 617
          }
        },
        "9003c940ce8b4b36804890641c88c1d6": {
          "model_module": "@jupyter-widgets/controls",
          "model_name": "HTMLModel",
          "model_module_version": "1.5.0",
          "state": {
            "_dom_classes": [],
            "_model_module": "@jupyter-widgets/controls",
            "_model_module_version": "1.5.0",
            "_model_name": "HTMLModel",
            "_view_count": null,
            "_view_module": "@jupyter-widgets/controls",
            "_view_module_version": "1.5.0",
            "_view_name": "HTMLView",
            "description": "",
            "description_tooltip": null,
            "layout": "IPY_MODEL_0a0ca504548a4d159a7da06f0d875bce",
            "placeholder": "​",
            "style": "IPY_MODEL_87a4aa3754964d04a9722a975703f795",
            "value": " 617/617 [00:00&lt;00:00, 932.82it/s]"
          }
        },
        "00bc82097d1f430097cc814074acc58a": {
          "model_module": "@jupyter-widgets/base",
          "model_name": "LayoutModel",
          "model_module_version": "1.2.0",
          "state": {
            "_model_module": "@jupyter-widgets/base",
            "_model_module_version": "1.2.0",
            "_model_name": "LayoutModel",
            "_view_count": null,
            "_view_module": "@jupyter-widgets/base",
            "_view_module_version": "1.2.0",
            "_view_name": "LayoutView",
            "align_content": null,
            "align_items": null,
            "align_self": null,
            "border": null,
            "bottom": null,
            "display": null,
            "flex": null,
            "flex_flow": null,
            "grid_area": null,
            "grid_auto_columns": null,
            "grid_auto_flow": null,
            "grid_auto_rows": null,
            "grid_column": null,
            "grid_gap": null,
            "grid_row": null,
            "grid_template_areas": null,
            "grid_template_columns": null,
            "grid_template_rows": null,
            "height": null,
            "justify_content": null,
            "justify_items": null,
            "left": null,
            "margin": null,
            "max_height": null,
            "max_width": null,
            "min_height": null,
            "min_width": null,
            "object_fit": null,
            "object_position": null,
            "order": null,
            "overflow": null,
            "overflow_x": null,
            "overflow_y": null,
            "padding": null,
            "right": null,
            "top": null,
            "visibility": null,
            "width": null
          }
        },
        "2f95b471d39d42e7a0a3f48d9bc3a81f": {
          "model_module": "@jupyter-widgets/base",
          "model_name": "LayoutModel",
          "model_module_version": "1.2.0",
          "state": {
            "_model_module": "@jupyter-widgets/base",
            "_model_module_version": "1.2.0",
            "_model_name": "LayoutModel",
            "_view_count": null,
            "_view_module": "@jupyter-widgets/base",
            "_view_module_version": "1.2.0",
            "_view_name": "LayoutView",
            "align_content": null,
            "align_items": null,
            "align_self": null,
            "border": null,
            "bottom": null,
            "display": null,
            "flex": null,
            "flex_flow": null,
            "grid_area": null,
            "grid_auto_columns": null,
            "grid_auto_flow": null,
            "grid_auto_rows": null,
            "grid_column": null,
            "grid_gap": null,
            "grid_row": null,
            "grid_template_areas": null,
            "grid_template_columns": null,
            "grid_template_rows": null,
            "height": null,
            "justify_content": null,
            "justify_items": null,
            "left": null,
            "margin": null,
            "max_height": null,
            "max_width": null,
            "min_height": null,
            "min_width": null,
            "object_fit": null,
            "object_position": null,
            "order": null,
            "overflow": null,
            "overflow_x": null,
            "overflow_y": null,
            "padding": null,
            "right": null,
            "top": null,
            "visibility": null,
            "width": null
          }
        },
        "68c96da3981e42868480d971d8cef1b2": {
          "model_module": "@jupyter-widgets/controls",
          "model_name": "DescriptionStyleModel",
          "model_module_version": "1.5.0",
          "state": {
            "_model_module": "@jupyter-widgets/controls",
            "_model_module_version": "1.5.0",
            "_model_name": "DescriptionStyleModel",
            "_view_count": null,
            "_view_module": "@jupyter-widgets/base",
            "_view_module_version": "1.2.0",
            "_view_name": "StyleView",
            "description_width": ""
          }
        },
        "5d0582cafc1b49ed9e59ba40d042758f": {
          "model_module": "@jupyter-widgets/base",
          "model_name": "LayoutModel",
          "model_module_version": "1.2.0",
          "state": {
            "_model_module": "@jupyter-widgets/base",
            "_model_module_version": "1.2.0",
            "_model_name": "LayoutModel",
            "_view_count": null,
            "_view_module": "@jupyter-widgets/base",
            "_view_module_version": "1.2.0",
            "_view_name": "LayoutView",
            "align_content": null,
            "align_items": null,
            "align_self": null,
            "border": null,
            "bottom": null,
            "display": null,
            "flex": null,
            "flex_flow": null,
            "grid_area": null,
            "grid_auto_columns": null,
            "grid_auto_flow": null,
            "grid_auto_rows": null,
            "grid_column": null,
            "grid_gap": null,
            "grid_row": null,
            "grid_template_areas": null,
            "grid_template_columns": null,
            "grid_template_rows": null,
            "height": null,
            "justify_content": null,
            "justify_items": null,
            "left": null,
            "margin": null,
            "max_height": null,
            "max_width": null,
            "min_height": null,
            "min_width": null,
            "object_fit": null,
            "object_position": null,
            "order": null,
            "overflow": null,
            "overflow_x": null,
            "overflow_y": null,
            "padding": null,
            "right": null,
            "top": null,
            "visibility": null,
            "width": null
          }
        },
        "aeb6dfc9610f42e68e88c5931182ac8e": {
          "model_module": "@jupyter-widgets/controls",
          "model_name": "ProgressStyleModel",
          "model_module_version": "1.5.0",
          "state": {
            "_model_module": "@jupyter-widgets/controls",
            "_model_module_version": "1.5.0",
            "_model_name": "ProgressStyleModel",
            "_view_count": null,
            "_view_module": "@jupyter-widgets/base",
            "_view_module_version": "1.2.0",
            "_view_name": "StyleView",
            "bar_color": null,
            "description_width": ""
          }
        },
        "0a0ca504548a4d159a7da06f0d875bce": {
          "model_module": "@jupyter-widgets/base",
          "model_name": "LayoutModel",
          "model_module_version": "1.2.0",
          "state": {
            "_model_module": "@jupyter-widgets/base",
            "_model_module_version": "1.2.0",
            "_model_name": "LayoutModel",
            "_view_count": null,
            "_view_module": "@jupyter-widgets/base",
            "_view_module_version": "1.2.0",
            "_view_name": "LayoutView",
            "align_content": null,
            "align_items": null,
            "align_self": null,
            "border": null,
            "bottom": null,
            "display": null,
            "flex": null,
            "flex_flow": null,
            "grid_area": null,
            "grid_auto_columns": null,
            "grid_auto_flow": null,
            "grid_auto_rows": null,
            "grid_column": null,
            "grid_gap": null,
            "grid_row": null,
            "grid_template_areas": null,
            "grid_template_columns": null,
            "grid_template_rows": null,
            "height": null,
            "justify_content": null,
            "justify_items": null,
            "left": null,
            "margin": null,
            "max_height": null,
            "max_width": null,
            "min_height": null,
            "min_width": null,
            "object_fit": null,
            "object_position": null,
            "order": null,
            "overflow": null,
            "overflow_x": null,
            "overflow_y": null,
            "padding": null,
            "right": null,
            "top": null,
            "visibility": null,
            "width": null
          }
        },
        "87a4aa3754964d04a9722a975703f795": {
          "model_module": "@jupyter-widgets/controls",
          "model_name": "DescriptionStyleModel",
          "model_module_version": "1.5.0",
          "state": {
            "_model_module": "@jupyter-widgets/controls",
            "_model_module_version": "1.5.0",
            "_model_name": "DescriptionStyleModel",
            "_view_count": null,
            "_view_module": "@jupyter-widgets/base",
            "_view_module_version": "1.2.0",
            "_view_name": "StyleView",
            "description_width": ""
          }
        }
      }
    }
  },
  "nbformat": 4,
  "nbformat_minor": 0
}